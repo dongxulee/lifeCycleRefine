{
 "cells": [
  {
   "cell_type": "code",
   "execution_count": 6,
   "id": "cae474be-b817-40ee-bd3f-19507dbc4347",
   "metadata": {},
   "outputs": [
    {
     "name": "stdout",
     "output_type": "stream",
     "text": [
      "Populating the interactive namespace from numpy and matplotlib\n"
     ]
    }
   ],
   "source": [
    "%pylab inline\n",
    "from richLowCost_copy import * \n",
    "Vgrid = np.load(\"richLow.npy\")\n",
    "matplotlib.rcParams['figure.figsize'] = [16, 8]\n",
    "plt.rcParams.update({'font.size': 15})"
   ]
  },
  {
   "cell_type": "code",
   "execution_count": 7,
   "id": "6749caf9-abab-4180-8145-5403894df17c",
   "metadata": {},
   "outputs": [
    {
     "name": "stdout",
     "output_type": "stream",
     "text": [
      "CPU times: user 55.3 s, sys: 4.01 s, total: 59.3 s\n",
      "Wall time: 15.4 s\n"
     ]
    }
   ],
   "source": [
    "%%time\n",
    "t = 50\n",
    "v,cbkha = vmap(partial(V,t,Vgrid[:,:,:,:,:,:,:,t+1]))(Xs)"
   ]
  },
  {
   "cell_type": "code",
   "execution_count": 11,
   "id": "6043e13e-55f8-4f55-a697-26e895fefd87",
   "metadata": {},
   "outputs": [],
   "source": [
    "from jax.scipy.optimize import minimize"
   ]
  },
  {
   "cell_type": "code",
   "execution_count": 13,
   "id": "5ff46ce1-9ca5-4792-8f3e-8746ae1b504e",
   "metadata": {},
   "outputs": [
    {
     "data": {
      "text/plain": [
       "DeviceArray([[1, 0, 0],\n",
       "             [1, 1, 0],\n",
       "             [1, 0, 1],\n",
       "             [1, 1, 1]], dtype=int32)"
      ]
     },
     "execution_count": 13,
     "metadata": {},
     "output_type": "execute_result"
    }
   ],
   "source": [
    "As"
   ]
  },
  {
   "cell_type": "code",
   "execution_count": null,
   "id": "89d242c4-8b3b-4bf9-89cb-9366fc681fe6",
   "metadata": {
    "tags": []
   },
   "outputs": [],
   "source": [
    "# pc*qc / (ph*qh) = alpha/(1-alpha)\n",
    "@partial(jit, static_argnums=(0,))\n",
    "def feasibleActions(t, x, consumptionRatio, stockInvestingRatio):\n",
    "    # owner\n",
    "    sell = As[:,2]\n",
    "    \n",
    "    # last term is the tax deduction of the interest portion of mortgage payment\n",
    "    payment = (x[2] > 0)*(((t<=T_R)*tau_L + (t>T_R)*tau_R)*x[2]*rh - m)\n",
    "    sell = (yAT(t,x) + x[0] + payment > 0)*jnp.zeros(nA) + (yAT(t,x) + x[0] + payment <= 0)*jnp.ones(nA)\n",
    "    budget1 = yAT(t,x) + x[0] + (1-sell)*payment + sell*(H*pt - x[2] - c_s)\n",
    "    \n",
    "    # last term is the tax deduction of the interest portion of mortgage payment    \n",
    "#     consumptionRatio = As[:,0]*((t>=0 and t<20)*(2.0/3)) + As[:,0]*((t>=20 and t<40)*(1.0/3)) + As[:,0]*((t>=40 and t<=60)*(2.0/3))\n",
    "    h = jnp.ones(nA)*H*(1+kappa)*(1-sell) + sell*jnp.clip(budget1*consumptionRatio*(1-alpha)/pr, a_max = Rl)\n",
    "    c = budget1*consumptionRatio*(1-sell) + sell*(budget1*consumptionRatio - h*pr)\n",
    "    budget2 = budget1*(1-consumptionRatio)\n",
    "    # stock investing Ratio \n",
    "#     stockInvestingRatio = (As[:,1]*(100-(t+20))/100)\n",
    "    k = budget2*stockInvestingRatio\n",
    "    k = (k - (1-x[6])*(k>0)*c_k)*(1-Kc)\n",
    "    b = budget2*(1-stockInvestingRatio)\n",
    "    owner_action = jnp.column_stack((c,b,k,h,sell)) \n",
    "    \n",
    "    \n",
    "    # renter\n",
    "    buy = As[:,2]*(t < 30)\n",
    "    budget1 = yAT(t,x) + x[0] - buy*(H*pt*0.2 + c_h)\n",
    "    h = jnp.clip(budget1*consumptionRatio*(1-alpha)/pr, a_max = Rl)*(1-buy) + buy*jnp.ones(nA)*H*(1+kappa)\n",
    "    c = (budget1*consumptionRatio - h*pr)*(1-buy) + buy*budget1*consumptionRatio\n",
    "    budget2 = budget1*(1-consumptionRatio)\n",
    "    k = budget2*stockInvestingRatio\n",
    "    k = (k - (1-x[6])*(k>0)*c_k)*(1-Kc)\n",
    "    b = budget2*(1-stockInvestingRatio)\n",
    "    renter_action = jnp.column_stack((c,b,k,h,buy))\n",
    "    \n",
    "    actions = x[5]*owner_action + (1-x[5])*renter_action\n",
    "    return actions\n",
    "\n",
    "@partial(jit, static_argnums=(0,))\n",
    "def V(t,V_next,x):\n",
    "    '''\n",
    "    x = [w,n,m,s,e,o,z]\n",
    "    x = [0,1,2,3,4,5]\n",
    "    xp:\n",
    "        w_next    0\n",
    "        n_next    1\n",
    "        m_next    2\n",
    "        s_next    3\n",
    "        e_next    4\n",
    "        o_next    5\n",
    "        z_next    6\n",
    "        prob_next 7\n",
    "    '''\n",
    "    actions = feasibleActions(t,x)\n",
    "    xp = transition(t,actions,x)\n",
    "    # bequeath utility\n",
    "    TB = xp[:,0]+x[1]*(1+r_bar)+xp[:,5]*(H*pt-x[2]*(1+rh)-25)\n",
    "    bequeathU = uB(TB)\n",
    "    if t == T_max-1:\n",
    "        Q = R(x,actions) + beta * dotProduct(xp[:,7], bequeathU)\n",
    "    else:\n",
    "        Q = R(x,actions) + beta * dotProduct(xp[:,7], Pa[t]*fit(V_next, xp) + (1-Pa[t])*bequeathU)\n",
    "    Q = jnp.nan_to_num(Q, nan = -jnp.inf)\n",
    "    v = Q.max()\n",
    "    cbkha = actions[Q.argmax()]\n",
    "    return v, cbkha"
   ]
  }
 ],
 "metadata": {
  "kernelspec": {
   "display_name": "Python 3",
   "language": "python",
   "name": "python3"
  },
  "language_info": {
   "codemirror_mode": {
    "name": "ipython",
    "version": 3
   },
   "file_extension": ".py",
   "mimetype": "text/x-python",
   "name": "python",
   "nbconvert_exporter": "python",
   "pygments_lexer": "ipython3",
   "version": "3.8.8"
  }
 },
 "nbformat": 4,
 "nbformat_minor": 5
}
