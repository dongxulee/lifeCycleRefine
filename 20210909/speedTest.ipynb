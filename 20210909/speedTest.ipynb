{
 "cells": [
  {
   "cell_type": "code",
   "execution_count": 1,
   "id": "cae474be-b817-40ee-bd3f-19507dbc4347",
   "metadata": {},
   "outputs": [
    {
     "name": "stdout",
     "output_type": "stream",
     "text": [
      "Populating the interactive namespace from numpy and matplotlib\n"
     ]
    },
    {
     "name": "stderr",
     "output_type": "stream",
     "text": [
      "WARNING:absl:No GPU/TPU found, falling back to CPU. (Set TF_CPP_MIN_LOG_LEVEL=0 and rerun for more info.)\n"
     ]
    }
   ],
   "source": [
    "%pylab inline\n",
    "from richLowCost_copy import * \n",
    "Vgrid = np.load(\"richLow.npy\")\n",
    "matplotlib.rcParams['figure.figsize'] = [16, 8]\n",
    "plt.rcParams.update({'font.size': 15})"
   ]
  },
  {
   "cell_type": "code",
   "execution_count": 2,
   "id": "6749caf9-abab-4180-8145-5403894df17c",
   "metadata": {},
   "outputs": [
    {
     "name": "stdout",
     "output_type": "stream",
     "text": [
      "CPU times: user 54.4 s, sys: 2.42 s, total: 56.8 s\n",
      "Wall time: 14 s\n"
     ]
    }
   ],
   "source": [
    "%%time\n",
    "t = 50\n",
    "v,cbkha = vmap(partial(V,t,Vgrid[:,:,:,:,:,:,:,t+1]))(Xs)"
   ]
  },
  {
   "cell_type": "code",
   "execution_count": 3,
   "id": "6043e13e-55f8-4f55-a697-26e895fefd87",
   "metadata": {},
   "outputs": [],
   "source": [
    "from jax.scipy.optimize import minimize"
   ]
  },
  {
   "cell_type": "code",
   "execution_count": 14,
   "id": "89d242c4-8b3b-4bf9-89cb-9366fc681fe6",
   "metadata": {
    "tags": []
   },
   "outputs": [],
   "source": [
    "# pc*qc / (ph*qh) = alpha/(1-alpha)\n",
    "@partial(jit, static_argnums=(0,))\n",
    "def feasibleActions(t, x, consumptionRatio, stockInvestingRatio):\n",
    "    # owner\n",
    "    sell = As[:,2]\n",
    "    \n",
    "    # last term is the tax deduction of the interest portion of mortgage payment\n",
    "    payment = (x[2] > 0)*(((t<=T_R)*tau_L + (t>T_R)*tau_R)*x[2]*rh - m)\n",
    "    sell = (yAT(t,x) + x[0] + payment > 0)*jnp.zeros(nA) + (yAT(t,x) + x[0] + payment <= 0)*jnp.ones(nA)\n",
    "    budget1 = yAT(t,x) + x[0] + (1-sell)*payment + sell*(H*pt - x[2] - c_s)\n",
    "    \n",
    "    # last term is the tax deduction of the interest portion of mortgage payment    \n",
    "#     consumptionRatio = As[:,0]*((t>=0 and t<20)*(2.0/3)) + As[:,0]*((t>=20 and t<40)*(1.0/3)) + As[:,0]*((t>=40 and t<=60)*(2.0/3))\n",
    "    h = jnp.ones(nA)*H*(1+kappa)*(1-sell) + sell*jnp.clip(budget1*consumptionRatio*(1-alpha)/pr, a_max = Rl)\n",
    "    c = budget1*consumptionRatio*(1-sell) + sell*(budget1*consumptionRatio - h*pr)\n",
    "    budget2 = budget1*(1-consumptionRatio)\n",
    "    # stock investing Ratio \n",
    "#     stockInvestingRatio = (As[:,1]*(100-(t+20))/100)\n",
    "    k = budget2*stockInvestingRatio\n",
    "    k = (k - (1-x[6])*(k>0)*c_k)*(1-Kc)\n",
    "    b = budget2*(1-stockInvestingRatio)\n",
    "    owner_action = jnp.column_stack((c,b,k,h,sell)) \n",
    "    \n",
    "    \n",
    "    # renter\n",
    "    buy = As[:,2]*(t < 30)\n",
    "    budget1 = yAT(t,x) + x[0] - buy*(H*pt*0.2 + c_h)\n",
    "    h = jnp.clip(budget1*consumptionRatio*(1-alpha)/pr, a_max = Rl)*(1-buy) + buy*jnp.ones(nA)*H*(1+kappa)\n",
    "    c = (budget1*consumptionRatio - h*pr)*(1-buy) + buy*budget1*consumptionRatio\n",
    "    budget2 = budget1*(1-consumptionRatio)\n",
    "    k = budget2*stockInvestingRatio\n",
    "    k = (k - (1-x[6])*(k>0)*c_k)*(1-Kc)\n",
    "    b = budget2*(1-stockInvestingRatio)\n",
    "    renter_action = jnp.column_stack((c,b,k,h,buy))\n",
    "    \n",
    "    actions = x[5]*owner_action + (1-x[5])*renter_action\n",
    "    return actions\n",
    "\n",
    "@partial(jit, static_argnums=(0,))\n",
    "def V(t,V_next,x):\n",
    "    '''\n",
    "    x = [w,n,m,s,e,o,z]\n",
    "    x = [0,1,2,3,4,5]\n",
    "    xp:\n",
    "        w_next    0\n",
    "        n_next    1\n",
    "        m_next    2\n",
    "        s_next    3\n",
    "        e_next    4\n",
    "        o_next    5\n",
    "        z_next    6\n",
    "        prob_next 7\n",
    "    '''\n",
    "    def Q(consumptionRatioStockInvestingRatio):\n",
    "        actions = feasibleActions(t, x, jnp.exp(consumptionRatioStockInvestingRatio[0]), jnp.exp(consumptionRatioStockInvestingRatio[1]))\n",
    "        xp = transition(t,actions,x)\n",
    "        # bequeath utility\n",
    "        TB = xp[:,0]+x[1]*(1+r_bar)+xp[:,5]*(H*pt-x[2]*(1+rh)-25)\n",
    "        bequeathU = uB(TB)\n",
    "        if t == T_max-1:\n",
    "            QQ = R(x,actions) + beta * dotProduct(xp[:,7], bequeathU)\n",
    "        else:\n",
    "            QQ = R(x,actions) + beta * dotProduct(xp[:,7], Pa[t]*fit(V_next, xp) + (1-Pa[t])*bequeathU)\n",
    "        QQ = jnp.nan_to_num(QQ, nan = -jnp.inf)\n",
    "        v = QQ.max()\n",
    "        return v\n",
    "    return minimize(Q,jnp.array([0.5,0.5]),method = \"BFGS\")"
   ]
  },
  {
   "cell_type": "code",
   "execution_count": 15,
   "id": "5c371cc7-3957-47c5-bdb4-e9da1e6ba6c5",
   "metadata": {},
   "outputs": [
    {
     "name": "stdout",
     "output_type": "stream",
     "text": [
      "The slowest run took 5.19 times longer than the fastest. This could mean that an intermediate result is being cached.\n",
      "7.15 ms ± 3.96 ms per loop (mean ± std. dev. of 7 runs, 1 loop each)\n"
     ]
    }
   ],
   "source": [
    "t = 50\n",
    "partial(V,t,Vgrid[:,:,:,:,:,:,:,t+1])(Xs[0])"
   ]
  },
  {
   "cell_type": "code",
   "execution_count": 16,
   "id": "27df8223-4789-4d8d-9041-feb642f59dec",
   "metadata": {},
   "outputs": [
    {
     "data": {
      "text/plain": [
       "OptimizeResults(x=DeviceArray([0.5, 0.5], dtype=float32), success=DeviceArray(True, dtype=bool), status=DeviceArray(0, dtype=int32), fun=DeviceArray(-3.4028235e+38, dtype=float32), jac=DeviceArray([0., 0.], dtype=float32), hess_inv=DeviceArray([[1., 0.],\n",
       "             [0., 1.]], dtype=float32), nfev=DeviceArray(1, dtype=int32), njev=DeviceArray(1, dtype=int32), nit=DeviceArray(0, dtype=int32))"
      ]
     },
     "execution_count": 16,
     "metadata": {},
     "output_type": "execute_result"
    }
   ],
   "source": [
    "t = 50\n",
    "partial(V,t,Vgrid[:,:,:,:,:,:,:,t+1])(Xs[2])"
   ]
  },
  {
   "cell_type": "code",
   "execution_count": null,
   "id": "b92918b1-358d-4f98-9475-8791a9a3df45",
   "metadata": {},
   "outputs": [],
   "source": []
  }
 ],
 "metadata": {
  "kernelspec": {
   "display_name": "Python 3",
   "language": "python",
   "name": "python3"
  },
  "language_info": {
   "codemirror_mode": {
    "name": "ipython",
    "version": 3
   },
   "file_extension": ".py",
   "mimetype": "text/x-python",
   "name": "python",
   "nbconvert_exporter": "python",
   "pygments_lexer": "ipython3",
   "version": "3.8.8"
  }
 },
 "nbformat": 4,
 "nbformat_minor": 5
}
