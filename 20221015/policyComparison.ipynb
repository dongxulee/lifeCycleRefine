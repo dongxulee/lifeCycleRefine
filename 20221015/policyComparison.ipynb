{
 "cells": [
  {
   "cell_type": "code",
   "execution_count": null,
   "id": "1b5902c7",
   "metadata": {},
   "outputs": [],
   "source": [
    "import pandas as pd\n",
    "import numpy as np\n",
    "from jax import jit, vmap\n",
    "from functools import partial\n",
    "from tqdm import tqdm\n",
    "import jax.numpy as jnp \n",
    "\n",
    "%pylab inline\n",
    "matplotlib.rcParams['figure.figsize'] = [20, 10]\n",
    "plt.rcParams.update({'font.size': 20})\n",
    "\n",
    "wealthGrid = jnp.linspace(0, 300, 600)"
   ]
  },
  {
   "cell_type": "code",
   "execution_count": null,
   "id": "ff124326",
   "metadata": {},
   "outputs": [],
   "source": [
    "agentType = \"richLow\"\n",
    "beta_r = 0.02\n",
    "gamma = 4.0\n",
    "\n",
    "from shutDownHousing.solveMDP import *\n",
    "\n",
    "def actions(t, x, agentType = agentType, beta_r = beta_r, gamma = gamma):\n",
    "    '''\n",
    "        a = [c,b,k,h,action]\n",
    "    '''\n",
    "    return policy(beta_r, agentType, gamma, t, x)\n",
    "\n",
    "# participation decision boundary \n",
    "ageDependentActions = []\n",
    "for t in tqdm(range(60-1)):\n",
    "    \n",
    "    # condition on no house, unemployed, no experience \n",
    "    ab = 0\n",
    "    s = 0\n",
    "    e = 0\n",
    "    o = 0\n",
    "    z = 0\n",
    "    Xs = jnp.array([[w,ab,s,e,o,z] for w in wealthGrid]) \n",
    "    act = vmap(partial(actions,t))(Xs)\n",
    "    ageDependentActions.append(act)\n",
    "\n",
    "wealthBoundaryParticipationDecision_condition6 = [wealthGrid[jnp.argmax(act[:,2]>0)] for act in ageDependentActions]"
   ]
  },
  {
   "cell_type": "code",
   "execution_count": null,
   "id": "d2334b49",
   "metadata": {},
   "outputs": [],
   "source": [
    "from solveMDP import *\n",
    "\n",
    "def actions(t, x, agentType = agentType, beta_r = beta_r, gamma = gamma):\n",
    "    '''\n",
    "        a = [c,b,k,h,action]\n",
    "    '''\n",
    "    return policy(beta_r, agentType, gamma, t, x)\n",
    "    \n",
    "# participation decision boundary \n",
    "ageDependentActions = []\n",
    "for t in tqdm(range(60-1)):\n",
    "    \n",
    "    # condition on no house, unemployed, no experience \n",
    "    ab = 0\n",
    "    s = 0\n",
    "    e = 0\n",
    "    o = 0\n",
    "    z = 0\n",
    "    Xs = jnp.array([[w,ab,s,e,o,z] for w in wealthGrid]) \n",
    "    act = vmap(partial(actions,t))(Xs)\n",
    "    ageDependentActions.append(act)\n",
    "\n",
    "wealthBoundaryParticipationDecision_condition1 = [wealthGrid[jnp.argmax(act[:,2]>0)] for act in ageDependentActions]"
   ]
  },
  {
   "cell_type": "code",
   "execution_count": null,
   "id": "ec4f3c9c",
   "metadata": {},
   "outputs": [],
   "source": [
    "# participation decision boundary \n",
    "ageDependentActions = []\n",
    "for t in tqdm(range(60-1)):\n",
    "    \n",
    "    # condition on no house, employed, no experience \n",
    "    ab = 0\n",
    "    s = 0\n",
    "    e = 1\n",
    "    o = 0\n",
    "    z = 0\n",
    "    Xs = jnp.array([[w,ab,s,e,o,z] for w in wealthGrid]) \n",
    "    act = vmap(partial(actions,t))(Xs)\n",
    "    ageDependentActions.append(act)\n",
    "\n",
    "wealthBoundaryParticipationDecision_condition2 = [wealthGrid[jnp.argmax(act[:,2]>1)] for act in ageDependentActions]"
   ]
  },
  {
   "cell_type": "code",
   "execution_count": null,
   "id": "9321bb1e",
   "metadata": {},
   "outputs": [],
   "source": [
    "# participation decision boundary \n",
    "ageDependentActions = []\n",
    "for t in tqdm(range(60-1)):\n",
    "    \n",
    "    # condition on no house, employed, experience \n",
    "    ab = 0\n",
    "    s = 0\n",
    "    e = 1\n",
    "    o = 0\n",
    "    z = 1\n",
    "    Xs = jnp.array([[w,ab,s,e,o,z] for w in wealthGrid]) \n",
    "    act = vmap(partial(actions,t))(Xs)\n",
    "    ageDependentActions.append(act)\n",
    "\n",
    "wealthBoundaryParticipationDecision_condition3 = [wealthGrid[jnp.argmax(act[:,2]>1)] for act in ageDependentActions]"
   ]
  },
  {
   "cell_type": "code",
   "execution_count": null,
   "id": "cc0fb1cf",
   "metadata": {},
   "outputs": [],
   "source": [
    "# participation decision boundary \n",
    "ageDependentActions = []\n",
    "for t in tqdm(range(60-1)):\n",
    "    \n",
    "    # condition on house, employed, experience \n",
    "    ab = 0\n",
    "    s = 0\n",
    "    e = 1\n",
    "    o = 1\n",
    "    z = 1\n",
    "    Xs = jnp.array([[w,ab,s,e,o,z] for w in wealthGrid]) \n",
    "    act = vmap(partial(actions,t))(Xs)\n",
    "    ageDependentActions.append(act)\n",
    "\n",
    "wealthBoundaryParticipationDecision_condition4 = [wealthGrid[jnp.argmax(act[:,2]>1)] for act in ageDependentActions]"
   ]
  },
  {
   "cell_type": "code",
   "execution_count": null,
   "id": "416e3958",
   "metadata": {},
   "outputs": [],
   "source": [
    "from shutDownRetirement.solveMDP import *\n",
    "\n",
    "def actions(t, x, agentType = agentType, beta_r = beta_r, gamma = gamma):\n",
    "    '''\n",
    "        a = [c,b,k,h,action]\n",
    "    '''\n",
    "    return policy(beta_r, agentType, gamma, t, x)\n",
    "\n",
    "# participation decision boundary \n",
    "ageDependentActions = []\n",
    "for t in tqdm(range(60-1)):\n",
    "    \n",
    "    # condition on no house, unemployed, no experience \n",
    "    ab = 0\n",
    "    s = 0\n",
    "    e = 0\n",
    "    o = 0\n",
    "    z = 0\n",
    "    Xs = jnp.array([[w,ab,s,e,o,z] for w in wealthGrid]) \n",
    "    act = vmap(partial(actions,t))(Xs)\n",
    "    ageDependentActions.append(act)\n",
    "\n",
    "wealthBoundaryParticipationDecision_condition5 = [wealthGrid[jnp.argmax(act[:,2]>1)] for act in ageDependentActions]"
   ]
  },
  {
   "cell_type": "code",
   "execution_count": null,
   "id": "ec868dbf",
   "metadata": {},
   "outputs": [],
   "source": [
    "from matplotlib import pyplot as plt\n",
    "\n",
    "\n",
    "plt.title(\"participation decision boundary\")\n",
    "plt.xlabel(\"age\")\n",
    "plt.ylabel(\"minimum wealth level\")\n",
    "plt.plot(range(20, 20 + 60-2), wealthBoundaryParticipationDecision_condition1[:-1], label = \"renter + housing option\")\n",
    "# plt.plot(range(20, 20 + 60-2), wealthBoundaryParticipationDecision_condition2[:-1], label = \"renter + 401k + employed\")\n",
    "# plt.plot(range(20, 20 + 60-2), wealthBoundaryParticipationDecision_condition3[:-1], label = \"renter + 401k + employed + stock experience\")\n",
    "# plt.plot(range(20, 20 + 60-2), wealthBoundaryParticipationDecision_condition4[:-1], label = \"owner + 401k + employed + stock experience\")\n",
    "plt.plot(range(20, 20 + 60-2), wealthBoundaryParticipationDecision_condition6[:-1], label = \"renter+ no housing option\")\n",
    "plt.legend()"
   ]
  },
  {
   "cell_type": "code",
   "execution_count": null,
   "id": "d82738bd",
   "metadata": {},
   "outputs": [],
   "source": [
    "from matplotlib import pyplot as plt\n",
    "\n",
    "\n",
    "plt.title(\"participation decision boundary\")\n",
    "plt.xlabel(\"age\")\n",
    "plt.ylabel(\"minimum wealth level\")\n",
    "plt.plot(range(20, 20 + 60-2), wealthBoundaryParticipationDecision_condition1[:-1], label = \"renter + 401k\")\n",
    "# plt.plot(range(20, 20 + 60-2), wealthBoundaryParticipationDecision_condition2[:-1], label = \"renter + 401k + employed\")\n",
    "# plt.plot(range(20, 20 + 60-2), wealthBoundaryParticipationDecision_condition3[:-1], label = \"renter + 401k + employed + stock experience\")\n",
    "# plt.plot(range(20, 20 + 60-2), wealthBoundaryParticipationDecision_condition4[:-1], label = \"owner + 401k + employed + stock experience\")\n",
    "plt.plot(range(20, 20 + 60-2), wealthBoundaryParticipationDecision_condition5[:-1], label = \"renter\")\n",
    "plt.legend()\n",
    "plt.savefig(\"plots/participationDecisionBoundary1.jpg\")"
   ]
  },
  {
   "cell_type": "code",
   "execution_count": null,
   "id": "20b2f4ec",
   "metadata": {},
   "outputs": [],
   "source": [
    "plt.title(\"participation decision boundary\")\n",
    "plt.xlabel(\"age\")\n",
    "plt.ylabel(\"minimum wealth level\")\n",
    "plt.plot(range(20, 20 + 60-2), wealthBoundaryParticipationDecision_condition1[:-1], label = \"renter + housing option\")\n",
    "# plt.plot(range(20, 20 + 60-2), wealthBoundaryParticipationDecision_condition2[:-1], label = \"renter + 401k + employed\")\n",
    "# plt.plot(range(20, 20 + 60-2), wealthBoundaryParticipationDecision_condition3[:-1], label = \"renter + 401k + employed + stock experience\")\n",
    "# plt.plot(range(20, 20 + 60-2), wealthBoundaryParticipationDecision_condition4[:-1], label = \"owner + 401k + employed + stock experience\")\n",
    "# plt.plot(range(20, 20 + 60-2), wealthBoundaryParticipationDecision_condition5[:-1], label = \"renter\")\n",
    "plt.plot(range(20, 20 + 60-2), wealthBoundaryParticipationDecision_condition6[:-1], label = \"renter\")\n",
    "plt.legend()"
   ]
  },
  {
   "cell_type": "code",
   "execution_count": null,
   "id": "4ce63d8f",
   "metadata": {},
   "outputs": [],
   "source": [
    "plt.title(\"participation decision boundary\")\n",
    "plt.xlabel(\"age\")\n",
    "plt.ylabel(\"minimum wealth level\")\n",
    "plt.plot(range(20, 20 + 60-2), wealthBoundaryParticipationDecision_condition1[:-1], label = \"renter + 401k\")\n",
    "plt.plot(range(20, 20 + 60-2), wealthBoundaryParticipationDecision_condition2[:-1], label = \"renter + 401k + employed\")\n",
    "# plt.plot(range(20, 20 + 60-2), wealthBoundaryParticipationDecision_condition3[:-1], label = \"renter + 401k + employed + stock experience\")\n",
    "# plt.plot(range(20, 20 + 60-2), wealthBoundaryParticipationDecision_condition4[:-1], label = \"owner + 401k + employed + stock experience\")\n",
    "# plt.plot(range(20, 20 + 60-2), wealthBoundaryParticipationDecision_condition5[:-1], label = \"renter\")\n",
    "plt.legend()\n",
    "plt.savefig(\"plots/participationDecisionBoundary2.jpg\")"
   ]
  },
  {
   "cell_type": "code",
   "execution_count": null,
   "id": "f61d6554",
   "metadata": {},
   "outputs": [],
   "source": [
    "plt.title(\"participation decision boundary\")\n",
    "plt.xlabel(\"age\")\n",
    "plt.ylabel(\"minimum wealth level\")\n",
    "# plt.plot(range(20, 20 + 60-2), wealthBoundaryParticipationDecision_condition1[:-1], label = \"renter + 401k\")\n",
    "plt.plot(range(20, 20 + 60-2), wealthBoundaryParticipationDecision_condition2[:-1], label = \"renter + 401k + employed\")\n",
    "plt.plot(range(20, 20 + 60-2), wealthBoundaryParticipationDecision_condition3[:-1], label = \"renter + 401k + employed + stock experience\")\n",
    "# plt.plot(range(20, 20 + 60-2), wealthBoundaryParticipationDecision_condition4[:-1], label = \"owner + 401k + employed + stock experience\")\n",
    "# plt.plot(range(20, 20 + 60-2), wealthBoundaryParticipationDecision_condition5[:-1], label = \"renter\")\n",
    "plt.legend()\n",
    "plt.savefig(\"plots/participationDecisionBoundary3.jpg\")"
   ]
  },
  {
   "cell_type": "code",
   "execution_count": null,
   "id": "0fa52c23",
   "metadata": {},
   "outputs": [],
   "source": [
    "plt.title(\"participation decision boundary\")\n",
    "plt.xlabel(\"age\")\n",
    "plt.ylabel(\"minimum wealth level\")\n",
    "# plt.plot(range(20, 20 + 60-2), wealthBoundaryParticipationDecision_condition1[:-1], label = \"renter + 401k\")\n",
    "# plt.plot(range(20, 20 + 60-2), wealthBoundaryParticipationDecision_condition2[:-1], label = \"renter + 401k + employed\")\n",
    "plt.plot(range(20, 20 + 60-2), wealthBoundaryParticipationDecision_condition3[:-1], label = \"renter + 401k + employed + stock experience\")\n",
    "plt.plot(range(20, 20 + 60-2), wealthBoundaryParticipationDecision_condition4[:-1], label = \"owner + 401k + employed + stock experience\")\n",
    "# plt.plot(range(20, 20 + 60-2), wealthBoundaryParticipationDecision_condition5[:-1], label = \"renter\")\n",
    "plt.legend()\n",
    "plt.savefig(\"plots/participationDecisionBoundary4.jpg\")"
   ]
  },
  {
   "cell_type": "code",
   "execution_count": null,
   "id": "408abdaf",
   "metadata": {},
   "outputs": [],
   "source": []
  },
  {
   "cell_type": "code",
   "execution_count": null,
   "id": "627069d1",
   "metadata": {},
   "outputs": [],
   "source": []
  },
  {
   "cell_type": "code",
   "execution_count": null,
   "id": "9ba8b101",
   "metadata": {},
   "outputs": [],
   "source": []
  },
  {
   "cell_type": "code",
   "execution_count": null,
   "id": "63b74194",
   "metadata": {},
   "outputs": [],
   "source": [
    "agentType = \"richLow\"\n",
    "beta_r = 0.02\n",
    "gamma = 4.0\n",
    "from solveMDP import *\n",
    "\n",
    "def actions(t, x, agentType = agentType, beta_r = beta_r, gamma = gamma):\n",
    "    '''\n",
    "        a = [c,b,k,h,action]\n",
    "    '''\n",
    "    return policy(beta_r, agentType, gamma, t, x)\n"
   ]
  },
  {
   "cell_type": "code",
   "execution_count": null,
   "id": "1906f3cd",
   "metadata": {},
   "outputs": [],
   "source": [
    "# participation decision boundary \n",
    "ageDependentActions = []\n",
    "for t in tqdm(range(29)):\n",
    "    \n",
    "    # condition on no house, unemployed, no experience \n",
    "    ab = 0\n",
    "    s = 0\n",
    "    e = 0\n",
    "    o = 0\n",
    "    z = 0\n",
    "    Xs = jnp.array([[w,ab,s,e,o,z] for w in wealthGrid]) \n",
    "    act = vmap(partial(actions,t))(Xs)\n",
    "    ageDependentActions.append(act)\n",
    "\n",
    "wealthBoundaryParticipationDecision_condition1 = [wealthGrid[jnp.argmax(act[:,4]==1)] for act in ageDependentActions]"
   ]
  },
  {
   "cell_type": "code",
   "execution_count": null,
   "id": "debe95fd",
   "metadata": {},
   "outputs": [],
   "source": [
    "# participation decision boundary \n",
    "ageDependentActions = []\n",
    "for t in tqdm(range(29)):\n",
    "    \n",
    "    # condition on no house, employed, no experience \n",
    "    ab = 0\n",
    "    s = 0\n",
    "    e = 1\n",
    "    o = 0\n",
    "    z = 0\n",
    "    Xs = jnp.array([[w,ab,s,e,o,z] for w in wealthGrid]) \n",
    "    act = vmap(partial(actions,t))(Xs)\n",
    "    ageDependentActions.append(act)\n",
    "\n",
    "wealthBoundaryParticipationDecision_condition2 = [wealthGrid[jnp.argmax(act[:,4]==1)] for act in ageDependentActions]"
   ]
  },
  {
   "cell_type": "code",
   "execution_count": null,
   "id": "9dd168f0",
   "metadata": {},
   "outputs": [],
   "source": [
    "# participation decision boundary \n",
    "ageDependentActions = []\n",
    "for t in tqdm(range(29)):\n",
    "    \n",
    "    # condition on no house, employed, experience \n",
    "    ab = 0\n",
    "    s = 0\n",
    "    e = 1\n",
    "    o = 0\n",
    "    z = 1\n",
    "    Xs = jnp.array([[w,ab,s,e,o,z] for w in wealthGrid]) \n",
    "    act = vmap(partial(actions,t))(Xs)\n",
    "    ageDependentActions.append(act)\n",
    "\n",
    "wealthBoundaryParticipationDecision_condition3 = [wealthGrid[jnp.argmax(act[:,4]==1)] for act in ageDependentActions]"
   ]
  },
  {
   "cell_type": "code",
   "execution_count": null,
   "id": "0ae6d318",
   "metadata": {},
   "outputs": [],
   "source": [
    "from shutDownRetirement.solveMDP import *\n",
    "\n",
    "def actions(t, x, agentType = agentType, beta_r = beta_r, gamma = gamma):\n",
    "    '''\n",
    "        a = [c,b,k,h,action]\n",
    "    '''\n",
    "    return policy(beta_r, agentType, gamma, t, x)\n",
    "\n",
    "# participation decision boundary \n",
    "ageDependentActions = []\n",
    "for t in tqdm(range(29)):\n",
    "    \n",
    "    # condition on no house, employed, experience \n",
    "    ab = 0\n",
    "    s = 0\n",
    "    e = 1\n",
    "    o = 0\n",
    "    z = 1\n",
    "    Xs = jnp.array([[w,ab,s,e,o,z] for w in wealthGrid]) \n",
    "    act = vmap(partial(actions,t))(Xs)\n",
    "    ageDependentActions.append(act)\n",
    "\n",
    "wealthBoundaryParticipationDecision_condition4 = [wealthGrid[jnp.argmax(act[:,4]==1)] for act in ageDependentActions]"
   ]
  },
  {
   "cell_type": "code",
   "execution_count": null,
   "id": "7760edc5",
   "metadata": {},
   "outputs": [],
   "source": [
    "plt.title(\"housing decision boundary\")\n",
    "plt.xlabel(\"age\")\n",
    "plt.ylabel(\"minimum wealth level\")\n",
    "plt.plot(range(20, 20 + 29), wealthBoundaryParticipationDecision_condition1, label = \"renter + 401k\")\n",
    "plt.plot(range(20, 20 + 29), wealthBoundaryParticipationDecision_condition2, label = \"renter + 401k + employed\")\n",
    "plt.plot(range(20, 20 + 29), wealthBoundaryParticipationDecision_condition3, label = \"renter + 401k + employed + experience\")\n",
    "plt.plot(range(20, 20 + 29), wealthBoundaryParticipationDecision_condition4, label = \"renter\")\n",
    "plt.legend()"
   ]
  },
  {
   "cell_type": "code",
   "execution_count": null,
   "id": "aae3c5b8",
   "metadata": {},
   "outputs": [],
   "source": []
  },
  {
   "cell_type": "code",
   "execution_count": null,
   "id": "7973368e",
   "metadata": {},
   "outputs": [],
   "source": []
  },
  {
   "cell_type": "code",
   "execution_count": null,
   "id": "262b6d7f",
   "metadata": {},
   "outputs": [],
   "source": []
  },
  {
   "cell_type": "code",
   "execution_count": 17,
   "id": "7de2ff79",
   "metadata": {},
   "outputs": [
    {
     "name": "stderr",
     "output_type": "stream",
     "text": [
      "100%|██████████| 59/59 [01:33<00:00,  1.59s/it]\n"
     ]
    }
   ],
   "source": [
    "agentType = \"richLow\"\n",
    "beta_r = 0.02\n",
    "gamma = 4.0\n",
    "\n",
    "from shutDownHousing.solveMDP import *\n",
    "\n",
    "def actions(t, x, agentType = agentType, beta_r = beta_r, gamma = gamma):\n",
    "    '''\n",
    "        a = [c,b,k,h,action]\n",
    "    '''\n",
    "    return policy(beta_r, agentType, gamma, t, x)\n",
    "\n",
    "# participation decision boundary \n",
    "ageDependentActions = []\n",
    "for t in tqdm(range(60-1)):\n",
    "    \n",
    "    # condition on no house, unemployed, no experience \n",
    "    ab = 0\n",
    "    s = 0\n",
    "    e = 1\n",
    "    o = 0\n",
    "    z = 0\n",
    "    w = 100 \n",
    "    Xs = jnp.array([w,ab,s,e,o,z])\n",
    "    act = partial(actions,t)(Xs)\n",
    "    ageDependentActions.append(act)\n",
    "ageDependentActions = jnp.array(ageDependentActions) \n",
    "consumption = ageDependentActions[:,0]"
   ]
  },
  {
   "cell_type": "code",
   "execution_count": 18,
   "id": "571f1f83",
   "metadata": {},
   "outputs": [
    {
     "name": "stderr",
     "output_type": "stream",
     "text": [
      "100%|██████████| 59/59 [01:33<00:00,  1.58s/it]\n"
     ]
    }
   ],
   "source": [
    "from solveMDP import *\n",
    "\n",
    "def actions(t, x, agentType = agentType, beta_r = beta_r, gamma = gamma):\n",
    "    '''\n",
    "        a = [c,b,k,h,action]\n",
    "    '''\n",
    "    return policy(beta_r, agentType, gamma, t, x)\n",
    "    \n",
    "# participation decision boundary \n",
    "ageDependentActions = []\n",
    "for t in tqdm(range(60-1)):\n",
    "    \n",
    "    # condition on no house, unemployed, no experience \n",
    "    ab = 0\n",
    "    s = 0\n",
    "    e = 1\n",
    "    o = 0\n",
    "    z = 0\n",
    "    w = 100 \n",
    "    Xs = jnp.array([w,ab,s,e,o,z])\n",
    "    act = partial(actions,t)(Xs)\n",
    "    ageDependentActions.append(act)\n",
    "ageDependentActions = jnp.array(ageDependentActions) \n",
    "consumption_bench = ageDependentActions[:,0]"
   ]
  },
  {
   "cell_type": "code",
   "execution_count": 21,
   "id": "c8a57a27",
   "metadata": {},
   "outputs": [
    {
     "data": {
      "text/plain": [
       "<matplotlib.legend.Legend at 0x7faf74586910>"
      ]
     },
     "execution_count": 21,
     "metadata": {},
     "output_type": "execute_result"
    },
    {
     "data": {
      "image/png": "[encoded data removed]",
      "text/plain": [
       "<Figure size 1440x720 with 1 Axes>"
      ]
     },
     "metadata": {
      "needs_background": "light"
     },
     "output_type": "display_data"
    }
   ],
   "source": [
    "plt.plot(consumption, label = \"consumption_shutDownHousing\")\n",
    "plt.plot(consumption_bench, label = \"consumption\")\n",
    "plt.legend()"
   ]
  },
  {
   "cell_type": "code",
   "execution_count": null,
   "id": "dae1c389",
   "metadata": {},
   "outputs": [],
   "source": []
  }
 ],
 "metadata": {
  "kernelspec": {
   "display_name": "Python 3.8.8 ('base')",
   "language": "python",
   "name": "python3"
  },
  "language_info": {
   "codemirror_mode": {
    "name": "ipython",
    "version": 3
   },
   "file_extension": ".py",
   "mimetype": "text/x-python",
   "name": "python",
   "nbconvert_exporter": "python",
   "pygments_lexer": "ipython3",
   "version": "3.8.8"
  },
  "vscode": {
   "interpreter": {
    "hash": "032c7fdc51ab15a7798451a31a40447e5e1daf5e19bcdc3321b815dde5b34a39"
   }
  }
 },
 "nbformat": 4,
 "nbformat_minor": 5
}
