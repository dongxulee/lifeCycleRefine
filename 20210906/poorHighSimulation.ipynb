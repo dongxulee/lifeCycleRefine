{
 "cells": [
  {
   "cell_type": "code",
   "execution_count": 1,
   "metadata": {},
   "outputs": [
    {
     "name": "stdout",
     "output_type": "stream",
     "text": [
      "Populating the interactive namespace from numpy and matplotlib\n"
     ]
    },
    {
     "ename": "ImportError",
     "evalue": "cannot import name 'partial' from 'jax' (/home/dli36/anaconda3/lib/python3.8/site-packages/jax/__init__.py)",
     "output_type": "error",
     "traceback": [
      "\u001b[0;31m---------------------------------------------------------------------------\u001b[0m",
      "\u001b[0;31mImportError\u001b[0m                               Traceback (most recent call last)",
      "\u001b[0;32m<ipython-input-1-5c512e2ebcf1>\u001b[0m in \u001b[0;36m<module>\u001b[0;34m\u001b[0m\n\u001b[1;32m      1\u001b[0m \u001b[0mget_ipython\u001b[0m\u001b[0;34m(\u001b[0m\u001b[0;34m)\u001b[0m\u001b[0;34m.\u001b[0m\u001b[0mrun_line_magic\u001b[0m\u001b[0;34m(\u001b[0m\u001b[0;34m'pylab'\u001b[0m\u001b[0;34m,\u001b[0m \u001b[0;34m'inline'\u001b[0m\u001b[0;34m)\u001b[0m\u001b[0;34m\u001b[0m\u001b[0;34m\u001b[0m\u001b[0m\n\u001b[0;32m----> 2\u001b[0;31m \u001b[0;32mfrom\u001b[0m \u001b[0mpoorHighCost_copy\u001b[0m \u001b[0;32mimport\u001b[0m \u001b[0;34m*\u001b[0m\u001b[0;34m\u001b[0m\u001b[0;34m\u001b[0m\u001b[0m\n\u001b[0m\u001b[1;32m      3\u001b[0m \u001b[0mVgrid\u001b[0m \u001b[0;34m=\u001b[0m \u001b[0mnp\u001b[0m\u001b[0;34m.\u001b[0m\u001b[0mload\u001b[0m\u001b[0;34m(\u001b[0m\u001b[0;34m\"poorHigh.npy\"\u001b[0m\u001b[0;34m)\u001b[0m\u001b[0;34m\u001b[0m\u001b[0;34m\u001b[0m\u001b[0m\n\u001b[1;32m      4\u001b[0m \u001b[0mmatplotlib\u001b[0m\u001b[0;34m.\u001b[0m\u001b[0mrcParams\u001b[0m\u001b[0;34m[\u001b[0m\u001b[0;34m'figure.figsize'\u001b[0m\u001b[0;34m]\u001b[0m \u001b[0;34m=\u001b[0m \u001b[0;34m[\u001b[0m\u001b[0;36m16\u001b[0m\u001b[0;34m,\u001b[0m \u001b[0;36m8\u001b[0m\u001b[0;34m]\u001b[0m\u001b[0;34m\u001b[0m\u001b[0;34m\u001b[0m\u001b[0m\n\u001b[1;32m      5\u001b[0m \u001b[0mplt\u001b[0m\u001b[0;34m.\u001b[0m\u001b[0mrcParams\u001b[0m\u001b[0;34m.\u001b[0m\u001b[0mupdate\u001b[0m\u001b[0;34m(\u001b[0m\u001b[0;34m{\u001b[0m\u001b[0;34m'font.size'\u001b[0m\u001b[0;34m:\u001b[0m \u001b[0;36m15\u001b[0m\u001b[0;34m}\u001b[0m\u001b[0;34m)\u001b[0m\u001b[0;34m\u001b[0m\u001b[0;34m\u001b[0m\u001b[0m\n",
      "\u001b[0;32m~/lifeCycleRefine/20210906/poorHighCost_copy.py\u001b[0m in \u001b[0;36m<module>\u001b[0;34m\u001b[0m\n\u001b[1;32m      3\u001b[0m \u001b[0;32mfrom\u001b[0m \u001b[0mjax\u001b[0m\u001b[0;34m.\u001b[0m\u001b[0mscipy\u001b[0m\u001b[0;34m.\u001b[0m\u001b[0mndimage\u001b[0m \u001b[0;32mimport\u001b[0m \u001b[0mmap_coordinates\u001b[0m\u001b[0;34m\u001b[0m\u001b[0;34m\u001b[0m\u001b[0m\n\u001b[1;32m      4\u001b[0m \u001b[0;32mimport\u001b[0m \u001b[0mwarnings\u001b[0m\u001b[0;34m\u001b[0m\u001b[0;34m\u001b[0m\u001b[0m\n\u001b[0;32m----> 5\u001b[0;31m \u001b[0;32mfrom\u001b[0m \u001b[0mjax\u001b[0m \u001b[0;32mimport\u001b[0m \u001b[0mjit\u001b[0m\u001b[0;34m,\u001b[0m \u001b[0mpartial\u001b[0m\u001b[0;34m,\u001b[0m \u001b[0mrandom\u001b[0m\u001b[0;34m,\u001b[0m \u001b[0mvmap\u001b[0m\u001b[0;34m\u001b[0m\u001b[0;34m\u001b[0m\u001b[0m\n\u001b[0m\u001b[1;32m      6\u001b[0m \u001b[0;32mfrom\u001b[0m \u001b[0mtqdm\u001b[0m \u001b[0;32mimport\u001b[0m \u001b[0mtqdm\u001b[0m\u001b[0;34m\u001b[0m\u001b[0;34m\u001b[0m\u001b[0m\n\u001b[1;32m      7\u001b[0m \u001b[0mwarnings\u001b[0m\u001b[0;34m.\u001b[0m\u001b[0mfilterwarnings\u001b[0m\u001b[0;34m(\u001b[0m\u001b[0;34m\"ignore\"\u001b[0m\u001b[0;34m)\u001b[0m\u001b[0;34m\u001b[0m\u001b[0;34m\u001b[0m\u001b[0m\n",
      "\u001b[0;31mImportError\u001b[0m: cannot import name 'partial' from 'jax' (/home/dli36/anaconda3/lib/python3.8/site-packages/jax/__init__.py)"
     ]
    }
   ],
   "source": [
    "%pylab inline\n",
    "from poorHighCost_copy import * \n",
    "Vgrid = np.load(\"poorHigh.npy\")\n",
    "matplotlib.rcParams['figure.figsize'] = [16, 8]\n",
    "plt.rcParams.update({'font.size': 15})"
   ]
  },
  {
   "cell_type": "code",
   "execution_count": 2,
   "metadata": {},
   "outputs": [],
   "source": [
    "# total number of agents\n",
    "num = 100000\n",
    "'''\n",
    "    x = [w,n,m,s,e,o,z]\n",
    "    x = [5,0,0,0,0,0,0]\n",
    "'''\n",
    "\n",
    "from jax import random\n",
    "from quantecon import MarkovChain\n",
    "# number of economies and each economy has 100 agents\n",
    "numEcon = 100\n",
    "numAgents = 1000\n",
    "mc = MarkovChain(Ps)\n",
    "econStates = mc.simulate(ts_length=T_max-T_min,init=0,num_reps=numEcon)\n",
    "econStates = jnp.array(econStates,dtype = int)\n",
    "\n",
    "def simulation(key):\n",
    "    initE = random.choice(a = nE, p=E_distribution, key = key)\n",
    "    initS = random.choice(a = nS, p=S_distribution, key = key)\n",
    "    x = [5, 0, 0, initS, initE, 0, 0]\n",
    "    path = []\n",
    "    move = []\n",
    "    # first 100 agents are in the 1st economy and second 100 agents are in the 2nd economy \n",
    "    econ = econStates[key.sum()//numAgents,:]\n",
    "    for t in range(T_min, T_max):\n",
    "        _, key = random.split(key)\n",
    "        if t == T_max-1:\n",
    "            _,a = V(t,Vgrid[:,:,:,:,:,:,:,t],x)\n",
    "        else:\n",
    "            _,a = V(t,Vgrid[:,:,:,:,:,:,:,t+1],x)\n",
    "        xp = transition(t,a.reshape((1,-1)),x)            \n",
    "        xp = jnp.multiply(xp,(xp[:,3] == 0).repeat(nS).reshape((xp.shape[0], nS)))\n",
    "        p = xp[:,-1]\n",
    "        x_next = xp[:,:-1]\n",
    "        path.append(x)\n",
    "        move.append(a)\n",
    "        x = x_next[random.choice(a = nS*nE, p=p, key = key)]\n",
    "    path.append(x)\n",
    "    return jnp.array(path), jnp.array(move)"
   ]
  },
  {
   "cell_type": "code",
   "execution_count": null,
   "metadata": {},
   "outputs": [],
   "source": [
    "%%time\n",
    "# simulation part \n",
    "keys = vmap(random.PRNGKey)(jnp.arange(num))\n",
    "Paths, Moves = vmap(simulation)(keys)"
   ]
  },
  {
   "cell_type": "code",
   "execution_count": null,
   "metadata": {},
   "outputs": [],
   "source": [
    "# x = [w,n,m,s,e,o,z]\n",
    "# x = [0,1,2,3,4,5,6]\n",
    "ws = Paths[:,:,0].T\n",
    "ns = Paths[:,:,1].T\n",
    "ms = Paths[:,:,2].T\n",
    "ss = Paths[:,:,3].T\n",
    "es = Paths[:,:,4].T\n",
    "os = Paths[:,:,5].T\n",
    "zs = Paths[:,:,6].T\n",
    "cs = Moves[:,:,0].T\n",
    "bs = Moves[:,:,1].T\n",
    "ks = Moves[:,:,2].T\n",
    "hs = Moves[:,:,3].T\n",
    "actions = Moves[:,:,4].T"
   ]
  },
  {
   "cell_type": "code",
   "execution_count": null,
   "metadata": {},
   "outputs": [],
   "source": [
    "plt.title(\"Stock investment experience level\")\n",
    "plt.plot(range(20, T_max + 21),jnp.mean(zs,axis = 1), label = \"experience\")\n",
    "plt.savefig(\"stockExperience\")"
   ]
  },
  {
   "cell_type": "code",
   "execution_count": null,
   "metadata": {},
   "outputs": [],
   "source": [
    "plt.title(\"The mean values from simulation\")\n",
    "plt.plot(range(20, T_max + 21),jnp.mean(ws + H*pt*os - ms,axis = 1), label = \"wealth + home equity\")\n",
    "plt.plot(range(20, T_max + 21),jnp.mean(ns,axis = 1), label = \"401k\")\n",
    "plt.plot(range(20, T_max + 21),jnp.mean(ws,axis = 1), label = \"wealth\")\n",
    "plt.plot(range(20, T_max + 20),jnp.mean(cs,axis = 1), label = \"consumption\")\n",
    "plt.plot(range(20, T_max + 20),jnp.mean(bs,axis = 1), label = \"bond\")\n",
    "plt.plot(range(20, T_max + 20),jnp.mean(ks,axis = 1), label = \"stock\")\n",
    "plt.legend()\n",
    "plt.savefig(\"meanValueSimulation\")"
   ]
  },
  {
   "cell_type": "code",
   "execution_count": null,
   "metadata": {},
   "outputs": [],
   "source": [
    "np.save(\"modelPoorHigh\",jnp.mean(ws + H*pt*os - ms,axis = 1))"
   ]
  },
  {
   "cell_type": "code",
   "execution_count": null,
   "metadata": {},
   "outputs": [],
   "source": [
    "plt.title(\"housing consumption\")\n",
    "plt.plot(range(20, T_max + 20),(hs).mean(axis = 1), label = \"housing\")\n",
    "plt.savefig(\"housingConsumption\")"
   ]
  },
  {
   "cell_type": "code",
   "execution_count": null,
   "metadata": {},
   "outputs": [],
   "source": [
    "plt.title(\"housing consumption for renter\")\n",
    "plt.plot(hs[:, jnp.where(os.sum(axis = 0)  == 0)[0]].mean(axis = 1), label = \"housing\")\n",
    "plt.savefig(\"housingConsumptionRenter\")"
   ]
  },
  {
   "cell_type": "code",
   "execution_count": null,
   "metadata": {},
   "outputs": [],
   "source": [
    "plt.title(\"house ownership percentage in the population\")\n",
    "plt.plot(range(20, T_max + 21),(os).mean(axis = 1), label = \"owning\")\n",
    "plt.savefig(\"houseOwnership\")"
   ]
  },
  {
   "cell_type": "code",
   "execution_count": null,
   "metadata": {},
   "outputs": [],
   "source": [
    "(ks/(bs+ks)).mean(axis = 1).size"
   ]
  },
  {
   "cell_type": "code",
   "execution_count": null,
   "metadata": {},
   "outputs": [],
   "source": [
    "(ks/(bs+ks)).mean(axis = 1)[:20].mean()"
   ]
  },
  {
   "cell_type": "code",
   "execution_count": null,
   "metadata": {},
   "outputs": [],
   "source": [
    "(ks/(bs+ks)).mean(axis = 1)[20:40].mean()"
   ]
  },
  {
   "cell_type": "code",
   "execution_count": null,
   "metadata": {},
   "outputs": [],
   "source": [
    "(ks/(bs+ks)).mean(axis = 1)[40:].mean()"
   ]
  },
  {
   "cell_type": "code",
   "execution_count": null,
   "metadata": {},
   "outputs": [],
   "source": [
    "plt.title(\"stock investment ratios for homeowner and renter\")\n",
    "plt.plot(range(20,80), ((ks / (ks + bs))*os[1:]).sum(axis = 1)/os[1:].sum(axis =1), label = \"owner\")\n",
    "plt.plot(range(20,80), ((ks / (ks + bs))*(1-os)[1:]).sum(axis = 1)/(1-os)[1:].sum(axis =1), label = \"renter\")\n",
    "plt.legend()\n",
    "plt.savefig(\"investmentRatioHomeownerRenter\")"
   ]
  },
  {
   "cell_type": "code",
   "execution_count": null,
   "metadata": {},
   "outputs": [],
   "source": []
  },
  {
   "cell_type": "code",
   "execution_count": null,
   "metadata": {},
   "outputs": [],
   "source": []
  },
  {
   "cell_type": "code",
   "execution_count": null,
   "metadata": {},
   "outputs": [],
   "source": [
    "# # agent number, x = [w,n,m,s,e,o]\n",
    "# agentNum = 35\n",
    "# plt.plot(range(20, T_max + 21),(ws + os*(H*pt - ms))[:,agentNum], label = \"wealth + home equity\")\n",
    "# plt.plot(range(20, T_max + 21),ws[:,agentNum], label = \"wealth\")\n",
    "# plt.plot(range(20, T_max + 21),ns[:,agentNum], label = \"401k\")\n",
    "# plt.plot(range(20, T_max + 21),ms[:,agentNum], label = \"mortgage\")\n",
    "# plt.plot(range(20, T_max + 20),cs[:,agentNum], label = \"consumption\")\n",
    "# plt.plot(range(20, T_max + 20),bs[:,agentNum], label = \"bond\")\n",
    "# plt.plot(range(20, T_max + 20),ks[:,agentNum], label = \"stock\")\n",
    "# plt.plot(range(20, T_max + 21),os[:,agentNum]*100, label = \"ownership\", color = \"k\")\n",
    "# plt.legend()"
   ]
  },
  {
   "cell_type": "code",
   "execution_count": null,
   "metadata": {},
   "outputs": [],
   "source": [
    "# import pandas as pd\n",
    "# investmentRatio = np.zeros((nS, T_max))\n",
    "# for age in range(0,T_max):\n",
    "#     stockRatio = ks[age,:] / (ks[age,:] + bs[age,:])\n",
    "#     state = ss[age,:]\n",
    "#     list_of_tuples = list(zip(stockRatio, state)) \n",
    "#     df = pd.DataFrame(list_of_tuples,columns = ['stockRatio', \"econState\"]) \n",
    "#     investmentRatio[:,age] = df.groupby(\"econState\").mean().values.flatten()\n",
    "# plt.figure()\n",
    "# for age in range(1,T_max-1, 10):\n",
    "#     plt.plot(investmentRatio[:,age],label = str(age + 20))\n",
    "# plt.legend()"
   ]
  },
  {
   "cell_type": "code",
   "execution_count": null,
   "metadata": {},
   "outputs": [],
   "source": [
    "# age = 50\n",
    "# stockRatio = ks[age,:] / (ks[age,:] + bs[age,:])\n",
    "# state = ss[age,:]\n",
    "# own = os[age,:]\n",
    "# list_of_tuples = list(zip(stockRatio, state, own)) \n",
    "# df = pd.DataFrame(list_of_tuples,columns = ['stockRatio', \"econState\", \"own\"]) \n",
    "# owner = df[df[\"own\"] == 1]\n",
    "# renter = df[df[\"own\"] == 0]\n",
    "# plt.plot(owner.groupby(\"econState\")[\"stockRatio\"].mean().values.flatten(), label = \"Owner\")\n",
    "# plt.plot(renter.groupby(\"econState\")[\"stockRatio\"].mean().values.flatten(), label = \"Renter\")\n",
    "# plt.legend()"
   ]
  },
  {
   "cell_type": "code",
   "execution_count": null,
   "metadata": {},
   "outputs": [],
   "source": []
  },
  {
   "cell_type": "code",
   "execution_count": null,
   "metadata": {},
   "outputs": [],
   "source": []
  },
  {
   "cell_type": "code",
   "execution_count": null,
   "metadata": {},
   "outputs": [],
   "source": []
  },
  {
   "cell_type": "code",
   "execution_count": null,
   "metadata": {},
   "outputs": [],
   "source": [
    "# agent selling time collection\n",
    "agentTime = []\n",
    "for t in range(30):\n",
    "    if ((os[t,:] == 0) & (os[t+1,:] == 1)).sum()>0:\n",
    "        for agentNum in jnp.where((os[t,:] == 0) & (os[t+1,:] == 1))[0]:\n",
    "            agentTime.append([t, agentNum])\n",
    "agentTime = jnp.array(agentTime)\n",
    "# agent selling time collection\n",
    "agentHold = []\n",
    "for t in range(30):\n",
    "    if ((os[t,:] == 0) & (os[t+1,:] == 0)).sum()>0:\n",
    "        for agentNum in jnp.where((os[t,:] == 0) & (os[t+1,:] == 0))[0]:\n",
    "            agentHold.append([t, agentNum])\n",
    "agentHold = jnp.array(agentHold)"
   ]
  },
  {
   "cell_type": "code",
   "execution_count": null,
   "metadata": {},
   "outputs": [],
   "source": [
    "plt.title(\"mean weath level for buyer, owner and renter\")\n",
    "www = (os*(ws+H*pt - ms)).sum(axis = 1)/(os).sum(axis = 1)\n",
    "for age in range(30):\n",
    "    buyer = agentTime[agentTime[:,0] == age]\n",
    "    renter = agentHold[agentHold[:,0] == age]\n",
    "    bp = plt.scatter(age+20, ws[buyer[:,0], buyer[:,1]].mean(),color =  \"b\")\n",
    "    hp = plt.scatter(age+20, www[age], color = \"green\")\n",
    "    rp = plt.scatter(age+20, ws[renter[:,0], renter[:,1]].mean(),color =  \"r\")\n",
    "plt.legend((bp,hp,rp), (\"FirstTimeBuyer\", \"HomeOwner\", \"Renter\"))\n",
    "plt.savefig(\"wealthForBOR\")"
   ]
  },
  {
   "cell_type": "code",
   "execution_count": null,
   "metadata": {},
   "outputs": [],
   "source": [
    "plt.title(\"employement status for buyer and renter\")\n",
    "for age in range(31):\n",
    "    buyer = agentTime[agentTime[:,0] == age]\n",
    "    renter = agentHold[agentHold[:,0] == age]\n",
    "    bp = plt.scatter(age+20, es[buyer[:,0], buyer[:,1]].mean(),color =  \"b\")\n",
    "    rp = plt.scatter(age+20, es[renter[:,0], renter[:,1]].mean(),color =  \"r\")\n",
    "plt.legend((bp, rp), (\"FirstTimeBuyer\", \"Renter\"))\n",
    "plt.savefig(\"employForBAR\")"
   ]
  },
  {
   "cell_type": "code",
   "execution_count": null,
   "metadata": {},
   "outputs": [],
   "source": []
  },
  {
   "cell_type": "code",
   "execution_count": null,
   "metadata": {},
   "outputs": [],
   "source": []
  },
  {
   "cell_type": "code",
   "execution_count": null,
   "metadata": {},
   "outputs": [],
   "source": []
  },
  {
   "cell_type": "code",
   "execution_count": null,
   "metadata": {},
   "outputs": [],
   "source": []
  },
  {
   "cell_type": "code",
   "execution_count": null,
   "metadata": {},
   "outputs": [],
   "source": [
    "# agent selling time collection\n",
    "agentTime = []\n",
    "for t in range(T_max):\n",
    "    if ((zs[t,:] == 0) & (zs[t+1,:] == 1)).sum()>0:\n",
    "        for agentNum in jnp.where((zs[t,:] == 0) & (zs[t+1,:] == 1))[0]:\n",
    "            agentTime.append([t, agentNum])\n",
    "agentTime = jnp.array(agentTime)\n",
    "# agent selling time collection\n",
    "agentHold = []\n",
    "for t in range(T_max):\n",
    "    if ((zs[t,:] == 0) & (zs[t+1,:] == 0)).sum()>0:\n",
    "        for agentNum in jnp.where((zs[t,:] == 0) & (zs[t+1,:] == 0))[0]:\n",
    "            agentHold.append([t, agentNum])\n",
    "agentHold = jnp.array(agentHold)"
   ]
  },
  {
   "cell_type": "code",
   "execution_count": null,
   "metadata": {},
   "outputs": [],
   "source": [
    "plt.title(\"mean weath level for FirstTimeTrader, ExperiencedTrader and Inexperienced\")\n",
    "www = (zs*(ws+H*pt - ms)).sum(axis = 1)/(zs).sum(axis = 1)\n",
    "for age in range(T_max):\n",
    "    buyer = agentTime[agentTime[:,0] == age]\n",
    "    renter = agentHold[agentHold[:,0] == age]\n",
    "    bp = plt.scatter(age+20, ws[buyer[:,0], buyer[:,1]].mean(),color =  \"b\")\n",
    "    hp = plt.scatter(age+20, www[age], color = \"green\")\n",
    "    rp = plt.scatter(age+20, ws[renter[:,0], renter[:,1]].mean(),color =  \"r\")\n",
    "plt.legend((bp,hp,rp), (\"FirstTimeTrader\", \"ExperiencedTrader\", \"Inexperienced\"))\n",
    "plt.savefig(\"wealthForFEI\")"
   ]
  },
  {
   "cell_type": "code",
   "execution_count": null,
   "metadata": {},
   "outputs": [],
   "source": [
    "plt.title(\"employement status for FirstTimeTrader and Inexperienced\")\n",
    "for age in range(T_max):\n",
    "    buyer = agentTime[agentTime[:,0] == age]\n",
    "    renter = agentHold[agentHold[:,0] == age]\n",
    "    bp = plt.scatter(age+20, es[buyer[:,0], buyer[:,1]].mean(),color =  \"b\")\n",
    "    rp = plt.scatter(age+20, es[renter[:,0], renter[:,1]].mean(),color =  \"r\")\n",
    "plt.legend((bp, rp), (\"FirstTimeTrader\", \"Inexperience\"))\n",
    "plt.savefig(\"employForFI\")"
   ]
  },
  {
   "cell_type": "code",
   "execution_count": null,
   "metadata": {},
   "outputs": [],
   "source": []
  }
 ],
 "metadata": {
  "kernelspec": {
   "display_name": "Python 3",
   "language": "python",
   "name": "python3"
  },
  "language_info": {
   "codemirror_mode": {
    "name": "ipython",
    "version": 3
   },
   "file_extension": ".py",
   "mimetype": "text/x-python",
   "name": "python",
   "nbconvert_exporter": "python",
   "pygments_lexer": "ipython3",
   "version": "3.8.8"
  }
 },
 "nbformat": 4,
 "nbformat_minor": 4
}
