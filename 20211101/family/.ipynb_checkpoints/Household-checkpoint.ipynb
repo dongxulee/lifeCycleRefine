{
 "cells": [
  {
   "cell_type": "code",
   "execution_count": 1,
   "metadata": {},
   "outputs": [
    {
     "name": "stdout",
     "output_type": "stream",
     "text": [
      "Populating the interactive namespace from numpy and matplotlib\n"
     ]
    }
   ],
   "source": [
    "%pylab inline\n",
    "matplotlib.rcParams['figure.figsize'] = [16, 8]\n",
    "import pandas as pd\n",
    "pd.options.display.float_format = \"{:.2f}\".format\n",
    "import numpy as np\n",
    "import warnings\n",
    "from tqdm import tqdm\n",
    "warnings.filterwarnings(\"ignore\")"
   ]
  },
  {
   "cell_type": "code",
   "execution_count": 2,
   "metadata": {},
   "outputs": [],
   "source": [
    "# All variables we care about\n",
    "FcolumnNames1999_2007 = ['releaseNum', 'familyID', 'composition', 'headCount', 'ageHead', 'maritalStatus', 'own', \n",
    "                         'employmentStatus', 'liquidWealth', 'race', 'industry','incomeHead', \"incomeWife\", \n",
    "               'foodCost', 'houseCost', 'transCost', 'educationCost', 'childCost', 'healthCost', 'education', \n",
    "               'participation', 'investmentAmount', 'annuityIRA', 'wealthWithoutHomeEquity', \"wealthWithHomeEquity\"]\n",
    "\n",
    "FcolumnNames2009_2017 = ['releaseNum', 'familyID', 'composition', 'headCount', 'ageHead', 'maritalStatus', 'own', \n",
    "                         'employmentStatus', 'liquidWealth', 'race', 'industry' ,'incomeHead', 'incomeWife', \n",
    "               'participation', 'investmentAmount', 'annuityIRA', 'wealthWithoutHomeEquity', 'wealthWithHomeEquity',\n",
    "               'foodCost', 'houseCost', 'transCost', 'educationCost', 'childCost', 'healthCost', 'education']\n",
    "\n",
    "FcolumnNames2019 = ['releaseNum', 'familyID', 'composition', 'headCount', 'ageHead', 'maritalStatus', 'own', \n",
    "                         'employmentStatus', 'liquidWealth_bank', 'liquidWealth_bond', 'race', 'industry' ,'incomeHead', 'incomeWife', \n",
    "               'participation', 'investmentAmount', 'annuityIRA', 'wealthWithoutHomeEquity', 'wealthWithHomeEquity',\n",
    "               'foodCost', 'houseCost', 'transCost', 'educationCost', 'childCost', 'healthCost', 'education']\n",
    "\n",
    "# The timeline we care about\n",
    "years = [1999, 2001, 2003, 2005, 2007, 2009, 2011, 2013, 2015, 2017, 2019]"
   ]
  },
  {
   "cell_type": "code",
   "execution_count": 3,
   "metadata": {},
   "outputs": [],
   "source": [
    "def Fcompile_data_with_features(features, years = years):\n",
    "    df = pd.DataFrame()\n",
    "    # Loading the data through years\n",
    "    for year in years:\n",
    "        df_sub = pd.read_excel(str(year) + \".xlsx\")\n",
    "        if year >= 1999 and year <= 2007:\n",
    "            df_sub.columns = FcolumnNames1999_2007\n",
    "        elif year >= 2009 and year <= 2017:\n",
    "            df_sub.columns = FcolumnNames2009_2017\n",
    "        else:\n",
    "            # In the year 2019, the liquid wealth equals to liquidWealth in cash and liquid bond\n",
    "            df_sub.columns = FcolumnNames2019\n",
    "            df_sub[\"liquidWealth\"] = df_sub['liquidWealth_bank'] + df_sub['liquidWealth_bond']\n",
    "        df_sub['year'] = year\n",
    "        df = pd.concat([df, df_sub[['familyID','year'] + features]])\n",
    "    df = df.reset_index(drop = True)\n",
    "    return df\n",
    "\n",
    "# The function is used to drop the values we do not like in the dataFrame, \n",
    "# the input \"features\" and \"values\" are both list\n",
    "def drop_values(features, values, df): \n",
    "    for feature in features:\n",
    "        for value in values:\n",
    "            df = df[df[feature] != value]\n",
    "    df = df.reset_index(drop = True)\n",
    "    return df"
   ]
  },
  {
   "cell_type": "code",
   "execution_count": 4,
   "metadata": {},
   "outputs": [],
   "source": [
    "# prepare the combined dataset and set up dummy variables for qualitative data\n",
    "df = Fcompile_data_with_features(['composition', 'headCount', 'ageHead', 'maritalStatus', 'own', \n",
    "                                  'employmentStatus', 'liquidWealth', 'race', 'industry','incomeHead', 'incomeWife', \n",
    "                                  'foodCost', 'houseCost', 'transCost', 'educationCost', 'childCost', 'healthCost', 'education', \n",
    "                                  'participation', 'investmentAmount', 'annuityIRA', 'wealthWithoutHomeEquity', 'wealthWithHomeEquity'], years)"
   ]
  },
  {
   "cell_type": "code",
   "execution_count": 5,
   "metadata": {},
   "outputs": [],
   "source": [
    "# data clean, drop NA/DK values\n",
    "df = drop_values([\"ageHead\"],[999], df)\n",
    "df = drop_values([\"maritalStatus\"],[8,9], df)\n",
    "df = drop_values([\"own\"],[8,9], df)\n",
    "df = drop_values([\"employmentStatus\"],[0,22,8,98, 99], df)\n",
    "df = drop_values([\"liquidWealth\"],[999999998,999999999,-400], df)\n",
    "df = drop_values([\"race\"],[0,8,9], df)\n",
    "df = drop_values([\"industry\"],[999,9999,0], df)\n",
    "df = drop_values([\"education\"],[99,0], df)\n",
    "# calculate the aggregate variables \n",
    "df[\"totalExpense\"] = df[['foodCost', 'houseCost', 'transCost', \n",
    "                                      'educationCost', 'childCost', 'healthCost']].sum(axis = 1)\n",
    "df[\"laborIncome\"] = df[\"incomeHead\"] + df[\"incomeWife\"]\n",
    "df[\"costPerPerson\"] = df[\"totalExpense\"]/df[\"headCount\"]\n",
    "df[\"HomeEquity\"] = df[\"wealthWithHomeEquity\"] - df[\"wealthWithoutHomeEquity\"]"
   ]
  },
  {
   "cell_type": "code",
   "execution_count": 6,
   "metadata": {},
   "outputs": [
    {
     "name": "stderr",
     "output_type": "stream",
     "text": [
      "100%|██████████| 69692/69692 [01:20<00:00, 865.06it/s]\n"
     ]
    }
   ],
   "source": [
    "maritalStatus = [\"Married\", \"neverMarried\", \"Widowed\", \"Divorced\", \"Separated\"]\n",
    "employmentStatus = [\"Working\", \"temporalLeave\", \"unemployed\", \"retired\", \"disabled\", \"keepHouse\", \"student\", \"other\"]\n",
    "race = [\"White\", \"Black\",\"AmericanIndian\",\"Asian\",\"Latino\",\"otherBW\",\"otherRace\"]\n",
    "# Education\n",
    "# < 8th grade: middle school\n",
    "# >= 8 and < 12: high scho0l\n",
    "# >=12 and < 15: college\n",
    "# >= 15 post graduate\n",
    "education = [\"middleSchool\", \"highSchool\", \"college\", \"postGraduate\"]\n",
    "# Industry\n",
    "# < 400 manufacturing\n",
    "# >= 400 and < 500 publicUtility\n",
    "# >= 500 and < 680 retail \n",
    "# >= 680 and < 720 finance\n",
    "# >= 720 and < 900 service\n",
    "# >= 900 otherIndustry\n",
    "industry = [\"finance\", \"noneFinance\"]\n",
    "ownership = [\"owner\", \"renter\"]\n",
    "\n",
    "data = []\n",
    "for i in tqdm(range(len(df))):\n",
    "    dataCollect = []\n",
    "    # marital status\n",
    "    dataCollect.append(maritalStatus[int(df.iloc[i][\"maritalStatus\"]-1)])\n",
    "    # employment\n",
    "    dataCollect.append(employmentStatus[int(df.iloc[i][\"employmentStatus\"]-1)])\n",
    "    # race\n",
    "    dataCollect.append(race[int(df.iloc[i][\"race\"] - 1)])\n",
    "    # Education variable \n",
    "    if df.iloc[i][\"education\"] < 8:\n",
    "        dataCollect.append(education[0])\n",
    "    elif df.iloc[i][\"education\"] >= 8 and df.iloc[i][\"education\"] < 12:\n",
    "        dataCollect.append(education[1])\n",
    "    elif df.iloc[i][\"education\"] >= 12 and df.iloc[i][\"education\"] < 15:\n",
    "        dataCollect.append(education[2])\n",
    "    else:\n",
    "        dataCollect.append(education[3])\n",
    "    # industry variable \n",
    "    if df.iloc[i][\"year\"] in [1999, 2001]:\n",
    "        if df.iloc[i][\"industry\"] >= 707 and df.iloc[i][\"industry\"] <= 718:\n",
    "            dataCollect.append(industry[0])\n",
    "        else:\n",
    "            dataCollect.append(industry[1])\n",
    "    elif df.iloc[i][\"year\"] in [2003,2005,2007,2009,2011,2013,2015,2015]:\n",
    "        if df.iloc[i][\"industry\"] >= 687 and df.iloc[i][\"industry\"] <= 699:\n",
    "            dataCollect.append(industry[0])\n",
    "        else:\n",
    "            dataCollect.append(industry[1])        \n",
    "    else:\n",
    "        if df.iloc[i][\"industry\"] >= 6870 and df.iloc[i][\"industry\"] <= 6990:\n",
    "            dataCollect.append(industry[0])\n",
    "        else:\n",
    "            dataCollect.append(industry[1])\n",
    "    # ownership status \n",
    "    if df.iloc[i][\"own\"] == 1:\n",
    "        dataCollect.append(ownership[0])\n",
    "    else:\n",
    "        dataCollect.append(ownership[1])\n",
    "    data.append(dataCollect)\n",
    "# Categorical dataFrame\n",
    "df_cat = pd.DataFrame(data, columns = [\"maritalStatus\", \"employmentStatus\", \"race\", \"education\", \"industry\", \"ownership\"])\n",
    "\n",
    "Fdf = pd.concat([df[[\"familyID\", \"year\",'composition', 'headCount', 'ageHead', 'liquidWealth', 'laborIncome', \n",
    "                     \"costPerPerson\",\"totalExpense\", 'participation', 'investmentAmount', 'annuityIRA', \n",
    "                                 'wealthWithoutHomeEquity', \"wealthWithHomeEquity\", \"HomeEquity\"]], \n",
    "                          df_cat[[\"maritalStatus\", \"employmentStatus\", \"education\",\"race\", \"industry\", \"ownership\"]]], axis=1)"
   ]
  },
  {
   "cell_type": "code",
   "execution_count": 7,
   "metadata": {},
   "outputs": [
    {
     "name": "stderr",
     "output_type": "stream",
     "text": [
      "100%|██████████| 69692/69692 [03:02<00:00, 382.22it/s]\n"
     ]
    },
    {
     "data": {
      "text/html": [
       "<div>\n",
       "<style scoped>\n",
       "    .dataframe tbody tr th:only-of-type {\n",
       "        vertical-align: middle;\n",
       "    }\n",
       "\n",
       "    .dataframe tbody tr th {\n",
       "        vertical-align: top;\n",
       "    }\n",
       "\n",
       "    .dataframe thead th {\n",
       "        text-align: right;\n",
       "    }\n",
       "</style>\n",
       "<table border=\"1\" class=\"dataframe\">\n",
       "  <thead>\n",
       "    <tr style=\"text-align: right;\">\n",
       "      <th></th>\n",
       "      <th>familyID</th>\n",
       "      <th>year</th>\n",
       "      <th>composition</th>\n",
       "      <th>headCount</th>\n",
       "      <th>ageHead</th>\n",
       "      <th>liquidWealth</th>\n",
       "      <th>laborIncome</th>\n",
       "      <th>costPerPerson</th>\n",
       "      <th>totalExpense</th>\n",
       "      <th>participation</th>\n",
       "      <th>...</th>\n",
       "      <th>annuityIRA</th>\n",
       "      <th>wealthWithoutHomeEquity</th>\n",
       "      <th>wealthWithHomeEquity</th>\n",
       "      <th>HomeEquity</th>\n",
       "      <th>maritalStatus</th>\n",
       "      <th>employmentStatus</th>\n",
       "      <th>education</th>\n",
       "      <th>race</th>\n",
       "      <th>industry</th>\n",
       "      <th>ownership</th>\n",
       "    </tr>\n",
       "  </thead>\n",
       "  <tbody>\n",
       "    <tr>\n",
       "      <th>0</th>\n",
       "      <td>3</td>\n",
       "      <td>1999</td>\n",
       "      <td>2</td>\n",
       "      <td>1</td>\n",
       "      <td>76</td>\n",
       "      <td>2.35</td>\n",
       "      <td>0.00</td>\n",
       "      <td>7.30</td>\n",
       "      <td>7.30</td>\n",
       "      <td>0</td>\n",
       "      <td>...</td>\n",
       "      <td>0.00</td>\n",
       "      <td>36.99</td>\n",
       "      <td>107.44</td>\n",
       "      <td>70.45</td>\n",
       "      <td>Widowed</td>\n",
       "      <td>retired</td>\n",
       "      <td>middleSchool</td>\n",
       "      <td>White</td>\n",
       "      <td>noneFinance</td>\n",
       "      <td>owner</td>\n",
       "    </tr>\n",
       "    <tr>\n",
       "      <th>1</th>\n",
       "      <td>2</td>\n",
       "      <td>1999</td>\n",
       "      <td>0</td>\n",
       "      <td>4</td>\n",
       "      <td>47</td>\n",
       "      <td>0.00</td>\n",
       "      <td>26.14</td>\n",
       "      <td>4.17</td>\n",
       "      <td>16.68</td>\n",
       "      <td>1</td>\n",
       "      <td>...</td>\n",
       "      <td>0.00</td>\n",
       "      <td>23.48</td>\n",
       "      <td>30.53</td>\n",
       "      <td>7.05</td>\n",
       "      <td>Married</td>\n",
       "      <td>Working</td>\n",
       "      <td>highSchool</td>\n",
       "      <td>White</td>\n",
       "      <td>noneFinance</td>\n",
       "      <td>owner</td>\n",
       "    </tr>\n",
       "    <tr>\n",
       "      <th>2</th>\n",
       "      <td>6129</td>\n",
       "      <td>1999</td>\n",
       "      <td>3</td>\n",
       "      <td>1</td>\n",
       "      <td>45</td>\n",
       "      <td>8.81</td>\n",
       "      <td>0.00</td>\n",
       "      <td>16.70</td>\n",
       "      <td>16.70</td>\n",
       "      <td>1</td>\n",
       "      <td>...</td>\n",
       "      <td>19.96</td>\n",
       "      <td>447.97</td>\n",
       "      <td>485.55</td>\n",
       "      <td>37.58</td>\n",
       "      <td>Divorced</td>\n",
       "      <td>Working</td>\n",
       "      <td>college</td>\n",
       "      <td>White</td>\n",
       "      <td>finance</td>\n",
       "      <td>owner</td>\n",
       "    </tr>\n",
       "    <tr>\n",
       "      <th>3</th>\n",
       "      <td>6944</td>\n",
       "      <td>1999</td>\n",
       "      <td>0</td>\n",
       "      <td>2</td>\n",
       "      <td>39</td>\n",
       "      <td>14.09</td>\n",
       "      <td>35.23</td>\n",
       "      <td>10.29</td>\n",
       "      <td>20.58</td>\n",
       "      <td>0</td>\n",
       "      <td>...</td>\n",
       "      <td>0.00</td>\n",
       "      <td>31.70</td>\n",
       "      <td>49.32</td>\n",
       "      <td>17.61</td>\n",
       "      <td>Divorced</td>\n",
       "      <td>Working</td>\n",
       "      <td>college</td>\n",
       "      <td>White</td>\n",
       "      <td>noneFinance</td>\n",
       "      <td>owner</td>\n",
       "    </tr>\n",
       "    <tr>\n",
       "      <th>4</th>\n",
       "      <td>3818</td>\n",
       "      <td>1999</td>\n",
       "      <td>4</td>\n",
       "      <td>4</td>\n",
       "      <td>34</td>\n",
       "      <td>0.00</td>\n",
       "      <td>48.85</td>\n",
       "      <td>4.45</td>\n",
       "      <td>17.80</td>\n",
       "      <td>0</td>\n",
       "      <td>...</td>\n",
       "      <td>0.00</td>\n",
       "      <td>14.09</td>\n",
       "      <td>23.48</td>\n",
       "      <td>9.39</td>\n",
       "      <td>Married</td>\n",
       "      <td>Working</td>\n",
       "      <td>highSchool</td>\n",
       "      <td>White</td>\n",
       "      <td>noneFinance</td>\n",
       "      <td>owner</td>\n",
       "    </tr>\n",
       "  </tbody>\n",
       "</table>\n",
       "<p>5 rows × 21 columns</p>\n",
       "</div>"
      ],
      "text/plain": [
       "   familyID  year  composition  headCount  ageHead  liquidWealth  laborIncome  \\\n",
       "0         3  1999            2          1       76          2.35         0.00   \n",
       "1         2  1999            0          4       47          0.00        26.14   \n",
       "2      6129  1999            3          1       45          8.81         0.00   \n",
       "3      6944  1999            0          2       39         14.09        35.23   \n",
       "4      3818  1999            4          4       34          0.00        48.85   \n",
       "\n",
       "   costPerPerson  totalExpense  participation  ...  annuityIRA  \\\n",
       "0           7.30          7.30              0  ...        0.00   \n",
       "1           4.17         16.68              1  ...        0.00   \n",
       "2          16.70         16.70              1  ...       19.96   \n",
       "3          10.29         20.58              0  ...        0.00   \n",
       "4           4.45         17.80              0  ...        0.00   \n",
       "\n",
       "   wealthWithoutHomeEquity  wealthWithHomeEquity  HomeEquity  maritalStatus  \\\n",
       "0                    36.99                107.44       70.45        Widowed   \n",
       "1                    23.48                 30.53        7.05        Married   \n",
       "2                   447.97                485.55       37.58       Divorced   \n",
       "3                    31.70                 49.32       17.61       Divorced   \n",
       "4                    14.09                 23.48        9.39        Married   \n",
       "\n",
       "  employmentStatus     education   race     industry ownership  \n",
       "0          retired  middleSchool  White  noneFinance     owner  \n",
       "1          Working    highSchool  White  noneFinance     owner  \n",
       "2          Working       college  White      finance     owner  \n",
       "3          Working       college  White  noneFinance     owner  \n",
       "4          Working    highSchool  White  noneFinance     owner  \n",
       "\n",
       "[5 rows x 21 columns]"
      ]
     },
     "execution_count": 7,
     "metadata": {},
     "output_type": "execute_result"
    }
   ],
   "source": [
    "# Adjust for inflation, all values are in thousand dollor\n",
    "years = [1999, 2001, 2003, 2005, 2007, 2009, 2011, 2013, 2015, 2017, 2019]\n",
    "values_at2020 = np.array([1.55, 1.46, 1.40, 1.32, 1.24, 1.20, 1.15, 1.11, 1.09, 1.05, 1.01])\n",
    "values_at2005 = values_at2020/1.32\n",
    "quantVariables = ['annuityIRA', 'investmentAmount', 'liquidWealth', 'laborIncome', 'costPerPerson',\n",
    "                 'totalExpense', 'wealthWithoutHomeEquity', 'wealthWithHomeEquity', \"HomeEquity\"]\n",
    "for i in tqdm(range(len(Fdf))):\n",
    "    for variable in quantVariables:\n",
    "        Fdf.loc[i, variable] = round(Fdf.loc[i, variable] * values_at2005[years.index(Fdf.loc[i,\"year\"])] / 1000, 2)\n",
    "Fdf.head()"
   ]
  },
  {
   "cell_type": "code",
   "execution_count": 8,
   "metadata": {},
   "outputs": [
    {
     "data": {
      "text/plain": [
       "(66898, 21)"
      ]
     },
     "execution_count": 8,
     "metadata": {},
     "output_type": "execute_result"
    }
   ],
   "source": [
    "# drop the outliers \n",
    "for var in quantVariables:\n",
    "    Fdf = Fdf[Fdf[var] < Fdf[var].quantile(0.999)]\n",
    "Fdf = Fdf[(Fdf[\"ageHead\"] >= 20) & (Fdf[\"ageHead\"] <= 80)]\n",
    "Fdf.head()\n",
    "Fdf.shape"
   ]
  },
  {
   "cell_type": "code",
   "execution_count": null,
   "metadata": {},
   "outputs": [],
   "source": []
  },
  {
   "cell_type": "code",
   "execution_count": null,
   "metadata": {},
   "outputs": [],
   "source": []
  },
  {
   "cell_type": "code",
   "execution_count": null,
   "metadata": {},
   "outputs": [],
   "source": []
  },
  {
   "cell_type": "markdown",
   "metadata": {},
   "source": [
    "### Group population into 4 type of agents"
   ]
  },
  {
   "cell_type": "code",
   "execution_count": 9,
   "metadata": {},
   "outputs": [],
   "source": [
    "lowSkill = [\"middleSchool\", \"highSchool\"]\n",
    "highSkill = [\"college\", \"postGraduate\"]\n",
    "highFinance = Fdf[(Fdf[\"education\"].isin(highSkill)) & (Fdf[\"industry\"] == \"finance\")]\n",
    "lowFinance = Fdf[(Fdf[\"education\"].isin(lowSkill)) & (Fdf[\"industry\"] == \"finance\")]\n",
    "highNoneFinance = Fdf[(Fdf[\"education\"].isin(highSkill)) & (Fdf[\"industry\"] == \"noneFinance\")]\n",
    "lowNoneFinance = Fdf[(Fdf[\"education\"].isin(lowSkill)) & (Fdf[\"industry\"] == \"noneFinance\")]"
   ]
  },
  {
   "cell_type": "code",
   "execution_count": 10,
   "metadata": {},
   "outputs": [],
   "source": [
    "Fdf[\"skillLevel\"] = \"High\"\n",
    "Fdf.loc[Fdf[\"education\"].isin(lowSkill), \"skillLevel\"] = \"Low\"\n",
    "Fdf[\"financeExperience\"] = \"No\"\n",
    "Fdf.loc[Fdf[\"industry\"] == \"finance\", \"financeExperience\"] = \"Yes\"\n",
    "Fdf[\"ageGroup\"] = \"20\"\n",
    "Fdf[\"decadeGroup\"] = \"90's\"\n",
    "for i in range(2,10, 2):\n",
    "    Fdf.loc[Fdf[\"ageHead\"] > i*10, \"ageGroup\"] = str(i*10)\n",
    "for year in range(1990,2020,10):\n",
    "    Fdf.loc[Fdf[\"year\"] > year, \"decadeGroup\"] = str(year) + \"s\""
   ]
  },
  {
   "cell_type": "code",
   "execution_count": 11,
   "metadata": {},
   "outputs": [],
   "source": [
    "Fdf.loc[(Fdf[\"employmentStatus\"] != \"Working\")&(Fdf[\"employmentStatus\"] != \"retired\"), \"employmentStatus\"] = \"unemployed\"\n",
    "Fdf.loc[Fdf[\"employmentStatus\"]==\"Working\", \"employmentStatus\"] = \"employed\""
   ]
  },
  {
   "cell_type": "code",
   "execution_count": 12,
   "metadata": {},
   "outputs": [],
   "source": [
    "Fdf.loc[Fdf[\"ageGroup\"]== \"20\", \"ageGroup\"] = \"20-40\"\n",
    "Fdf.loc[Fdf[\"ageGroup\"]== \"40\", \"ageGroup\"] = \"40-60\"\n",
    "Fdf.loc[Fdf[\"ageGroup\"]== \"60\", \"ageGroup\"] = \"60-80\""
   ]
  },
  {
   "cell_type": "code",
   "execution_count": 13,
   "metadata": {},
   "outputs": [
    {
     "data": {
      "text/html": [
       "<div>\n",
       "<style scoped>\n",
       "    .dataframe tbody tr th:only-of-type {\n",
       "        vertical-align: middle;\n",
       "    }\n",
       "\n",
       "    .dataframe tbody tr th {\n",
       "        vertical-align: top;\n",
       "    }\n",
       "\n",
       "    .dataframe thead th {\n",
       "        text-align: right;\n",
       "    }\n",
       "</style>\n",
       "<table border=\"1\" class=\"dataframe\">\n",
       "  <thead>\n",
       "    <tr style=\"text-align: right;\">\n",
       "      <th></th>\n",
       "      <th>familyID</th>\n",
       "      <th>year</th>\n",
       "      <th>composition</th>\n",
       "      <th>headCount</th>\n",
       "      <th>ageHead</th>\n",
       "      <th>liquidWealth</th>\n",
       "      <th>laborIncome</th>\n",
       "      <th>costPerPerson</th>\n",
       "      <th>totalExpense</th>\n",
       "      <th>participation</th>\n",
       "      <th>...</th>\n",
       "      <th>maritalStatus</th>\n",
       "      <th>employmentStatus</th>\n",
       "      <th>education</th>\n",
       "      <th>race</th>\n",
       "      <th>industry</th>\n",
       "      <th>ownership</th>\n",
       "      <th>skillLevel</th>\n",
       "      <th>financeExperience</th>\n",
       "      <th>ageGroup</th>\n",
       "      <th>decadeGroup</th>\n",
       "    </tr>\n",
       "  </thead>\n",
       "  <tbody>\n",
       "    <tr>\n",
       "      <th>0</th>\n",
       "      <td>3</td>\n",
       "      <td>1999</td>\n",
       "      <td>2</td>\n",
       "      <td>1</td>\n",
       "      <td>76</td>\n",
       "      <td>2.35</td>\n",
       "      <td>0.00</td>\n",
       "      <td>7.30</td>\n",
       "      <td>7.30</td>\n",
       "      <td>0</td>\n",
       "      <td>...</td>\n",
       "      <td>Widowed</td>\n",
       "      <td>retired</td>\n",
       "      <td>middleSchool</td>\n",
       "      <td>White</td>\n",
       "      <td>noneFinance</td>\n",
       "      <td>owner</td>\n",
       "      <td>Low</td>\n",
       "      <td>No</td>\n",
       "      <td>60-80</td>\n",
       "      <td>1990s</td>\n",
       "    </tr>\n",
       "    <tr>\n",
       "      <th>1</th>\n",
       "      <td>2</td>\n",
       "      <td>1999</td>\n",
       "      <td>0</td>\n",
       "      <td>4</td>\n",
       "      <td>47</td>\n",
       "      <td>0.00</td>\n",
       "      <td>26.14</td>\n",
       "      <td>4.17</td>\n",
       "      <td>16.68</td>\n",
       "      <td>1</td>\n",
       "      <td>...</td>\n",
       "      <td>Married</td>\n",
       "      <td>employed</td>\n",
       "      <td>highSchool</td>\n",
       "      <td>White</td>\n",
       "      <td>noneFinance</td>\n",
       "      <td>owner</td>\n",
       "      <td>Low</td>\n",
       "      <td>No</td>\n",
       "      <td>40-60</td>\n",
       "      <td>1990s</td>\n",
       "    </tr>\n",
       "    <tr>\n",
       "      <th>2</th>\n",
       "      <td>6129</td>\n",
       "      <td>1999</td>\n",
       "      <td>3</td>\n",
       "      <td>1</td>\n",
       "      <td>45</td>\n",
       "      <td>8.81</td>\n",
       "      <td>0.00</td>\n",
       "      <td>16.70</td>\n",
       "      <td>16.70</td>\n",
       "      <td>1</td>\n",
       "      <td>...</td>\n",
       "      <td>Divorced</td>\n",
       "      <td>employed</td>\n",
       "      <td>college</td>\n",
       "      <td>White</td>\n",
       "      <td>finance</td>\n",
       "      <td>owner</td>\n",
       "      <td>High</td>\n",
       "      <td>Yes</td>\n",
       "      <td>40-60</td>\n",
       "      <td>1990s</td>\n",
       "    </tr>\n",
       "    <tr>\n",
       "      <th>3</th>\n",
       "      <td>6944</td>\n",
       "      <td>1999</td>\n",
       "      <td>0</td>\n",
       "      <td>2</td>\n",
       "      <td>39</td>\n",
       "      <td>14.09</td>\n",
       "      <td>35.23</td>\n",
       "      <td>10.29</td>\n",
       "      <td>20.58</td>\n",
       "      <td>0</td>\n",
       "      <td>...</td>\n",
       "      <td>Divorced</td>\n",
       "      <td>employed</td>\n",
       "      <td>college</td>\n",
       "      <td>White</td>\n",
       "      <td>noneFinance</td>\n",
       "      <td>owner</td>\n",
       "      <td>High</td>\n",
       "      <td>No</td>\n",
       "      <td>20-40</td>\n",
       "      <td>1990s</td>\n",
       "    </tr>\n",
       "    <tr>\n",
       "      <th>4</th>\n",
       "      <td>3818</td>\n",
       "      <td>1999</td>\n",
       "      <td>4</td>\n",
       "      <td>4</td>\n",
       "      <td>34</td>\n",
       "      <td>0.00</td>\n",
       "      <td>48.85</td>\n",
       "      <td>4.45</td>\n",
       "      <td>17.80</td>\n",
       "      <td>0</td>\n",
       "      <td>...</td>\n",
       "      <td>Married</td>\n",
       "      <td>employed</td>\n",
       "      <td>highSchool</td>\n",
       "      <td>White</td>\n",
       "      <td>noneFinance</td>\n",
       "      <td>owner</td>\n",
       "      <td>Low</td>\n",
       "      <td>No</td>\n",
       "      <td>20-40</td>\n",
       "      <td>1990s</td>\n",
       "    </tr>\n",
       "  </tbody>\n",
       "</table>\n",
       "<p>5 rows × 25 columns</p>\n",
       "</div>"
      ],
      "text/plain": [
       "   familyID  year  composition  headCount  ageHead  liquidWealth  laborIncome  \\\n",
       "0         3  1999            2          1       76          2.35         0.00   \n",
       "1         2  1999            0          4       47          0.00        26.14   \n",
       "2      6129  1999            3          1       45          8.81         0.00   \n",
       "3      6944  1999            0          2       39         14.09        35.23   \n",
       "4      3818  1999            4          4       34          0.00        48.85   \n",
       "\n",
       "   costPerPerson  totalExpense  participation  ...  maritalStatus  \\\n",
       "0           7.30          7.30              0  ...        Widowed   \n",
       "1           4.17         16.68              1  ...        Married   \n",
       "2          16.70         16.70              1  ...       Divorced   \n",
       "3          10.29         20.58              0  ...       Divorced   \n",
       "4           4.45         17.80              0  ...        Married   \n",
       "\n",
       "   employmentStatus     education   race     industry ownership skillLevel  \\\n",
       "0           retired  middleSchool  White  noneFinance     owner        Low   \n",
       "1          employed    highSchool  White  noneFinance     owner        Low   \n",
       "2          employed       college  White      finance     owner       High   \n",
       "3          employed       college  White  noneFinance     owner       High   \n",
       "4          employed    highSchool  White  noneFinance     owner        Low   \n",
       "\n",
       "  financeExperience ageGroup decadeGroup  \n",
       "0                No    60-80       1990s  \n",
       "1                No    40-60       1990s  \n",
       "2               Yes    40-60       1990s  \n",
       "3                No    20-40       1990s  \n",
       "4                No    20-40       1990s  \n",
       "\n",
       "[5 rows x 25 columns]"
      ]
     },
     "execution_count": 13,
     "metadata": {},
     "output_type": "execute_result"
    }
   ],
   "source": [
    "Fdf.head()"
   ]
  },
  {
   "cell_type": "code",
   "execution_count": 14,
   "metadata": {},
   "outputs": [
    {
     "data": {
      "text/html": [
       "<div>\n",
       "<style scoped>\n",
       "    .dataframe tbody tr th:only-of-type {\n",
       "        vertical-align: middle;\n",
       "    }\n",
       "\n",
       "    .dataframe tbody tr th {\n",
       "        vertical-align: top;\n",
       "    }\n",
       "\n",
       "    .dataframe thead th {\n",
       "        text-align: right;\n",
       "    }\n",
       "</style>\n",
       "<table border=\"1\" class=\"dataframe\">\n",
       "  <thead>\n",
       "    <tr style=\"text-align: right;\">\n",
       "      <th></th>\n",
       "      <th>familyID</th>\n",
       "      <th>year</th>\n",
       "      <th>composition</th>\n",
       "      <th>headCount</th>\n",
       "      <th>ageHead</th>\n",
       "      <th>liquidWealth</th>\n",
       "      <th>laborIncome</th>\n",
       "      <th>costPerPerson</th>\n",
       "      <th>totalExpense</th>\n",
       "      <th>participation</th>\n",
       "      <th>...</th>\n",
       "      <th>maritalStatus</th>\n",
       "      <th>employmentStatus</th>\n",
       "      <th>education</th>\n",
       "      <th>race</th>\n",
       "      <th>industry</th>\n",
       "      <th>ownership</th>\n",
       "      <th>skillLevel</th>\n",
       "      <th>financeExperience</th>\n",
       "      <th>ageGroup</th>\n",
       "      <th>decadeGroup</th>\n",
       "    </tr>\n",
       "  </thead>\n",
       "  <tbody>\n",
       "    <tr>\n",
       "      <th>69687</th>\n",
       "      <td>2534</td>\n",
       "      <td>2019</td>\n",
       "      <td>1</td>\n",
       "      <td>4</td>\n",
       "      <td>39</td>\n",
       "      <td>0.00</td>\n",
       "      <td>9.18</td>\n",
       "      <td>4.27</td>\n",
       "      <td>17.08</td>\n",
       "      <td>0</td>\n",
       "      <td>...</td>\n",
       "      <td>neverMarried</td>\n",
       "      <td>unemployed</td>\n",
       "      <td>college</td>\n",
       "      <td>Black</td>\n",
       "      <td>noneFinance</td>\n",
       "      <td>renter</td>\n",
       "      <td>High</td>\n",
       "      <td>No</td>\n",
       "      <td>20-40</td>\n",
       "      <td>2010s</td>\n",
       "    </tr>\n",
       "    <tr>\n",
       "      <th>69688</th>\n",
       "      <td>2162</td>\n",
       "      <td>2019</td>\n",
       "      <td>0</td>\n",
       "      <td>1</td>\n",
       "      <td>27</td>\n",
       "      <td>0.00</td>\n",
       "      <td>3.64</td>\n",
       "      <td>11.40</td>\n",
       "      <td>11.40</td>\n",
       "      <td>0</td>\n",
       "      <td>...</td>\n",
       "      <td>neverMarried</td>\n",
       "      <td>employed</td>\n",
       "      <td>college</td>\n",
       "      <td>Black</td>\n",
       "      <td>noneFinance</td>\n",
       "      <td>renter</td>\n",
       "      <td>High</td>\n",
       "      <td>No</td>\n",
       "      <td>20-40</td>\n",
       "      <td>2010s</td>\n",
       "    </tr>\n",
       "    <tr>\n",
       "      <th>69689</th>\n",
       "      <td>9011</td>\n",
       "      <td>2019</td>\n",
       "      <td>1</td>\n",
       "      <td>1</td>\n",
       "      <td>59</td>\n",
       "      <td>0.38</td>\n",
       "      <td>19.13</td>\n",
       "      <td>23.71</td>\n",
       "      <td>23.71</td>\n",
       "      <td>0</td>\n",
       "      <td>...</td>\n",
       "      <td>Divorced</td>\n",
       "      <td>employed</td>\n",
       "      <td>college</td>\n",
       "      <td>Black</td>\n",
       "      <td>noneFinance</td>\n",
       "      <td>renter</td>\n",
       "      <td>High</td>\n",
       "      <td>No</td>\n",
       "      <td>40-60</td>\n",
       "      <td>2010s</td>\n",
       "    </tr>\n",
       "    <tr>\n",
       "      <th>69690</th>\n",
       "      <td>9317</td>\n",
       "      <td>2019</td>\n",
       "      <td>8</td>\n",
       "      <td>2</td>\n",
       "      <td>61</td>\n",
       "      <td>0.00</td>\n",
       "      <td>0.00</td>\n",
       "      <td>3.91</td>\n",
       "      <td>7.83</td>\n",
       "      <td>0</td>\n",
       "      <td>...</td>\n",
       "      <td>Divorced</td>\n",
       "      <td>unemployed</td>\n",
       "      <td>college</td>\n",
       "      <td>Black</td>\n",
       "      <td>finance</td>\n",
       "      <td>renter</td>\n",
       "      <td>High</td>\n",
       "      <td>Yes</td>\n",
       "      <td>60-80</td>\n",
       "      <td>2010s</td>\n",
       "    </tr>\n",
       "    <tr>\n",
       "      <th>69691</th>\n",
       "      <td>3682</td>\n",
       "      <td>2019</td>\n",
       "      <td>0</td>\n",
       "      <td>4</td>\n",
       "      <td>39</td>\n",
       "      <td>6.12</td>\n",
       "      <td>112.17</td>\n",
       "      <td>11.42</td>\n",
       "      <td>45.67</td>\n",
       "      <td>0</td>\n",
       "      <td>...</td>\n",
       "      <td>Married</td>\n",
       "      <td>employed</td>\n",
       "      <td>college</td>\n",
       "      <td>Black</td>\n",
       "      <td>noneFinance</td>\n",
       "      <td>owner</td>\n",
       "      <td>High</td>\n",
       "      <td>No</td>\n",
       "      <td>20-40</td>\n",
       "      <td>2010s</td>\n",
       "    </tr>\n",
       "  </tbody>\n",
       "</table>\n",
       "<p>5 rows × 25 columns</p>\n",
       "</div>"
      ],
      "text/plain": [
       "       familyID  year  composition  headCount  ageHead  liquidWealth  \\\n",
       "69687      2534  2019            1          4       39          0.00   \n",
       "69688      2162  2019            0          1       27          0.00   \n",
       "69689      9011  2019            1          1       59          0.38   \n",
       "69690      9317  2019            8          2       61          0.00   \n",
       "69691      3682  2019            0          4       39          6.12   \n",
       "\n",
       "       laborIncome  costPerPerson  totalExpense  participation  ...  \\\n",
       "69687         9.18           4.27         17.08              0  ...   \n",
       "69688         3.64          11.40         11.40              0  ...   \n",
       "69689        19.13          23.71         23.71              0  ...   \n",
       "69690         0.00           3.91          7.83              0  ...   \n",
       "69691       112.17          11.42         45.67              0  ...   \n",
       "\n",
       "       maritalStatus  employmentStatus  education   race     industry  \\\n",
       "69687   neverMarried        unemployed    college  Black  noneFinance   \n",
       "69688   neverMarried          employed    college  Black  noneFinance   \n",
       "69689       Divorced          employed    college  Black  noneFinance   \n",
       "69690       Divorced        unemployed    college  Black      finance   \n",
       "69691        Married          employed    college  Black  noneFinance   \n",
       "\n",
       "      ownership skillLevel financeExperience ageGroup decadeGroup  \n",
       "69687    renter       High                No    20-40       2010s  \n",
       "69688    renter       High                No    20-40       2010s  \n",
       "69689    renter       High                No    40-60       2010s  \n",
       "69690    renter       High               Yes    60-80       2010s  \n",
       "69691     owner       High                No    20-40       2010s  \n",
       "\n",
       "[5 rows x 25 columns]"
      ]
     },
     "execution_count": 14,
     "metadata": {},
     "output_type": "execute_result"
    }
   ],
   "source": [
    "Fdf.tail()"
   ]
  },
  {
   "cell_type": "code",
   "execution_count": 15,
   "metadata": {},
   "outputs": [
    {
     "data": {
      "text/html": [
       "<div>\n",
       "<style scoped>\n",
       "    .dataframe tbody tr th:only-of-type {\n",
       "        vertical-align: middle;\n",
       "    }\n",
       "\n",
       "    .dataframe tbody tr th {\n",
       "        vertical-align: top;\n",
       "    }\n",
       "\n",
       "    .dataframe thead th {\n",
       "        text-align: right;\n",
       "    }\n",
       "</style>\n",
       "<table border=\"1\" class=\"dataframe\">\n",
       "  <thead>\n",
       "    <tr style=\"text-align: right;\">\n",
       "      <th></th>\n",
       "      <th>familyID</th>\n",
       "      <th>year</th>\n",
       "      <th>composition</th>\n",
       "      <th>headCount</th>\n",
       "      <th>ageHead</th>\n",
       "      <th>liquidWealth</th>\n",
       "      <th>laborIncome</th>\n",
       "      <th>costPerPerson</th>\n",
       "      <th>totalExpense</th>\n",
       "      <th>participation</th>\n",
       "      <th>...</th>\n",
       "      <th>maritalStatus</th>\n",
       "      <th>employmentStatus</th>\n",
       "      <th>education</th>\n",
       "      <th>race</th>\n",
       "      <th>industry</th>\n",
       "      <th>ownership</th>\n",
       "      <th>skillLevel</th>\n",
       "      <th>financeExperience</th>\n",
       "      <th>ageGroup</th>\n",
       "      <th>decadeGroup</th>\n",
       "    </tr>\n",
       "  </thead>\n",
       "  <tbody>\n",
       "    <tr>\n",
       "      <th>1094</th>\n",
       "      <td>862</td>\n",
       "      <td>1999</td>\n",
       "      <td>0</td>\n",
       "      <td>1</td>\n",
       "      <td>24</td>\n",
       "      <td>1.17</td>\n",
       "      <td>7.75</td>\n",
       "      <td>20.06</td>\n",
       "      <td>20.06</td>\n",
       "      <td>0</td>\n",
       "      <td>...</td>\n",
       "      <td>neverMarried</td>\n",
       "      <td>employed</td>\n",
       "      <td>college</td>\n",
       "      <td>White</td>\n",
       "      <td>noneFinance</td>\n",
       "      <td>renter</td>\n",
       "      <td>High</td>\n",
       "      <td>No</td>\n",
       "      <td>20-40</td>\n",
       "      <td>1990s</td>\n",
       "    </tr>\n",
       "    <tr>\n",
       "      <th>23485</th>\n",
       "      <td>6067</td>\n",
       "      <td>2007</td>\n",
       "      <td>1</td>\n",
       "      <td>2</td>\n",
       "      <td>38</td>\n",
       "      <td>0.00</td>\n",
       "      <td>1.88</td>\n",
       "      <td>8.82</td>\n",
       "      <td>17.64</td>\n",
       "      <td>0</td>\n",
       "      <td>...</td>\n",
       "      <td>Divorced</td>\n",
       "      <td>unemployed</td>\n",
       "      <td>college</td>\n",
       "      <td>White</td>\n",
       "      <td>noneFinance</td>\n",
       "      <td>renter</td>\n",
       "      <td>High</td>\n",
       "      <td>No</td>\n",
       "      <td>20-40</td>\n",
       "      <td>2000s</td>\n",
       "    </tr>\n",
       "    <tr>\n",
       "      <th>24066</th>\n",
       "      <td>7122</td>\n",
       "      <td>2007</td>\n",
       "      <td>0</td>\n",
       "      <td>3</td>\n",
       "      <td>54</td>\n",
       "      <td>1.88</td>\n",
       "      <td>49.22</td>\n",
       "      <td>13.75</td>\n",
       "      <td>41.26</td>\n",
       "      <td>0</td>\n",
       "      <td>...</td>\n",
       "      <td>Married</td>\n",
       "      <td>employed</td>\n",
       "      <td>postGraduate</td>\n",
       "      <td>White</td>\n",
       "      <td>noneFinance</td>\n",
       "      <td>renter</td>\n",
       "      <td>High</td>\n",
       "      <td>No</td>\n",
       "      <td>40-60</td>\n",
       "      <td>2000s</td>\n",
       "    </tr>\n",
       "    <tr>\n",
       "      <th>24432</th>\n",
       "      <td>4879</td>\n",
       "      <td>2007</td>\n",
       "      <td>0</td>\n",
       "      <td>1</td>\n",
       "      <td>48</td>\n",
       "      <td>70.45</td>\n",
       "      <td>0.00</td>\n",
       "      <td>43.37</td>\n",
       "      <td>43.37</td>\n",
       "      <td>0</td>\n",
       "      <td>...</td>\n",
       "      <td>Divorced</td>\n",
       "      <td>employed</td>\n",
       "      <td>postGraduate</td>\n",
       "      <td>White</td>\n",
       "      <td>noneFinance</td>\n",
       "      <td>renter</td>\n",
       "      <td>High</td>\n",
       "      <td>No</td>\n",
       "      <td>40-60</td>\n",
       "      <td>2000s</td>\n",
       "    </tr>\n",
       "    <tr>\n",
       "      <th>25032</th>\n",
       "      <td>4503</td>\n",
       "      <td>2007</td>\n",
       "      <td>0</td>\n",
       "      <td>1</td>\n",
       "      <td>63</td>\n",
       "      <td>232.97</td>\n",
       "      <td>17.33</td>\n",
       "      <td>32.20</td>\n",
       "      <td>32.20</td>\n",
       "      <td>1</td>\n",
       "      <td>...</td>\n",
       "      <td>Divorced</td>\n",
       "      <td>employed</td>\n",
       "      <td>college</td>\n",
       "      <td>White</td>\n",
       "      <td>noneFinance</td>\n",
       "      <td>renter</td>\n",
       "      <td>High</td>\n",
       "      <td>No</td>\n",
       "      <td>60-80</td>\n",
       "      <td>2000s</td>\n",
       "    </tr>\n",
       "  </tbody>\n",
       "</table>\n",
       "<p>5 rows × 25 columns</p>\n",
       "</div>"
      ],
      "text/plain": [
       "       familyID  year  composition  headCount  ageHead  liquidWealth  \\\n",
       "1094        862  1999            0          1       24          1.17   \n",
       "23485      6067  2007            1          2       38          0.00   \n",
       "24066      7122  2007            0          3       54          1.88   \n",
       "24432      4879  2007            0          1       48         70.45   \n",
       "25032      4503  2007            0          1       63        232.97   \n",
       "\n",
       "       laborIncome  costPerPerson  totalExpense  participation  ...  \\\n",
       "1094          7.75          20.06         20.06              0  ...   \n",
       "23485         1.88           8.82         17.64              0  ...   \n",
       "24066        49.22          13.75         41.26              0  ...   \n",
       "24432         0.00          43.37         43.37              0  ...   \n",
       "25032        17.33          32.20         32.20              1  ...   \n",
       "\n",
       "       maritalStatus  employmentStatus     education   race     industry  \\\n",
       "1094    neverMarried          employed       college  White  noneFinance   \n",
       "23485       Divorced        unemployed       college  White  noneFinance   \n",
       "24066        Married          employed  postGraduate  White  noneFinance   \n",
       "24432       Divorced          employed  postGraduate  White  noneFinance   \n",
       "25032       Divorced          employed       college  White  noneFinance   \n",
       "\n",
       "      ownership skillLevel financeExperience ageGroup decadeGroup  \n",
       "1094     renter       High                No    20-40       1990s  \n",
       "23485    renter       High                No    20-40       2000s  \n",
       "24066    renter       High                No    40-60       2000s  \n",
       "24432    renter       High                No    40-60       2000s  \n",
       "25032    renter       High                No    60-80       2000s  \n",
       "\n",
       "[5 rows x 25 columns]"
      ]
     },
     "execution_count": 15,
     "metadata": {},
     "output_type": "execute_result"
    }
   ],
   "source": [
    "Fdf[(Fdf[\"ownership\"] == \"renter\") & (Fdf[\"HomeEquity\"] != 0)]"
   ]
  },
  {
   "cell_type": "code",
   "execution_count": 16,
   "metadata": {},
   "outputs": [],
   "source": [
    "Fdf[\"stockInvestmentRatio\"] = Fdf.investmentAmount/Fdf.wealthWithoutHomeEquity\n",
    "Fdf.loc[-((Fdf[\"stockInvestmentRatio\"] >= 0)&(Fdf[\"stockInvestmentRatio\"] <= 1)), \"stockInvestmentRatio\"] = 0"
   ]
  },
  {
   "cell_type": "code",
   "execution_count": 17,
   "metadata": {},
   "outputs": [],
   "source": [
    "# plt.title(\"Mean Total Wealth Level Empirical Value vs Model Value\")\n",
    "# plt.plot(range(20,81), np.load(\"modelPoorHigh.npy\"), label = \"HighSkilled_model\")\n",
    "# plt.plot(range(20,81), np.load(\"modelRichLow.npy\"), label = \"LowSkilled_model\")\n",
    "# plt.plot(range(20,81), Fdf[Fdf[\"skillLevel\"] == \"High\"].groupby(\"ageHead\")[\"wealthWithHomeEquity\"].mean().values, label = \"HighSkilled_empirical\")\n",
    "# plt.plot(range(20,81), Fdf[Fdf[\"skillLevel\"] == \"Low\"].groupby(\"ageHead\")[\"wealthWithHomeEquity\"].mean().values, label = \"LowSkilled_empirical\")\n",
    "# plt.legend()\n",
    "# savefig('EmpiricalVsModel.jpg')"
   ]
  },
  {
   "cell_type": "code",
   "execution_count": null,
   "metadata": {},
   "outputs": [],
   "source": []
  },
  {
   "cell_type": "code",
   "execution_count": null,
   "metadata": {},
   "outputs": [],
   "source": []
  },
  {
   "cell_type": "code",
   "execution_count": null,
   "metadata": {},
   "outputs": [],
   "source": []
  },
  {
   "cell_type": "code",
   "execution_count": 18,
   "metadata": {},
   "outputs": [],
   "source": [
    "Fdf.to_csv(\"familyData.csv\")"
   ]
  },
  {
   "cell_type": "code",
   "execution_count": 19,
   "metadata": {},
   "outputs": [
    {
     "data": {
      "image/png": "[encoded data removed]",
      "text/plain": [
       "<Figure size 1152x576 with 1 Axes>"
      ]
     },
     "metadata": {
      "needs_background": "light"
     },
     "output_type": "display_data"
    }
   ],
   "source": [
    "plt.title(\"Participation ratio over different edcucation backgrounds\")\n",
    "Fdf.loc[Fdf[\"education\"]==\"middleSchool\", \"education\"] = \"highSchool\"\n",
    "Fdf.groupby(\"education\").participation.mean().reindex([\"highSchool\", \"college\", \"postGraduate\"]).plot.bar(color = \"blue\",rot=0)\n",
    "savefig('educationParticipation.jpg')"
   ]
  },
  {
   "cell_type": "code",
   "execution_count": 20,
   "metadata": {},
   "outputs": [
    {
     "data": {
      "image/png": "[encoded data removed]",
      "text/plain": [
       "<Figure size 1152x576 with 1 Axes>"
      ]
     },
     "metadata": {
      "needs_background": "light"
     },
     "output_type": "display_data"
    }
   ],
   "source": [
    "Fdf.loc[Fdf[\"employmentStatus\"]==\"Working\", \"employmentStatus\"] = \"employed\"\n",
    "plt.title(\"Participation ratio over different employment status\")\n",
    "Fdf.groupby(\"employmentStatus\").participation.mean().reindex([\"unemployed\", \"employed\", \"retired\"]).plot.bar(color = \"blue\",rot=0)\n",
    "savefig('employmentParticipation.jpg')"
   ]
  },
  {
   "cell_type": "code",
   "execution_count": 21,
   "metadata": {},
   "outputs": [
    {
     "data": {
      "image/png": "[encoded data removed]",
      "text/plain": [
       "<Figure size 1152x576 with 1 Axes>"
      ]
     },
     "metadata": {
      "needs_background": "light"
     },
     "output_type": "display_data"
    }
   ],
   "source": [
    "plt.title(\"Participation ratio over different employment industries\")\n",
    "Fdf.groupby(\"industry\").participation.mean().plot.bar(color = \"blue\",rot=0)\n",
    "savefig('industryParticipation.jpg')"
   ]
  },
  {
   "cell_type": "code",
   "execution_count": 22,
   "metadata": {},
   "outputs": [
    {
     "data": {
      "image/png": "[encoded data removed]",
      "text/plain": [
       "<Figure size 1152x576 with 1 Axes>"
      ]
     },
     "metadata": {
      "needs_background": "light"
     },
     "output_type": "display_data"
    }
   ],
   "source": [
    "plt.title(\"Participation ratio over different age groups\")\n",
    "Fdf.groupby(\"ageGroup\").participation.mean().plot.bar(color = \"blue\",rot=0)\n",
    "savefig('ageParticipation.jpg')"
   ]
  },
  {
   "cell_type": "code",
   "execution_count": 23,
   "metadata": {},
   "outputs": [
    {
     "data": {
      "image/png": "[encoded data removed]",
      "text/plain": [
       "<Figure size 1152x576 with 1 Axes>"
      ]
     },
     "metadata": {
      "needs_background": "light"
     },
     "output_type": "display_data"
    }
   ],
   "source": [
    "plt.title(\"Participation ratio over housing status\")\n",
    "Fdf.groupby(\"ownership\").participation.mean().plot.bar(color = \"blue\",rot=0)\n",
    "savefig('ownership.jpg')"
   ]
  },
  {
   "cell_type": "code",
   "execution_count": 24,
   "metadata": {},
   "outputs": [
    {
     "data": {
      "image/png": "[encoded data removed]",
      "text/plain": [
       "<Figure size 1152x576 with 1 Axes>"
      ]
     },
     "metadata": {
      "needs_background": "light"
     },
     "output_type": "display_data"
    }
   ],
   "source": [
    "plt.title(\"Participation ratio over different years\")\n",
    "Fdf.groupby(\"year\").participation.mean().plot.bar(color = \"blue\",rot=0)\n",
    "savefig('year.jpg')"
   ]
  },
  {
   "cell_type": "code",
   "execution_count": null,
   "metadata": {},
   "outputs": [],
   "source": []
  },
  {
   "cell_type": "code",
   "execution_count": null,
   "metadata": {},
   "outputs": [],
   "source": []
  },
  {
   "cell_type": "code",
   "execution_count": null,
   "metadata": {},
   "outputs": [],
   "source": []
  },
  {
   "cell_type": "code",
   "execution_count": 25,
   "metadata": {},
   "outputs": [
    {
     "data": {
      "text/html": [
       "<div>\n",
       "<style scoped>\n",
       "    .dataframe tbody tr th:only-of-type {\n",
       "        vertical-align: middle;\n",
       "    }\n",
       "\n",
       "    .dataframe tbody tr th {\n",
       "        vertical-align: top;\n",
       "    }\n",
       "\n",
       "    .dataframe thead th {\n",
       "        text-align: right;\n",
       "    }\n",
       "</style>\n",
       "<table border=\"1\" class=\"dataframe\">\n",
       "  <thead>\n",
       "    <tr style=\"text-align: right;\">\n",
       "      <th></th>\n",
       "      <th>familyID</th>\n",
       "      <th>year</th>\n",
       "      <th>composition</th>\n",
       "      <th>headCount</th>\n",
       "      <th>ageHead</th>\n",
       "      <th>liquidWealth</th>\n",
       "      <th>laborIncome</th>\n",
       "      <th>costPerPerson</th>\n",
       "      <th>totalExpense</th>\n",
       "      <th>participation</th>\n",
       "      <th>...</th>\n",
       "      <th>employmentStatus</th>\n",
       "      <th>education</th>\n",
       "      <th>race</th>\n",
       "      <th>industry</th>\n",
       "      <th>ownership</th>\n",
       "      <th>skillLevel</th>\n",
       "      <th>financeExperience</th>\n",
       "      <th>ageGroup</th>\n",
       "      <th>decadeGroup</th>\n",
       "      <th>stockInvestmentRatio</th>\n",
       "    </tr>\n",
       "  </thead>\n",
       "  <tbody>\n",
       "    <tr>\n",
       "      <th>0</th>\n",
       "      <td>3</td>\n",
       "      <td>1999</td>\n",
       "      <td>2</td>\n",
       "      <td>1</td>\n",
       "      <td>76</td>\n",
       "      <td>2.35</td>\n",
       "      <td>0.00</td>\n",
       "      <td>7.30</td>\n",
       "      <td>7.30</td>\n",
       "      <td>0</td>\n",
       "      <td>...</td>\n",
       "      <td>retired</td>\n",
       "      <td>highSchool</td>\n",
       "      <td>White</td>\n",
       "      <td>noneFinance</td>\n",
       "      <td>owner</td>\n",
       "      <td>Low</td>\n",
       "      <td>No</td>\n",
       "      <td>60-80</td>\n",
       "      <td>1990s</td>\n",
       "      <td>0.00</td>\n",
       "    </tr>\n",
       "    <tr>\n",
       "      <th>1</th>\n",
       "      <td>2</td>\n",
       "      <td>1999</td>\n",
       "      <td>0</td>\n",
       "      <td>4</td>\n",
       "      <td>47</td>\n",
       "      <td>0.00</td>\n",
       "      <td>26.14</td>\n",
       "      <td>4.17</td>\n",
       "      <td>16.68</td>\n",
       "      <td>1</td>\n",
       "      <td>...</td>\n",
       "      <td>employed</td>\n",
       "      <td>highSchool</td>\n",
       "      <td>White</td>\n",
       "      <td>noneFinance</td>\n",
       "      <td>owner</td>\n",
       "      <td>Low</td>\n",
       "      <td>No</td>\n",
       "      <td>40-60</td>\n",
       "      <td>1990s</td>\n",
       "      <td>0.40</td>\n",
       "    </tr>\n",
       "    <tr>\n",
       "      <th>2</th>\n",
       "      <td>6129</td>\n",
       "      <td>1999</td>\n",
       "      <td>3</td>\n",
       "      <td>1</td>\n",
       "      <td>45</td>\n",
       "      <td>8.81</td>\n",
       "      <td>0.00</td>\n",
       "      <td>16.70</td>\n",
       "      <td>16.70</td>\n",
       "      <td>1</td>\n",
       "      <td>...</td>\n",
       "      <td>employed</td>\n",
       "      <td>college</td>\n",
       "      <td>White</td>\n",
       "      <td>finance</td>\n",
       "      <td>owner</td>\n",
       "      <td>High</td>\n",
       "      <td>Yes</td>\n",
       "      <td>40-60</td>\n",
       "      <td>1990s</td>\n",
       "      <td>0.02</td>\n",
       "    </tr>\n",
       "    <tr>\n",
       "      <th>3</th>\n",
       "      <td>6944</td>\n",
       "      <td>1999</td>\n",
       "      <td>0</td>\n",
       "      <td>2</td>\n",
       "      <td>39</td>\n",
       "      <td>14.09</td>\n",
       "      <td>35.23</td>\n",
       "      <td>10.29</td>\n",
       "      <td>20.58</td>\n",
       "      <td>0</td>\n",
       "      <td>...</td>\n",
       "      <td>employed</td>\n",
       "      <td>college</td>\n",
       "      <td>White</td>\n",
       "      <td>noneFinance</td>\n",
       "      <td>owner</td>\n",
       "      <td>High</td>\n",
       "      <td>No</td>\n",
       "      <td>20-40</td>\n",
       "      <td>1990s</td>\n",
       "      <td>0.00</td>\n",
       "    </tr>\n",
       "    <tr>\n",
       "      <th>4</th>\n",
       "      <td>3818</td>\n",
       "      <td>1999</td>\n",
       "      <td>4</td>\n",
       "      <td>4</td>\n",
       "      <td>34</td>\n",
       "      <td>0.00</td>\n",
       "      <td>48.85</td>\n",
       "      <td>4.45</td>\n",
       "      <td>17.80</td>\n",
       "      <td>0</td>\n",
       "      <td>...</td>\n",
       "      <td>employed</td>\n",
       "      <td>highSchool</td>\n",
       "      <td>White</td>\n",
       "      <td>noneFinance</td>\n",
       "      <td>owner</td>\n",
       "      <td>Low</td>\n",
       "      <td>No</td>\n",
       "      <td>20-40</td>\n",
       "      <td>1990s</td>\n",
       "      <td>0.00</td>\n",
       "    </tr>\n",
       "  </tbody>\n",
       "</table>\n",
       "<p>5 rows × 26 columns</p>\n",
       "</div>"
      ],
      "text/plain": [
       "   familyID  year  composition  headCount  ageHead  liquidWealth  laborIncome  \\\n",
       "0         3  1999            2          1       76          2.35         0.00   \n",
       "1         2  1999            0          4       47          0.00        26.14   \n",
       "2      6129  1999            3          1       45          8.81         0.00   \n",
       "3      6944  1999            0          2       39         14.09        35.23   \n",
       "4      3818  1999            4          4       34          0.00        48.85   \n",
       "\n",
       "   costPerPerson  totalExpense  participation  ...  employmentStatus  \\\n",
       "0           7.30          7.30              0  ...           retired   \n",
       "1           4.17         16.68              1  ...          employed   \n",
       "2          16.70         16.70              1  ...          employed   \n",
       "3          10.29         20.58              0  ...          employed   \n",
       "4           4.45         17.80              0  ...          employed   \n",
       "\n",
       "    education   race     industry  ownership skillLevel financeExperience  \\\n",
       "0  highSchool  White  noneFinance      owner        Low                No   \n",
       "1  highSchool  White  noneFinance      owner        Low                No   \n",
       "2     college  White      finance      owner       High               Yes   \n",
       "3     college  White  noneFinance      owner       High                No   \n",
       "4  highSchool  White  noneFinance      owner        Low                No   \n",
       "\n",
       "  ageGroup decadeGroup stockInvestmentRatio  \n",
       "0    60-80       1990s                 0.00  \n",
       "1    40-60       1990s                 0.40  \n",
       "2    40-60       1990s                 0.02  \n",
       "3    20-40       1990s                 0.00  \n",
       "4    20-40       1990s                 0.00  \n",
       "\n",
       "[5 rows x 26 columns]"
      ]
     },
     "execution_count": 25,
     "metadata": {},
     "output_type": "execute_result"
    }
   ],
   "source": [
    "Fdf.head()"
   ]
  },
  {
   "cell_type": "code",
   "execution_count": 26,
   "metadata": {
    "scrolled": true
   },
   "outputs": [
    {
     "data": {
      "image/png": "[encoded data removed]",
      "text/plain": [
       "<Figure size 1152x576 with 1 Axes>"
      ]
     },
     "metadata": {
      "needs_background": "light"
     },
     "output_type": "display_data"
    },
    {
     "data": {
      "image/png": "[encoded data removed]",
      "text/plain": [
       "<Figure size 1152x576 with 1 Axes>"
      ]
     },
     "metadata": {
      "needs_background": "light"
     },
     "output_type": "display_data"
    },
    {
     "data": {
      "image/png": "[encoded data removed]",
      "text/plain": [
       "<Figure size 1152x576 with 1 Axes>"
      ]
     },
     "metadata": {
      "needs_background": "light"
     },
     "output_type": "display_data"
    },
    {
     "data": {
      "image/png": "[encoded data removed]",
      "text/plain": [
       "<Figure size 1152x576 with 1 Axes>"
      ]
     },
     "metadata": {
      "needs_background": "light"
     },
     "output_type": "display_data"
    },
    {
     "data": {
      "image/png": "[encoded data removed]",
      "text/plain": [
       "<Figure size 1152x576 with 1 Axes>"
      ]
     },
     "metadata": {
      "needs_background": "light"
     },
     "output_type": "display_data"
    },
    {
     "data": {
      "image/png": "[encoded data removed]",
      "text/plain": [
       "<Figure size 1152x576 with 1 Axes>"
      ]
     },
     "metadata": {
      "needs_background": "light"
     },
     "output_type": "display_data"
    },
    {
     "data": {
      "image/png": "[encoded data removed]",
      "text/plain": [
       "<Figure size 1152x576 with 1 Axes>"
      ]
     },
     "metadata": {
      "needs_background": "light"
     },
     "output_type": "display_data"
    },
    {
     "data": {
      "image/png": "[encoded data removed]",
      "text/plain": [
       "<Figure size 1152x576 with 1 Axes>"
      ]
     },
     "metadata": {
      "needs_background": "light"
     },
     "output_type": "display_data"
    },
    {
     "data": {
      "image/png": "[encoded data removed]",
      "text/plain": [
       "<Figure size 1152x576 with 1 Axes>"
      ]
     },
     "metadata": {
      "needs_background": "light"
     },
     "output_type": "display_data"
    },
    {
     "data": {
      "image/png": "[encoded data removed]",
      "text/plain": [
       "<Figure size 1152x576 with 1 Axes>"
      ]
     },
     "metadata": {
      "needs_background": "light"
     },
     "output_type": "display_data"
    },
    {
     "data": {
      "image/png": "[encoded data removed]",
      "text/plain": [
       "<Figure size 1152x576 with 1 Axes>"
      ]
     },
     "metadata": {
      "needs_background": "light"
     },
     "output_type": "display_data"
    }
   ],
   "source": [
    "for year in years:\n",
    "    plt.figure()\n",
    "    plt.title(\"age distribution in the year: \" + str(year))\n",
    "    plt.hist(Fdf[Fdf[\"year\"] == year].ageHead, bins = 100)"
   ]
  },
  {
   "cell_type": "code",
   "execution_count": 53,
   "metadata": {
    "scrolled": false
   },
   "outputs": [
    {
     "data": {
      "text/plain": [
       "<matplotlib.legend.Legend at 0x7feeab9329d0>"
      ]
     },
     "execution_count": 53,
     "metadata": {},
     "output_type": "execute_result"
    },
    {
     "data": {
      "image/png": "[encoded data removed]",
      "text/plain": [
       "<Figure size 1152x576 with 1 Axes>"
      ]
     },
     "metadata": {
      "needs_background": "light"
     },
     "output_type": "display_data"
    }
   ],
   "source": [
    "for year in years:\n",
    "    highSkill = plt.scatter(year, Fdf[(Fdf[\"year\"] == year)&(Fdf[\"skillLevel\"] == \"High\")].shape[0], color = 'r')\n",
    "    lowSkill = plt.scatter(year, Fdf[(Fdf[\"year\"] == year)&(Fdf[\"skillLevel\"] == \"Low\")].shape[0], color = 'g')\n",
    "plt.legend((heighSkill,lowSkill), (\"highSkill\", \"lowSkill\"))"
   ]
  },
  {
   "cell_type": "code",
   "execution_count": 59,
   "metadata": {
    "scrolled": false
   },
   "outputs": [
    {
     "data": {
      "text/plain": [
       "<matplotlib.legend.Legend at 0x7feea7146c10>"
      ]
     },
     "execution_count": 59,
     "metadata": {},
     "output_type": "execute_result"
    },
    {
     "data": {
      "image/png": "[encoded data removed]",
      "text/plain": [
       "<Figure size 1152x576 with 1 Axes>"
      ]
     },
     "metadata": {
      "needs_background": "light"
     },
     "output_type": "display_data"
    }
   ],
   "source": [
    "highSkillRatios = []\n",
    "lowSkillRatios = []\n",
    "for year in years:\n",
    "    highRatio = Fdf[(Fdf[\"year\"] == year)&(Fdf[\"skillLevel\"] == \"High\")].shape[0]/Fdf[(Fdf[\"year\"] == year)].shape[0]\n",
    "    lowRatio = Fdf[(Fdf[\"year\"] == year)&(Fdf[\"skillLevel\"] == \"Low\")].shape[0]/Fdf[(Fdf[\"year\"] == year)].shape[0]\n",
    "    highSkillRatios.append(highRatio)\n",
    "    lowSkillRatios.append(lowRatio)\n",
    "    highSkill = plt.scatter(year, highRatio, color = 'r')\n",
    "    lowSkill = plt.scatter(year, lowRatio, color = 'g')\n",
    "plt.legend((heighSkill,lowSkill), (\"highSkill\", \"lowSkill\"))"
   ]
  },
  {
   "cell_type": "code",
   "execution_count": 61,
   "metadata": {},
   "outputs": [
    {
     "data": {
      "text/plain": [
       "[0.7887897595034911,\n",
       " 0.7957772115034584,\n",
       " 0.8200821868858317,\n",
       " 0.8267869780608634,\n",
       " 0.8331003145753233,\n",
       " 0.8540145985401459,\n",
       " 0.8581228562519488,\n",
       " 0.8598997112900775,\n",
       " 0.8648731274839498,\n",
       " 0.8626235797550539,\n",
       " 0.8590761988820241]"
      ]
     },
     "execution_count": 61,
     "metadata": {},
     "output_type": "execute_result"
    }
   ],
   "source": [
    "highSkillRatios"
   ]
  },
  {
   "cell_type": "code",
   "execution_count": 62,
   "metadata": {},
   "outputs": [
    {
     "data": {
      "text/plain": [
       "[0.2112102404965089,\n",
       " 0.20422278849654169,\n",
       " 0.1799178131141683,\n",
       " 0.1732130219391366,\n",
       " 0.16689968542467667,\n",
       " 0.145985401459854,\n",
       " 0.14187714374805113,\n",
       " 0.1401002887099225,\n",
       " 0.13512687251605013,\n",
       " 0.13737642024494615,\n",
       " 0.14092380111797587]"
      ]
     },
     "execution_count": 62,
     "metadata": {},
     "output_type": "execute_result"
    }
   ],
   "source": [
    "lowSkillRatios"
   ]
  },
  {
   "cell_type": "code",
   "execution_count": 57,
   "metadata": {},
   "outputs": [
    {
     "data": {
      "text/plain": [
       "<matplotlib.legend.Legend at 0x7feeac0ba5e0>"
      ]
     },
     "execution_count": 57,
     "metadata": {},
     "output_type": "execute_result"
    },
    {
     "data": {
      "image/png": "[encoded data removed]",
      "text/plain": [
       "<Figure size 1152x576 with 1 Axes>"
      ]
     },
     "metadata": {
      "needs_background": "light"
     },
     "output_type": "display_data"
    }
   ],
   "source": [
    "for year in years:\n",
    "    finance = plt.scatter(year, Fdf[(Fdf[\"year\"] == year)&(Fdf[\"financeExperience\"] == \"Yes\")].shape[0], color = 'r')\n",
    "    nonFinance = plt.scatter(year, Fdf[(Fdf[\"year\"] == year)&(Fdf[\"financeExperience\"] == \"No\")].shape[0], color = 'g')\n",
    "plt.legend((finance,noneFinance), (\"finance\", \"noneFinance\"))"
   ]
  },
  {
   "cell_type": "code",
   "execution_count": 68,
   "metadata": {},
   "outputs": [
    {
     "data": {
      "text/plain": [
       "<matplotlib.legend.Legend at 0x7feeacdb25b0>"
      ]
     },
     "execution_count": 68,
     "metadata": {},
     "output_type": "execute_result"
    },
    {
     "data": {
      "image/png": "[encoded data removed]",
      "text/plain": [
       "<Figure size 1152x576 with 1 Axes>"
      ]
     },
     "metadata": {
      "needs_background": "light"
     },
     "output_type": "display_data"
    }
   ],
   "source": [
    "financeRatios = []\n",
    "noneFinanceRatios= []\n",
    "for year in years:\n",
    "    fRatio = Fdf[(Fdf[\"year\"] == year)&(Fdf[\"financeExperience\"] == \"Yes\")].shape[0]/Fdf[(Fdf[\"year\"] == year)].shape[0]\n",
    "    nfRatio =  Fdf[(Fdf[\"year\"] == year)&(Fdf[\"financeExperience\"] == \"No\")].shape[0]/Fdf[(Fdf[\"year\"] == year)].shape[0]\n",
    "    financeRatios.append(fRatio)\n",
    "    noneFinanceRatios.append(nfRatio)\n",
    "    finance = plt.scatter(year, fRatio, color = 'r')\n",
    "    noneFinance = plt.scatter(year, nfRatio, color = 'g')\n",
    "plt.legend((finance,noneFinance), (\"finance\", \"noneFinance\"))"
   ]
  },
  {
   "cell_type": "code",
   "execution_count": 69,
   "metadata": {},
   "outputs": [
    {
     "data": {
      "text/plain": [
       "[0.03200155159038014,\n",
       " 0.03330906443392792,\n",
       " 0.027693407182419152,\n",
       " 0.027423920736022647,\n",
       " 0.026564138413142258,\n",
       " 0.028223844282238442,\n",
       " 0.02853133769878391,\n",
       " 0.02780732411487616,\n",
       " 0.030724549067563438,\n",
       " 0.02862623579755054,\n",
       " 0.030303030303030304]"
      ]
     },
     "execution_count": 69,
     "metadata": {},
     "output_type": "execute_result"
    }
   ],
   "source": [
    "financeRatios"
   ]
  },
  {
   "cell_type": "code",
   "execution_count": 70,
   "metadata": {},
   "outputs": [
    {
     "data": {
      "text/plain": [
       "[0.9679984484096199,\n",
       " 0.9666909355660721,\n",
       " 0.9723065928175808,\n",
       " 0.9725760792639774,\n",
       " 0.9734358615868577,\n",
       " 0.9717761557177615,\n",
       " 0.9714686623012161,\n",
       " 0.9721926758851238,\n",
       " 0.9692754509324366,\n",
       " 0.9713737642024495,\n",
       " 0.9696969696969697]"
      ]
     },
     "execution_count": 70,
     "metadata": {},
     "output_type": "execute_result"
    }
   ],
   "source": [
    "noneFinanceRatios"
   ]
  },
  {
   "cell_type": "markdown",
   "metadata": {},
   "source": [
    "### empirical classes (richHigh, richLow, poorHigh, poorLow)"
   ]
  },
  {
   "cell_type": "code",
   "execution_count": 74,
   "metadata": {},
   "outputs": [
    {
     "data": {
      "text/plain": [
       "<matplotlib.legend.Legend at 0x7feeadc8cbe0>"
      ]
     },
     "execution_count": 74,
     "metadata": {},
     "output_type": "execute_result"
    },
    {
     "data": {
      "image/png": "[encoded data removed]",
      "text/plain": [
       "<Figure size 1152x576 with 1 Axes>"
      ]
     },
     "metadata": {
      "needs_background": "light"
     },
     "output_type": "display_data"
    }
   ],
   "source": [
    "richHighRatios = []\n",
    "richLowRatios = []\n",
    "poorHighRatios = []\n",
    "poorLowRatios = []\n",
    "for year in years:\n",
    "    richLow = Fdf[(Fdf[\"year\"] == year)&(Fdf[\"financeExperience\"] == \"Yes\")&(Fdf[\"skillLevel\"] == \"High\")].shape[0]/Fdf[(Fdf[\"year\"] == year)].shape[0]\n",
    "    richHigh =  Fdf[(Fdf[\"year\"] == year)&(Fdf[\"financeExperience\"] == \"No\")&(Fdf[\"skillLevel\"] == \"High\")].shape[0]/Fdf[(Fdf[\"year\"] == year)].shape[0]\n",
    "    poorLow = Fdf[(Fdf[\"year\"] == year)&(Fdf[\"financeExperience\"] == \"Yes\")&(Fdf[\"skillLevel\"] == \"Low\")].shape[0]/Fdf[(Fdf[\"year\"] == year)].shape[0]\n",
    "    poorHigh =  Fdf[(Fdf[\"year\"] == year)&(Fdf[\"financeExperience\"] == \"No\")&(Fdf[\"skillLevel\"] == \"Low\")].shape[0]/Fdf[(Fdf[\"year\"] == year)].shape[0]   \n",
    "    richHighRatios.append(richHigh)\n",
    "    richLowRatios.append(richLow)\n",
    "    poorHighRatios.append(poorHigh)\n",
    "    poorLowRatios.append(poorLow)\n",
    "    rl = plt.scatter(year, richLow, color = \"r\")\n",
    "    rh = plt.scatter(year, richHigh, color = \"b\")\n",
    "    pl = plt.scatter(year, poorLow, color = \"g\")\n",
    "    ph = plt.scatter(year, poorHigh, color = \"k\")\n",
    "plt.legend((rl,rh,pl,ph), (\"richLow\", \"richHigh\", \"poorLow\", \"poorHigh\"))"
   ]
  },
  {
   "cell_type": "code",
   "execution_count": null,
   "metadata": {},
   "outputs": [],
   "source": []
  },
  {
   "cell_type": "code",
   "execution_count": null,
   "metadata": {},
   "outputs": [],
   "source": []
  }
 ],
 "metadata": {
  "kernelspec": {
   "display_name": "Python 3",
   "language": "python",
   "name": "python3"
  },
  "language_info": {
   "codemirror_mode": {
    "name": "ipython",
    "version": 3
   },
   "file_extension": ".py",
   "mimetype": "text/x-python",
   "name": "python",
   "nbconvert_exporter": "python",
   "pygments_lexer": "ipython3",
   "version": "3.8.5"
  }
 },
 "nbformat": 4,
 "nbformat_minor": 4
}
