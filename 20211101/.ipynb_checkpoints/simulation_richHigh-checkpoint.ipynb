{
 "cells": [
  {
   "cell_type": "code",
   "execution_count": 1,
   "metadata": {},
   "outputs": [
    {
     "name": "stdout",
     "output_type": "stream",
     "text": [
      "Populating the interactive namespace from numpy and matplotlib\n"
     ]
    },
    {
     "name": "stderr",
     "output_type": "stream",
     "text": [
      "WARNING:absl:No GPU/TPU found, falling back to CPU. (Set TF_CPP_MIN_LOG_LEVEL=0 and rerun for more info.)\n"
     ]
    },
    {
     "name": "stdout",
     "output_type": "stream",
     "text": [
      "Model Solved! \n"
     ]
    }
   ],
   "source": [
    "%pylab inline\n",
    "from solveMDP_richHigh import * \n",
    "Vgrid = np.load(\"richHigh.npy\")\n",
    "matplotlib.rcParams['figure.figsize'] = [16, 8]\n",
    "plt.rcParams.update({'font.size': 15})"
   ]
  },
  {
   "cell_type": "code",
   "execution_count": null,
   "metadata": {},
   "outputs": [
    {
     "name": "stderr",
     "output_type": "stream",
     "text": [
      " 19%|█▉        | 5342/28080 [16:22<54:30,  6.95it/s]  "
     ]
    }
   ],
   "source": [
    "import pandas as pd\n",
    "df_1999 = pd.read_csv(\"df_1999_30to60.csv\")\n",
    "df = df_1999[(df_1999[\"skillLevel\"] == \"High\")&(df_1999[\"financeExperience\"] == \"No\")]\n",
    "df[\"ab\"] = 30\n",
    "df[\"wealth\"] = df[\"liquidWealth\"] + df[\"investmentAmount\"]\n",
    "codes = {'employed':1, 'unemployed': 0, \"retired\": 0}\n",
    "df[\"employmentStatus\"] = df[\"employmentStatus\"].map(codes)\n",
    "codes = {'owner':1, 'renter': 0}\n",
    "df[\"ownership\"] = df[\"ownership\"].map(codes)\n",
    "initialStates = df[[\"ageHead\",\"wealth\",\"ab\",\"year\",\"employmentStatus\",\"ownership\",\"participation\"]]\n",
    "initialStates[\"year\"] = imaginedEconState[0]\n",
    "initialStates = jnp.array(initialStates.values)\n",
    "\n",
    "# risk free interest rate depending on current S state \n",
    "bondReturn = jnp.array(econRate[:,2])\n",
    "# stock return depending on current S state\n",
    "stockReturn = jnp.array(econRate[:,1])\n",
    "\n",
    "@partial(jit, static_argnums=(0,1))\n",
    "def transition_real(t,age,a,x):\n",
    "    '''\n",
    "        Input:\n",
    "            x = [w,ab,s,e,o,z] single action \n",
    "            x = [0,1, 2,3,4,5] \n",
    "            a = [c,b,k,h,action] single state\n",
    "            a = [0,1,2,3,4]\n",
    "        Output:\n",
    "            w_next\n",
    "            ab_next\n",
    "            s_next\n",
    "            e_next\n",
    "            o_next\n",
    "            z_next\n",
    "            \n",
    "            prob_next\n",
    "    '''\n",
    "    s = jnp.array(x[2], dtype = jnp.int8)\n",
    "    e = jnp.array(x[3], dtype = jnp.int8)\n",
    "    # actions taken\n",
    "    b = a[1]\n",
    "    k = a[2]\n",
    "    action = a[4]\n",
    "    w_next = ((1+bondReturn[t])*b + (1+stockReturn[t])*k).repeat(nE)\n",
    "    ab_next = (1-x[4])*(t*(action == 1)).repeat(nE) + x[4]*(x[1]*jnp.ones(nE))\n",
    "    s_next = econ[t+1].repeat(nE)\n",
    "    e_next = jnp.array([e,(1-e)])*(t+age-20<T_R) + jnp.array([0,0])*(t+age-20>=T_R)\n",
    "    z_next = x[5]*jnp.ones(nE) + ((1-x[5]) * (k > 0)).repeat(nE)\n",
    "    # job status changing probability and econ state transition probability\n",
    "    pe = Pe[s, e]\n",
    "    prob_next = jnp.array([1-pe, pe])\n",
    "    # owner\n",
    "    o_next_own = (x[4] - action).repeat(nE)\n",
    "    # renter\n",
    "    o_next_rent = action.repeat(nE)\n",
    "    o_next = x[4] * o_next_own + (1-x[4]) * o_next_rent   \n",
    "    return jnp.column_stack((w_next,ab_next,s_next,e_next,o_next,z_next,prob_next))\n",
    "\n",
    "'''\n",
    "    # [w,ab,s,e,o,z]\n",
    "    # w explicitly \n",
    "    # assume ab = 30 the strong assumption we made \n",
    "    # s is known \n",
    "    # e is known \n",
    "    # o is known\n",
    "    # z is known\n",
    "'''\n",
    "from jax import random\n",
    "\n",
    "def simulation(key, period = yearCount):\n",
    "    x = initialStates[key.sum()%initialStates.shape[0]][1:]\n",
    "    age = int(initialStates[key.sum()%initialStates.shape[0]][0])\n",
    "    path = []\n",
    "    move = []\n",
    "    for t in range(0, period):\n",
    "        key, subkey = random.split(key)\n",
    "        if t == T_max-1:\n",
    "            _,a = V_solve(t + age - 20,Vgrid[:,:,:,:,:,:,t + age - 20],x)\n",
    "        else:\n",
    "            _,a = V_solve(t + age - 20,Vgrid[:,:,:,:,:,:,t + age - 20],x)\n",
    "        xp = transition_real(t,age,a,x)           \n",
    "        p = xp[:,-1]\n",
    "        x_next = xp[:,:-1]\n",
    "        path.append(x)\n",
    "        move.append(a)\n",
    "        x = x_next[random.choice(a = nE, p=p, key = subkey)]\n",
    "    path.append(x)\n",
    "    return jnp.array(path), jnp.array(move)\n",
    "\n",
    "# total number of agents\n",
    "num = initialStates.shape[0] * 10\n",
    "# simulation part \n",
    "keys = vmap(random.PRNGKey)(jnp.arange(num))\n",
    "path = []\n",
    "move = []\n",
    "for i in tqdm(range(len(keys))):\n",
    "    p,m = simulation(keys[i])\n",
    "    path.append(p)\n",
    "    move.append(m)\n",
    "Paths = jnp.array(path)\n",
    "Moves = jnp.array(move)\n",
    "\n",
    "# x = [w,ab,s,e,o,z]\n",
    "# x = [0,1, 2,3,4,5]\n",
    "ws = Paths[:,:,0].T\n",
    "ab = Paths[:,:,1].T\n",
    "ss = Paths[:,:,2].T\n",
    "es = Paths[:,:,3].T\n",
    "os = Paths[:,:,4].T\n",
    "zs = Paths[:,:,5].T\n",
    "cs = Moves[:,:,0].T\n",
    "bs = Moves[:,:,1].T\n",
    "ks = Moves[:,:,2].T\n",
    "hs = Moves[:,:,3].T\n",
    "ms = Ms[jnp.append(jnp.array([0]),jnp.arange(yearCount)).reshape(-1,1) - jnp.array(ab, dtype = jnp.int8)]*os"
   ]
  },
  {
   "cell_type": "code",
   "execution_count": null,
   "metadata": {},
   "outputs": [],
   "source": [
    "np.save(\"w2\", ws)"
   ]
  },
  {
   "cell_type": "code",
   "execution_count": null,
   "metadata": {},
   "outputs": [],
   "source": [
    "np.save(\"waseozcbkhm2\", np.array([ws,ab,ss,es,os,zs,cs,bs,ks,hs,ms]))"
   ]
  },
  {
   "cell_type": "code",
   "execution_count": null,
   "metadata": {},
   "outputs": [],
   "source": []
  }
 ],
 "metadata": {
  "kernelspec": {
   "display_name": "Python 3",
   "language": "python",
   "name": "python3"
  },
  "language_info": {
   "codemirror_mode": {
    "name": "ipython",
    "version": 3
   },
   "file_extension": ".py",
   "mimetype": "text/x-python",
   "name": "python",
   "nbconvert_exporter": "python",
   "pygments_lexer": "ipython3",
   "version": "3.8.8"
  }
 },
 "nbformat": 4,
 "nbformat_minor": 4
}
