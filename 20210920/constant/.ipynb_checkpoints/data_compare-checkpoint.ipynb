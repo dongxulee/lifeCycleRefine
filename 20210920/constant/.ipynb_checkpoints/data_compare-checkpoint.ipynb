{
 "cells": [
  {
   "cell_type": "code",
   "execution_count": 1,
   "metadata": {},
   "outputs": [
    {
     "name": "stdout",
     "output_type": "stream",
     "text": [
      "Populating the interactive namespace from numpy and matplotlib\n"
     ]
    }
   ],
   "source": [
    "%pylab inline\n",
    "import numpy as np\n",
    "earning = np.load(\"detEarning.npy\")"
   ]
  },
  {
   "cell_type": "code",
   "execution_count": 7,
   "metadata": {},
   "outputs": [],
   "source": [
    "newEarning = np.append(np.append(np.linspace(50,100,31),np.linspace(100,80,12)[1:-1]),\n",
    "                       np.append(np.linspace(80,50,6),np.array([50]*24)))"
   ]
  },
  {
   "cell_type": "code",
   "execution_count": 8,
   "metadata": {},
   "outputs": [
    {
     "data": {
      "text/plain": [
       "[<matplotlib.lines.Line2D at 0x7f84ec8436a0>]"
      ]
     },
     "execution_count": 8,
     "metadata": {},
     "output_type": "execute_result"
    },
    {
     "data": {
      "image/png": "[encoded data removed]",
      "text/plain": [
       "<Figure size 432x288 with 1 Axes>"
      ]
     },
     "metadata": {
      "needs_background": "light"
     },
     "output_type": "display_data"
    }
   ],
   "source": [
    "plt.plot(earning)\n",
    "plt.plot(newEarning)"
   ]
  },
  {
   "cell_type": "code",
   "execution_count": 9,
   "metadata": {},
   "outputs": [
    {
     "data": {
      "text/plain": [
       "71"
      ]
     },
     "execution_count": 9,
     "metadata": {},
     "output_type": "execute_result"
    }
   ],
   "source": [
    "len(earning)"
   ]
  },
  {
   "cell_type": "code",
   "execution_count": 10,
   "metadata": {},
   "outputs": [],
   "source": [
    "np.save(\"detEarningHigh\",newEarning)"
   ]
  },
  {
   "cell_type": "code",
   "execution_count": 2,
   "metadata": {},
   "outputs": [
    {
     "data": {
      "text/plain": [
       "array([ 50.        ,  51.66666667,  53.33333333,  55.        ,\n",
       "        56.66666667,  58.33333333,  60.        ,  61.66666667,\n",
       "        63.33333333,  65.        ,  66.66666667,  68.33333333,\n",
       "        70.        ,  71.66666667,  73.33333333,  75.        ,\n",
       "        76.66666667,  78.33333333,  80.        ,  81.66666667,\n",
       "        83.33333333,  85.        ,  86.66666667,  88.33333333,\n",
       "        90.        ,  91.66666667,  93.33333333,  95.        ,\n",
       "        96.66666667,  98.33333333, 100.        ,  98.18181818,\n",
       "        96.36363636,  94.54545455,  92.72727273,  90.90909091,\n",
       "        89.09090909,  87.27272727,  85.45454545,  83.63636364,\n",
       "        81.81818182,  80.        ,  74.        ,  68.        ,\n",
       "        62.        ,  56.        ,  50.        ,  50.        ,\n",
       "        50.        ,  50.        ,  50.        ,  50.        ,\n",
       "        50.        ,  50.        ,  50.        ,  50.        ,\n",
       "        50.        ,  50.        ,  50.        ,  50.        ,\n",
       "        50.        ,  50.        ,  50.        ,  50.        ,\n",
       "        50.        ,  50.        ,  50.        ,  50.        ,\n",
       "        50.        ,  50.        ,  50.        ])"
      ]
     },
     "execution_count": 2,
     "metadata": {},
     "output_type": "execute_result"
    }
   ],
   "source": [
    "np.load(\"detEarningHigh.npy\")"
   ]
  },
  {
   "cell_type": "code",
   "execution_count": null,
   "metadata": {},
   "outputs": [],
   "source": []
  }
 ],
 "metadata": {
  "kernelspec": {
   "display_name": "Python 3",
   "language": "python",
   "name": "python3"
  },
  "language_info": {
   "codemirror_mode": {
    "name": "ipython",
    "version": 3
   },
   "file_extension": ".py",
   "mimetype": "text/x-python",
   "name": "python",
   "nbconvert_exporter": "python",
   "pygments_lexer": "ipython3",
   "version": "3.8.3"
  }
 },
 "nbformat": 4,
 "nbformat_minor": 4
}
