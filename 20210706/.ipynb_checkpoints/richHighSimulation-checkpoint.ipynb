{
 "cells": [
  {
   "cell_type": "code",
   "execution_count": 1,
   "metadata": {},
   "outputs": [
    {
     "name": "stdout",
     "output_type": "stream",
     "text": [
      "Populating the interactive namespace from numpy and matplotlib\n"
     ]
    },
    {
     "name": "stderr",
     "output_type": "stream",
     "text": [
      "WARNING:absl:No GPU/TPU found, falling back to CPU. (Set TF_CPP_MIN_LOG_LEVEL=0 and rerun for more info.)\n"
     ]
    }
   ],
   "source": [
    "%pylab inline\n",
    "from richHighCost_copy import * \n",
    "Vgrid = np.load(\"richHigh.npy\")\n",
    "matplotlib.rcParams['figure.figsize'] = [16, 8]\n",
    "plt.rcParams.update({'font.size': 15})"
   ]
  },
  {
   "cell_type": "code",
   "execution_count": 2,
   "metadata": {
    "collapsed": false,
    "jupyter": {
     "outputs_hidden": false
    }
   },
   "outputs": [
    {
     "data": {
      "text/plain": [
       "[<matplotlib.lines.Line2D at 0x7fa16c0a1670>]"
      ]
     },
     "execution_count": 2,
     "metadata": {},
     "output_type": "execute_result"
    },
    {
     "data": {
      "image/png": "[encoded data removed]",
      "text/plain": [
       "<Figure size 1152x576 with 1 Axes>"
      ]
     },
     "metadata": {
      "needs_background": "light"
     },
     "output_type": "display_data"
    }
   ],
   "source": [
    "plt.plot(detEarning)"
   ]
  },
  {
   "cell_type": "code",
   "execution_count": 3,
   "metadata": {
    "collapsed": false,
    "jupyter": {
     "outputs_hidden": false
    }
   },
   "outputs": [],
   "source": [
    "num = 10000\n",
    "'''\n",
    "    x = [w,n,m,s,e,o,z]\n",
    "    x = [5,0,0,0,0,0,0]\n",
    "'''\n",
    "\n",
    "from jax import random\n",
    "\n",
    "def simulation(key):\n",
    "    initE = random.choice(a = nE, p=E_distribution, key = key)\n",
    "    initS = random.choice(a = nS, p=S_distribution, key = key)\n",
    "    x = [5, 0, 0, initS, initE, 0, 0]\n",
    "    path = []\n",
    "    move = []\n",
    "    for t in range(T_min, T_max):\n",
    "        _, key = random.split(key)\n",
    "        if t == T_max-1:\n",
    "            _,a = V(t,Vgrid[:,:,:,:,:,:,:,t],x)\n",
    "        else:\n",
    "            _,a = V(t,Vgrid[:,:,:,:,:,:,:,t+1],x)\n",
    "        xp = transition(t,a.reshape((1,-1)),x)\n",
    "        p = xp[:,-1]\n",
    "        x_next = xp[:,:-1]\n",
    "        path.append(x)\n",
    "        move.append(a)\n",
    "        x = x_next[random.choice(a = nS*nE, p=p, key = key)]\n",
    "    path.append(x)\n",
    "    return jnp.array(path), jnp.array(move)"
   ]
  },
  {
   "cell_type": "code",
   "execution_count": null,
   "metadata": {
    "collapsed": false,
    "jupyter": {
     "outputs_hidden": false
    }
   },
   "outputs": [],
   "source": [
    "%%time\n",
    "# simulation part \n",
    "keys = vmap(random.PRNGKey)(jnp.arange(num))\n",
    "Paths, Moves = vmap(simulation)(keys)"
   ]
  },
  {
   "cell_type": "code",
   "execution_count": null,
   "metadata": {
    "collapsed": false,
    "jupyter": {
     "outputs_hidden": false
    }
   },
   "outputs": [],
   "source": [
    "# x = [w,n,m,s,e,o,z]\n",
    "# x = [0,1,2,3,4,5,6]\n",
    "ws = Paths[:,:,0].T\n",
    "ns = Paths[:,:,1].T\n",
    "ms = Paths[:,:,2].T\n",
    "ss = Paths[:,:,3].T\n",
    "es = Paths[:,:,4].T\n",
    "os = Paths[:,:,5].T\n",
    "zs = Paths[:,:,6].T\n",
    "cs = Moves[:,:,0].T\n",
    "bs = Moves[:,:,1].T\n",
    "ks = Moves[:,:,2].T\n",
    "hs = Moves[:,:,3].T\n",
    "actions = Moves[:,:,4].T"
   ]
  },
  {
   "cell_type": "code",
   "execution_count": null,
   "metadata": {
    "collapsed": false,
    "jupyter": {
     "outputs_hidden": false
    }
   },
   "outputs": [],
   "source": [
    "plt.plot(range(20, T_max + 21),jnp.mean(zs,axis = 1), label = \"experience\")"
   ]
  },
  {
   "cell_type": "code",
   "execution_count": null,
   "metadata": {
    "collapsed": false,
    "jupyter": {
     "outputs_hidden": false
    }
   },
   "outputs": [],
   "source": [
    "plt.plot((ks>0).mean(axis = 1))"
   ]
  },
  {
   "cell_type": "code",
   "execution_count": null,
   "metadata": {
    "collapsed": false,
    "jupyter": {
     "outputs_hidden": false
    }
   },
   "outputs": [],
   "source": [
    "plt.title(\"The mean values of simulation\")\n",
    "plt.plot(range(20, T_max + 21),jnp.mean(ws + H*pt*os - ms,axis = 1), label = \"wealth + home equity\")\n",
    "plt.plot(range(20, T_max + 21),jnp.mean(ns,axis = 1), label = \"401k\")\n",
    "plt.plot(range(20, T_max + 21),jnp.mean(ws,axis = 1), label = \"wealth\")\n",
    "plt.plot(range(20, T_max + 20),jnp.mean(cs,axis = 1), label = \"consumption\")\n",
    "plt.plot(range(20, T_max + 20),jnp.mean(bs,axis = 1), label = \"bond\")\n",
    "plt.plot(range(20, T_max + 20),jnp.mean(ks,axis = 1), label = \"stock\")\n",
    "plt.legend()"
   ]
  },
  {
   "cell_type": "code",
   "execution_count": null,
   "metadata": {},
   "outputs": [],
   "source": [
    "jnp.mean(ws,axis = 1)[30]"
   ]
  },
  {
   "cell_type": "code",
   "execution_count": null,
   "metadata": {},
   "outputs": [],
   "source": [
    "jnp.mean(os,axis = 1)[30]"
   ]
  },
  {
   "cell_type": "code",
   "execution_count": null,
   "metadata": {},
   "outputs": [],
   "source": [
    "jnp.mean(zs,axis = 1)[30]"
   ]
  },
  {
   "cell_type": "code",
   "execution_count": null,
   "metadata": {},
   "outputs": [],
   "source": []
  },
  {
   "cell_type": "code",
   "execution_count": null,
   "metadata": {},
   "outputs": [],
   "source": []
  },
  {
   "cell_type": "code",
   "execution_count": null,
   "metadata": {},
   "outputs": [],
   "source": []
  },
  {
   "cell_type": "code",
   "execution_count": null,
   "metadata": {},
   "outputs": [],
   "source": []
  },
  {
   "cell_type": "code",
   "execution_count": null,
   "metadata": {
    "collapsed": false,
    "jupyter": {
     "outputs_hidden": false
    }
   },
   "outputs": [],
   "source": [
    "plt.title(\"housing consumption\")\n",
    "plt.plot(range(20, T_max + 20),(hs).mean(axis = 1), label = \"housing\")"
   ]
  },
  {
   "cell_type": "code",
   "execution_count": null,
   "metadata": {
    "collapsed": false,
    "jupyter": {
     "outputs_hidden": false
    }
   },
   "outputs": [],
   "source": [
    "plt.title(\"housing consumption for renting peole\")\n",
    "plt.plot(hs[:, jnp.where(os.sum(axis = 0)  == 0)[0]].mean(axis = 1), label = \"housing\")"
   ]
  },
  {
   "cell_type": "code",
   "execution_count": null,
   "metadata": {
    "collapsed": false,
    "jupyter": {
     "outputs_hidden": false
    }
   },
   "outputs": [],
   "source": [
    "plt.title(\"house ownership percentage in the population\")\n",
    "plt.plot(range(20, T_max + 21),(os).mean(axis = 1), label = \"owning\")"
   ]
  },
  {
   "cell_type": "code",
   "execution_count": null,
   "metadata": {
    "collapsed": false,
    "jupyter": {
     "outputs_hidden": false
    }
   },
   "outputs": [],
   "source": [
    "# agent number, x = [w,n,m,s,e,o]\n",
    "agentNum = 35\n",
    "plt.plot(range(20, T_max + 21),(ws + os*(H*pt - ms))[:,agentNum], label = \"wealth + home equity\")\n",
    "plt.plot(range(20, T_max + 21),ws[:,agentNum], label = \"wealth\")\n",
    "plt.plot(range(20, T_max + 21),ns[:,agentNum], label = \"401k\")\n",
    "plt.plot(range(20, T_max + 21),ms[:,agentNum], label = \"mortgage\")\n",
    "plt.plot(range(20, T_max + 20),cs[:,agentNum], label = \"consumption\")\n",
    "plt.plot(range(20, T_max + 20),bs[:,agentNum], label = \"bond\")\n",
    "plt.plot(range(20, T_max + 20),ks[:,agentNum], label = \"stock\")\n",
    "plt.plot(range(20, T_max + 21),os[:,agentNum]*100, label = \"ownership\", color = \"k\")\n",
    "plt.legend()"
   ]
  },
  {
   "cell_type": "code",
   "execution_count": null,
   "metadata": {
    "collapsed": false,
    "jupyter": {
     "outputs_hidden": false
    }
   },
   "outputs": [],
   "source": [
    "import pandas as pd\n",
    "investmentRatio = np.zeros((nS, T_max))\n",
    "for age in range(0,T_max):\n",
    "    stockRatio = ks[age,:] / (ks[age,:] + bs[age,:])\n",
    "    state = ss[age,:]\n",
    "    list_of_tuples = list(zip(stockRatio, state)) \n",
    "    df = pd.DataFrame(list_of_tuples,columns = ['stockRatio', \"econState\"]) \n",
    "    investmentRatio[:,age] = df.groupby(\"econState\").mean().values.flatten()"
   ]
  },
  {
   "cell_type": "code",
   "execution_count": null,
   "metadata": {
    "collapsed": false,
    "jupyter": {
     "outputs_hidden": false
    }
   },
   "outputs": [],
   "source": [
    "plt.figure()\n",
    "for age in range(1,T_max-1, 10):\n",
    "    plt.plot(investmentRatio[:,age],label = str(age + 20))\n",
    "plt.legend()"
   ]
  },
  {
   "cell_type": "code",
   "execution_count": null,
   "metadata": {
    "collapsed": false,
    "jupyter": {
     "outputs_hidden": false
    }
   },
   "outputs": [],
   "source": [
    "age = 50\n",
    "stockRatio = ks[age,:] / (ks[age,:] + bs[age,:])\n",
    "state = ss[age,:]\n",
    "own = os[age,:]\n",
    "list_of_tuples = list(zip(stockRatio, state, own)) \n",
    "df = pd.DataFrame(list_of_tuples,columns = ['stockRatio', \"econState\", \"own\"]) \n",
    "owner = df[df[\"own\"] == 1]\n",
    "renter = df[df[\"own\"] == 0]\n",
    "plt.plot(owner.groupby(\"econState\")[\"stockRatio\"].mean().values.flatten(), label = \"Owner\")\n",
    "plt.plot(renter.groupby(\"econState\")[\"stockRatio\"].mean().values.flatten(), label = \"Renter\")\n",
    "plt.legend()"
   ]
  },
  {
   "cell_type": "code",
   "execution_count": null,
   "metadata": {
    "collapsed": false,
    "jupyter": {
     "outputs_hidden": false
    }
   },
   "outputs": [],
   "source": [
    "plt.figure(figsize = [12,6])\n",
    "plt.title(\"Stock investment ratio\")\n",
    "plt.plot((es[:T_max,:]*(ks/(ks+bs))).mean(axis = 1), label = \"employed\")\n",
    "plt.plot(((1-es[:T_max,:])*(ks/(ks+bs))).mean(axis = 1), label = \"unemployed\")\n",
    "plt.legend()"
   ]
  },
  {
   "cell_type": "code",
   "execution_count": null,
   "metadata": {
    "collapsed": false,
    "jupyter": {
     "outputs_hidden": false
    }
   },
   "outputs": [],
   "source": []
  },
  {
   "cell_type": "code",
   "execution_count": null,
   "metadata": {
    "collapsed": false,
    "jupyter": {
     "outputs_hidden": false
    }
   },
   "outputs": [],
   "source": []
  },
  {
   "cell_type": "code",
   "execution_count": null,
   "metadata": {
    "collapsed": false,
    "jupyter": {
     "outputs_hidden": false
    }
   },
   "outputs": [],
   "source": []
  },
  {
   "cell_type": "code",
   "execution_count": null,
   "metadata": {
    "collapsed": false,
    "jupyter": {
     "outputs_hidden": false
    }
   },
   "outputs": [],
   "source": []
  },
  {
   "cell_type": "code",
   "execution_count": null,
   "metadata": {
    "collapsed": false,
    "jupyter": {
     "outputs_hidden": false
    }
   },
   "outputs": [],
   "source": []
  },
  {
   "cell_type": "code",
   "execution_count": null,
   "metadata": {
    "collapsed": false,
    "jupyter": {
     "outputs_hidden": false
    }
   },
   "outputs": [],
   "source": []
  },
  {
   "cell_type": "code",
   "execution_count": null,
   "metadata": {
    "collapsed": false,
    "jupyter": {
     "outputs_hidden": false
    }
   },
   "outputs": [],
   "source": []
  },
  {
   "cell_type": "code",
   "execution_count": null,
   "metadata": {
    "collapsed": false,
    "jupyter": {
     "outputs_hidden": false
    }
   },
   "outputs": [],
   "source": []
  },
  {
   "cell_type": "code",
   "execution_count": null,
   "metadata": {
    "collapsed": false,
    "jupyter": {
     "outputs_hidden": false
    }
   },
   "outputs": [],
   "source": []
  },
  {
   "cell_type": "code",
   "execution_count": null,
   "metadata": {
    "collapsed": false,
    "jupyter": {
     "outputs_hidden": false
    }
   },
   "outputs": [],
   "source": []
  },
  {
   "cell_type": "code",
   "execution_count": null,
   "metadata": {
    "collapsed": false,
    "jupyter": {
     "outputs_hidden": false
    }
   },
   "outputs": [],
   "source": []
  },
  {
   "cell_type": "code",
   "execution_count": null,
   "metadata": {
    "collapsed": false,
    "jupyter": {
     "outputs_hidden": false
    }
   },
   "outputs": [],
   "source": []
  },
  {
   "cell_type": "code",
   "execution_count": null,
   "metadata": {
    "collapsed": false,
    "jupyter": {
     "outputs_hidden": false
    }
   },
   "outputs": [],
   "source": []
  },
  {
   "cell_type": "code",
   "execution_count": null,
   "metadata": {
    "collapsed": false,
    "jupyter": {
     "outputs_hidden": false
    }
   },
   "outputs": [],
   "source": []
  },
  {
   "cell_type": "code",
   "execution_count": null,
   "metadata": {
    "collapsed": false,
    "jupyter": {
     "outputs_hidden": false
    }
   },
   "outputs": [],
   "source": []
  },
  {
   "cell_type": "code",
   "execution_count": null,
   "metadata": {
    "collapsed": false,
    "jupyter": {
     "outputs_hidden": false
    }
   },
   "outputs": [],
   "source": []
  },
  {
   "cell_type": "code",
   "execution_count": null,
   "metadata": {
    "collapsed": false,
    "jupyter": {
     "outputs_hidden": false
    }
   },
   "outputs": [],
   "source": []
  },
  {
   "cell_type": "code",
   "execution_count": null,
   "metadata": {
    "collapsed": false,
    "jupyter": {
     "outputs_hidden": false
    }
   },
   "outputs": [],
   "source": []
  },
  {
   "cell_type": "code",
   "execution_count": null,
   "metadata": {
    "collapsed": false,
    "jupyter": {
     "outputs_hidden": false
    }
   },
   "outputs": [],
   "source": []
  },
  {
   "cell_type": "code",
   "execution_count": null,
   "metadata": {
    "collapsed": false,
    "jupyter": {
     "outputs_hidden": false
    }
   },
   "outputs": [],
   "source": [
    "# # agent selling time collection\n",
    "# agentTime = []\n",
    "# for t in range(30):\n",
    "#     if ((os[t,:] == 0) & (os[t+1,:] == 1)).sum()>0:\n",
    "#         for agentNum in jnp.where((os[t,:] == 0) & (os[t+1,:] == 1))[0]:\n",
    "#             agentTime.append([t, agentNum])\n",
    "# agentTime = jnp.array(agentTime)"
   ]
  },
  {
   "cell_type": "code",
   "execution_count": null,
   "metadata": {
    "collapsed": false,
    "jupyter": {
     "outputs_hidden": false
    }
   },
   "outputs": [],
   "source": [
    "# # agent selling time collection\n",
    "# agentHold = []\n",
    "# for t in range(30):\n",
    "#     if ((os[t,:] == 0) & (os[t+1,:] == 0)).sum()>0:\n",
    "#         for agentNum in jnp.where((os[t,:] == 0) & (os[t+1,:] == 0))[0]:\n",
    "#             agentHold.append([t, agentNum])\n",
    "# agentHold = jnp.array(agentHold)"
   ]
  },
  {
   "cell_type": "code",
   "execution_count": null,
   "metadata": {
    "collapsed": false,
    "jupyter": {
     "outputs_hidden": false
    }
   },
   "outputs": [],
   "source": [
    "# plt.title(\"weath level for buyer and renter\")\n",
    "# www = (os*(ws+H*pt - ms)).sum(axis = 1)/(os).sum(axis = 1)\n",
    "# for age in range(30):\n",
    "#     buyer = agentTime[agentTime[:,0] == age]\n",
    "#     renter = agentHold[agentHold[:,0] == age]\n",
    "#     plt.scatter(age, ws[buyer[:,0], buyer[:,1]].mean(),color =  \"b\")\n",
    "#     plt.scatter(age, www[age], color = \"green\")\n",
    "#     plt.scatter(age, ws[renter[:,0], renter[:,1]].mean(),color =  \"r\")"
   ]
  },
  {
   "cell_type": "code",
   "execution_count": null,
   "metadata": {
    "collapsed": false,
    "jupyter": {
     "outputs_hidden": false
    }
   },
   "outputs": [],
   "source": [
    "# plt.title(\"employement status for buyer and renter\")\n",
    "# for age in range(31):\n",
    "#     buyer = agentTime[agentTime[:,0] == age]\n",
    "#     renter = agentHold[agentHold[:,0] == age]\n",
    "#     plt.scatter(age, es[buyer[:,0], buyer[:,1]].mean(),color =  \"b\")\n",
    "#     plt.scatter(age, es[renter[:,0], renter[:,1]].mean(),color =  \"r\")"
   ]
  },
  {
   "cell_type": "code",
   "execution_count": null,
   "metadata": {
    "collapsed": false,
    "jupyter": {
     "outputs_hidden": false
    }
   },
   "outputs": [],
   "source": [
    "# # At every age\n",
    "# plt.plot((os[:T_max,:]*ks/(ks+bs)).sum(axis = 1)/os[:T_max,:].sum(axis = 1), label = \"owner\")\n",
    "# plt.plot(((1-os[:T_max,:])*ks/(ks+bs)).sum(axis = 1)/(1-os)[:T_max,:].sum(axis = 1), label = \"renter\")\n",
    "# plt.legend()"
   ]
  },
  {
   "cell_type": "code",
   "execution_count": null,
   "metadata": {
    "collapsed": false,
    "jupyter": {
     "outputs_hidden": false
    }
   },
   "outputs": [],
   "source": [
    "# # At every age\n",
    "# plt.plot((os[:T_max,:]*ks).sum(axis = 1)/os[:T_max,:].sum(axis = 1), label = \"owner\")\n",
    "# plt.plot(((1-os[:T_max,:])*ks).sum(axis = 1)/(1-os)[:T_max,:].sum(axis = 1), label = \"renter\")\n",
    "# plt.legend()"
   ]
  }
 ],
 "metadata": {
  "kernelspec": {
   "display_name": "Python 3",
   "language": "python",
   "name": "python3"
  },
  "language_info": {
   "codemirror_mode": {
    "name": "ipython",
    "version": 3
   },
   "file_extension": ".py",
   "mimetype": "text/x-python",
   "name": "python",
   "nbconvert_exporter": "python",
   "pygments_lexer": "ipython3",
   "version": "3.8.8"
  }
 },
 "nbformat": 4,
 "nbformat_minor": 4
}
