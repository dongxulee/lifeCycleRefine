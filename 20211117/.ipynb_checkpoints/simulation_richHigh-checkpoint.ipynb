{
 "cells": [
  {
   "cell_type": "code",
   "execution_count": 1,
   "metadata": {},
   "outputs": [
    {
     "name": "stdout",
     "output_type": "stream",
     "text": [
      "Populating the interactive namespace from numpy and matplotlib\n"
     ]
    },
    {
     "name": "stderr",
     "output_type": "stream",
     "text": [
      "WARNING:absl:No GPU/TPU found, falling back to CPU. (Set TF_CPP_MIN_LOG_LEVEL=0 and rerun for more info.)\n"
     ]
    },
    {
     "name": "stdout",
     "output_type": "stream",
     "text": [
      "Model Solved! \n"
     ]
    }
   ],
   "source": [
    "%pylab inline\n",
    "from solveMDP_richHigh import * \n",
    "Vgrid = np.load(\"richHigh.npy\")\n",
    "matplotlib.rcParams['figure.figsize'] = [16, 8]\n",
    "plt.rcParams.update({'font.size': 15})"
   ]
  },
  {
   "cell_type": "code",
   "execution_count": 3,
   "metadata": {},
   "outputs": [
    {
     "ename": "TypeError",
     "evalue": "Indexer must have integer or boolean type, got indexer with type float32 at position 0, indexer value 1764.0",
     "output_type": "error",
     "traceback": [
      "\u001b[0;31m---------------------------------------------------------------------------\u001b[0m",
      "\u001b[0;31mRemoteTraceback\u001b[0m                           Traceback (most recent call last)",
      "\u001b[0;31mRemoteTraceback\u001b[0m: \n\"\"\"\nTraceback (most recent call last):\n  File \"/home/dli36/anaconda3/lib/python3.8/multiprocessing/pool.py\", line 125, in worker\n    result = (True, func(*args, **kwds))\n  File \"/home/dli36/anaconda3/lib/python3.8/multiprocessing/pool.py\", line 48, in mapstar\n    return list(map(*args))\n  File \"<ipython-input-3-a2ca929ecb11>\", line 70, in simulation\n    x = initialStates[key.sum()%initialStates.shape[0]][1:]\n  File \"/home/dli36/anaconda3/lib/python3.8/site-packages/jax/_src/numpy/lax_numpy.py\", line 5059, in _rewriting_take\n    return _gather(arr, treedef, static_idx, dynamic_idx, indices_are_sorted,\n  File \"/home/dli36/anaconda3/lib/python3.8/site-packages/jax/_src/numpy/lax_numpy.py\", line 5068, in _gather\n    indexer = _index_to_gather(shape(arr), idx)  # shared with _scatter_update\n  File \"/home/dli36/anaconda3/lib/python3.8/site-packages/jax/_src/numpy/lax_numpy.py\", line 5319, in _index_to_gather\n    raise TypeError(msg.format(abstract_i.dtype.name, idx_pos, i))\nTypeError: Indexer must have integer or boolean type, got indexer with type float32 at position 0, indexer value 1764.0\n\"\"\"",
      "\nThe above exception was the direct cause of the following exception:\n",
      "\u001b[0;31mTypeError\u001b[0m                                 Traceback (most recent call last)",
      "\u001b[0;32m<ipython-input-3-a2ca929ecb11>\u001b[0m in \u001b[0;36m<module>\u001b[0;34m\u001b[0m\n\u001b[1;32m     94\u001b[0m \u001b[0;32mfrom\u001b[0m \u001b[0mmultiprocessing\u001b[0m \u001b[0;32mimport\u001b[0m \u001b[0mPool\u001b[0m\u001b[0;34m\u001b[0m\u001b[0;34m\u001b[0m\u001b[0m\n\u001b[1;32m     95\u001b[0m \u001b[0mp\u001b[0m \u001b[0;34m=\u001b[0m \u001b[0mPool\u001b[0m\u001b[0;34m(\u001b[0m\u001b[0mprocesses\u001b[0m\u001b[0;34m=\u001b[0m\u001b[0;36m48\u001b[0m\u001b[0;34m)\u001b[0m\u001b[0;34m\u001b[0m\u001b[0;34m\u001b[0m\u001b[0m\n\u001b[0;32m---> 96\u001b[0;31m \u001b[0mPaths\u001b[0m\u001b[0;34m,\u001b[0m \u001b[0mMoves\u001b[0m \u001b[0;34m=\u001b[0m \u001b[0mp\u001b[0m\u001b[0;34m.\u001b[0m\u001b[0mmap\u001b[0m\u001b[0;34m(\u001b[0m\u001b[0msimulation\u001b[0m\u001b[0;34m,\u001b[0m\u001b[0mkeys\u001b[0m\u001b[0;34m)\u001b[0m\u001b[0;34m\u001b[0m\u001b[0;34m\u001b[0m\u001b[0m\n\u001b[0m\u001b[1;32m     97\u001b[0m \u001b[0;34m\u001b[0m\u001b[0m\n\u001b[1;32m     98\u001b[0m \u001b[0;31m# x = [w,ab,s,e,o,z]\u001b[0m\u001b[0;34m\u001b[0m\u001b[0;34m\u001b[0m\u001b[0;34m\u001b[0m\u001b[0m\n",
      "\u001b[0;32m~/anaconda3/lib/python3.8/multiprocessing/pool.py\u001b[0m in \u001b[0;36mmap\u001b[0;34m(self, func, iterable, chunksize)\u001b[0m\n\u001b[1;32m    362\u001b[0m         \u001b[0;32min\u001b[0m \u001b[0ma\u001b[0m \u001b[0mlist\u001b[0m \u001b[0mthat\u001b[0m \u001b[0;32mis\u001b[0m \u001b[0mreturned\u001b[0m\u001b[0;34m.\u001b[0m\u001b[0;34m\u001b[0m\u001b[0;34m\u001b[0m\u001b[0m\n\u001b[1;32m    363\u001b[0m         '''\n\u001b[0;32m--> 364\u001b[0;31m         \u001b[0;32mreturn\u001b[0m \u001b[0mself\u001b[0m\u001b[0;34m.\u001b[0m\u001b[0m_map_async\u001b[0m\u001b[0;34m(\u001b[0m\u001b[0mfunc\u001b[0m\u001b[0;34m,\u001b[0m \u001b[0miterable\u001b[0m\u001b[0;34m,\u001b[0m \u001b[0mmapstar\u001b[0m\u001b[0;34m,\u001b[0m \u001b[0mchunksize\u001b[0m\u001b[0;34m)\u001b[0m\u001b[0;34m.\u001b[0m\u001b[0mget\u001b[0m\u001b[0;34m(\u001b[0m\u001b[0;34m)\u001b[0m\u001b[0;34m\u001b[0m\u001b[0;34m\u001b[0m\u001b[0m\n\u001b[0m\u001b[1;32m    365\u001b[0m \u001b[0;34m\u001b[0m\u001b[0m\n\u001b[1;32m    366\u001b[0m     \u001b[0;32mdef\u001b[0m \u001b[0mstarmap\u001b[0m\u001b[0;34m(\u001b[0m\u001b[0mself\u001b[0m\u001b[0;34m,\u001b[0m \u001b[0mfunc\u001b[0m\u001b[0;34m,\u001b[0m \u001b[0miterable\u001b[0m\u001b[0;34m,\u001b[0m \u001b[0mchunksize\u001b[0m\u001b[0;34m=\u001b[0m\u001b[0;32mNone\u001b[0m\u001b[0;34m)\u001b[0m\u001b[0;34m:\u001b[0m\u001b[0;34m\u001b[0m\u001b[0;34m\u001b[0m\u001b[0m\n",
      "\u001b[0;32m~/anaconda3/lib/python3.8/multiprocessing/pool.py\u001b[0m in \u001b[0;36mget\u001b[0;34m(self, timeout)\u001b[0m\n\u001b[1;32m    769\u001b[0m             \u001b[0;32mreturn\u001b[0m \u001b[0mself\u001b[0m\u001b[0;34m.\u001b[0m\u001b[0m_value\u001b[0m\u001b[0;34m\u001b[0m\u001b[0;34m\u001b[0m\u001b[0m\n\u001b[1;32m    770\u001b[0m         \u001b[0;32melse\u001b[0m\u001b[0;34m:\u001b[0m\u001b[0;34m\u001b[0m\u001b[0;34m\u001b[0m\u001b[0m\n\u001b[0;32m--> 771\u001b[0;31m             \u001b[0;32mraise\u001b[0m \u001b[0mself\u001b[0m\u001b[0;34m.\u001b[0m\u001b[0m_value\u001b[0m\u001b[0;34m\u001b[0m\u001b[0;34m\u001b[0m\u001b[0m\n\u001b[0m\u001b[1;32m    772\u001b[0m \u001b[0;34m\u001b[0m\u001b[0m\n\u001b[1;32m    773\u001b[0m     \u001b[0;32mdef\u001b[0m \u001b[0m_set\u001b[0m\u001b[0;34m(\u001b[0m\u001b[0mself\u001b[0m\u001b[0;34m,\u001b[0m \u001b[0mi\u001b[0m\u001b[0;34m,\u001b[0m \u001b[0mobj\u001b[0m\u001b[0;34m)\u001b[0m\u001b[0;34m:\u001b[0m\u001b[0;34m\u001b[0m\u001b[0;34m\u001b[0m\u001b[0m\n",
      "\u001b[0;31mTypeError\u001b[0m: Indexer must have integer or boolean type, got indexer with type float32 at position 0, indexer value 1764.0"
     ]
    }
   ],
   "source": [
    "import pandas as pd\n",
    "df_1999 = pd.read_csv(\"df_1999_30to60.csv\")\n",
    "df = df_1999[(df_1999[\"skillLevel\"] == \"High\")&(df_1999[\"financeExperience\"] == \"No\")]\n",
    "df[\"ab\"] = 30\n",
    "df[\"wealth\"] = df[\"liquidWealth\"] + df[\"investmentAmount\"]\n",
    "codes = {'employed':1, 'unemployed': 0, \"retired\": 0}\n",
    "df[\"employmentStatus\"] = df[\"employmentStatus\"].map(codes)\n",
    "codes = {'owner':1, 'renter': 0}\n",
    "df[\"ownership\"] = df[\"ownership\"].map(codes)\n",
    "initialStates = df[[\"ageHead\",\"wealth\",\"ab\",\"year\",\"employmentStatus\",\"ownership\",\"participation\"]]\n",
    "initialStates[\"year\"] = imaginedEconState[0]\n",
    "initialStates = jnp.array(initialStates.values)\n",
    "\n",
    "# risk free interest rate depending on current S state \n",
    "bondReturn = jnp.array(econRate[:,2])\n",
    "# stock return depending on current S state\n",
    "stockReturn = jnp.array(econRate[:,1])\n",
    "\n",
    "@partial(jit, static_argnums=(0,1))\n",
    "def transition_real(t,age,a,x):\n",
    "    '''\n",
    "        Input:\n",
    "            x = [w,ab,s,e,o,z] single action \n",
    "            x = [0,1, 2,3,4,5] \n",
    "            a = [c,b,k,h,action] single state\n",
    "            a = [0,1,2,3,4]\n",
    "        Output:\n",
    "            w_next\n",
    "            ab_next\n",
    "            s_next\n",
    "            e_next\n",
    "            o_next\n",
    "            z_next\n",
    "            \n",
    "            prob_next\n",
    "    '''\n",
    "    s = jnp.array(x[2], dtype = jnp.int8)\n",
    "    e = jnp.array(x[3], dtype = jnp.int8)\n",
    "    # actions taken\n",
    "    b = a[1]\n",
    "    k = a[2]\n",
    "    action = a[4]\n",
    "    w_next = ((1+bondReturn[t])*b + (1+stockReturn[t])*k).repeat(nE)\n",
    "    ab_next = (1-x[4])*(t*(action == 1)).repeat(nE) + x[4]*(x[1]*jnp.ones(nE))\n",
    "    s_next = econ[t+1].repeat(nE)\n",
    "    e_next = jnp.array([e,(1-e)])*(t+age-20<T_R) + jnp.array([0,0])*(t+age-20>=T_R)\n",
    "    z_next = x[5]*jnp.ones(nE) + ((1-x[5]) * (k > 0)).repeat(nE)\n",
    "    # job status changing probability and econ state transition probability\n",
    "    pe = Pe[s, e]\n",
    "    prob_next = jnp.array([1-pe, pe])\n",
    "    # owner\n",
    "    o_next_own = (x[4] - action).repeat(nE)\n",
    "    # renter\n",
    "    o_next_rent = action.repeat(nE)\n",
    "    o_next = x[4] * o_next_own + (1-x[4]) * o_next_rent   \n",
    "    return jnp.column_stack((w_next,ab_next,s_next,e_next,o_next,z_next,prob_next))\n",
    "\n",
    "'''\n",
    "    # [w,ab,s,e,o,z]\n",
    "    # w explicitly \n",
    "    # assume ab = 30 the strong assumption we made \n",
    "    # s is known \n",
    "    # e is known \n",
    "    # o is known\n",
    "    # z is known\n",
    "'''\n",
    "from jax import random\n",
    "\n",
    "def simulation(key, period = yearCount):\n",
    "    x = initialStates[key.sum()%initialStates.shape[0]][1:]\n",
    "    age = int(initialStates[key.sum()%initialStates.shape[0]][0])\n",
    "    path = []\n",
    "    move = []\n",
    "    for t in range(0, period):\n",
    "        key, subkey = random.split(key)\n",
    "        if t == T_max-1:\n",
    "            _,a = V_solve(t + age - 20,Vgrid[:,:,:,:,:,:,t + age - 20],x)\n",
    "        else:\n",
    "            _,a = V_solve(t + age - 20,Vgrid[:,:,:,:,:,:,t + age - 20],x)\n",
    "        xp = transition_real(t,age,a,x)           \n",
    "        p = xp[:,-1]\n",
    "        x_next = xp[:,:-1]\n",
    "        path.append(x)\n",
    "        move.append(a)\n",
    "        x = x_next[random.choice(a = nE, p=p, key = subkey)]\n",
    "    path.append(x)\n",
    "    return jnp.array(path), jnp.array(move)\n",
    "\n",
    "# total number of agents\n",
    "num = initialStates.shape[0] * 10\n",
    "# simulation part \n",
    "keys = vmap(random.PRNGKey)(jnp.arange(num))\n",
    "KEY = [key for key in keys]\n",
    "from multiprocessing import Pool\n",
    "p = Pool(processes=48)\n",
    "PathsMoves = list(p.map(simulation,KEY))\n",
    "\n",
    "path = []\n",
    "move = []\n",
    "for i in tqdm(range(len(PathsMoves))):\n",
    "    p,m = PathsMoves[i]\n",
    "    path.append(p)\n",
    "    move.append(m)\n",
    "Paths = jnp.array(path)\n",
    "Moves = jnp.array(move)\n",
    "\n",
    "# x = [w,ab,s,e,o,z]\n",
    "# x = [0,1, 2,3,4,5]\n",
    "ws = Paths[:,:,0].T\n",
    "ab = Paths[:,:,1].T\n",
    "ss = Paths[:,:,2].T\n",
    "es = Paths[:,:,3].T\n",
    "os = Paths[:,:,4].T\n",
    "zs = Paths[:,:,5].T\n",
    "cs = Moves[:,:,0].T\n",
    "bs = Moves[:,:,1].T\n",
    "ks = Moves[:,:,2].T\n",
    "hs = Moves[:,:,3].T\n",
    "ms = Ms[jnp.append(jnp.array([0]),jnp.arange(yearCount)).reshape(-1,1) - jnp.array(ab, dtype = jnp.int8)]*os"
   ]
  },
  {
   "cell_type": "code",
   "execution_count": 33,
   "metadata": {},
   "outputs": [
    {
     "data": {
      "text/plain": [
       "DeviceArray([[ 14.09   ,  30.     ,   3.     ,   1.     ,   1.     ,\n",
       "                0.     ],\n",
       "             [ 89.89631,  30.     ,   1.     ,   1.     ,   1.     ,\n",
       "                0.     ],\n",
       "             [171.87746,  30.     ,   2.     ,   1.     ,   1.     ,\n",
       "                0.     ],\n",
       "             [253.1452 ,  30.     ,   0.     ,   1.     ,   1.     ,\n",
       "                0.     ],\n",
       "             [332.722  ,  30.     ,   6.     ,   1.     ,   1.     ,\n",
       "                0.     ],\n",
       "             [411.01544,  30.     ,   3.     ,   1.     ,   1.     ,\n",
       "                0.     ],\n",
       "             [493.3709 ,  30.     ,   3.     ,   1.     ,   1.     ,\n",
       "                0.     ],\n",
       "             [587.296  ,  30.     ,   4.     ,   1.     ,   1.     ,\n",
       "                0.     ],\n",
       "             [693.8182 ,  30.     ,   3.     ,   1.     ,   1.     ,\n",
       "                0.     ],\n",
       "             [802.1082 ,  30.     ,   0.     ,   1.     ,   1.     ,\n",
       "                0.     ],\n",
       "             [891.853  ,  30.     ,   4.     ,   0.     ,   1.     ,\n",
       "                0.     ],\n",
       "             [915.22253,  30.     ,   4.     ,   1.     ,   1.     ,\n",
       "                0.     ],\n",
       "             [991.93835,  30.     ,   3.     ,   1.     ,   1.     ,\n",
       "                0.     ],\n",
       "             [475.78152,  30.     ,   4.     ,   1.     ,   1.     ,\n",
       "                1.     ],\n",
       "             [306.7272 ,  30.     ,   6.     ,   0.     ,   1.     ,\n",
       "                1.     ],\n",
       "             [241.38817,  30.     ,   4.     ,   0.     ,   1.     ,\n",
       "                1.     ],\n",
       "             [188.0145 ,  30.     ,   3.     ,   1.     ,   1.     ,\n",
       "                1.     ],\n",
       "             [184.92194,  30.     ,   4.     ,   1.     ,   1.     ,\n",
       "                1.     ],\n",
       "             [181.46854,  30.     ,   4.     ,   1.     ,   1.     ,\n",
       "                1.     ],\n",
       "             [196.73192,  30.     ,   1.     ,   1.     ,   1.     ,\n",
       "                1.     ],\n",
       "             [174.9648 ,  30.     ,   1.     ,   1.     ,   1.     ,\n",
       "                1.     ]], dtype=float32)"
      ]
     },
     "execution_count": 33,
     "metadata": {},
     "output_type": "execute_result"
    }
   ],
   "source": [
    "list(map(simulation,[keys[0],keys[1],keys[3]]))[0][0]"
   ]
  },
  {
   "cell_type": "code",
   "execution_count": 34,
   "metadata": {},
   "outputs": [
    {
     "data": {
      "text/plain": [
       "DeviceArray([[8.5635990e-02, 8.5550354e+01, 0.0000000e+00, 1.3000000e+03,\n",
       "              0.0000000e+00],\n",
       "             [1.6214260e-01, 1.6198045e+02, 0.0000000e+00, 1.3000000e+03,\n",
       "              0.0000000e+00],\n",
       "             [2.4485324e-01, 2.4460838e+02, 0.0000000e+00, 1.3000000e+03,\n",
       "              0.0000000e+00],\n",
       "             [3.2652456e-01, 3.2619803e+02, 0.0000000e+00, 1.3000000e+03,\n",
       "              0.0000000e+00],\n",
       "             [4.0638766e-01, 4.0598126e+02, 0.0000000e+00, 1.3000000e+03,\n",
       "              0.0000000e+00],\n",
       "             [4.8470387e-01, 4.8421915e+02, 0.0000000e+00, 1.3000000e+03,\n",
       "              0.0000000e+00],\n",
       "             [5.6734598e-01, 5.6677863e+02, 0.0000000e+00, 1.3000000e+03,\n",
       "              0.0000000e+00],\n",
       "             [6.6181886e-01, 6.6115704e+02, 0.0000000e+00, 1.3000000e+03,\n",
       "              0.0000000e+00],\n",
       "             [7.6811552e-01, 7.6734735e+02, 0.0000000e+00, 1.3000000e+03,\n",
       "              0.0000000e+00],\n",
       "             [8.7670213e-01, 8.7582538e+02, 0.0000000e+00, 1.3000000e+03,\n",
       "              0.0000000e+00],\n",
       "             [9.1185308e-01, 9.1094116e+02, 0.0000000e+00, 1.3000000e+03,\n",
       "              0.0000000e+00],\n",
       "             [9.8976403e-01, 9.8877423e+02, 0.0000000e+00, 1.3000000e+03,\n",
       "              0.0000000e+00],\n",
       "             [5.4994885e+02, 4.6900275e+02, 5.9345942e+00, 1.3000000e+03,\n",
       "              0.0000000e+00],\n",
       "             [2.2284001e+02, 3.0620663e+02, 0.0000000e+00, 1.3000000e+03,\n",
       "              0.0000000e+00],\n",
       "             [6.4510704e+01, 2.4107478e+02, 0.0000000e+00, 1.3000000e+03,\n",
       "              0.0000000e+00],\n",
       "             [6.3318802e+01, 5.5850624e+01, 1.1858951e+02, 1.3000000e+03,\n",
       "              0.0000000e+00],\n",
       "             [5.0287552e+01, 6.9234886e+01, 1.1631460e+02, 1.3000000e+03,\n",
       "              0.0000000e+00],\n",
       "             [6.1744892e+01, 5.4462353e+01, 1.1564174e+02, 1.3000000e+03,\n",
       "              0.0000000e+00],\n",
       "             [6.0183018e+01, 0.0000000e+00, 1.6473950e+02, 1.3000000e+03,\n",
       "              0.0000000e+00],\n",
       "             [5.0955021e+01, 0.0000000e+00, 1.8660921e+02, 1.3000000e+03,\n",
       "              0.0000000e+00]], dtype=float32)"
      ]
     },
     "execution_count": 34,
     "metadata": {},
     "output_type": "execute_result"
    }
   ],
   "source": [
    "list(map(simulation,[keys[0],keys[1],keys[3]]))[0][1]"
   ]
  },
  {
   "cell_type": "code",
   "execution_count": null,
   "metadata": {},
   "outputs": [],
   "source": []
  },
  {
   "cell_type": "code",
   "execution_count": 3,
   "metadata": {},
   "outputs": [],
   "source": [
    "np.save(\"w2\", ws)"
   ]
  },
  {
   "cell_type": "code",
   "execution_count": 4,
   "metadata": {},
   "outputs": [],
   "source": [
    "np.save(\"waseozcbkhm2\", np.array([ws,ab,ss,es,os,zs,cs,bs,ks,hs,ms]))"
   ]
  },
  {
   "cell_type": "code",
   "execution_count": null,
   "metadata": {},
   "outputs": [],
   "source": []
  }
 ],
 "metadata": {
  "kernelspec": {
   "display_name": "Python 3",
   "language": "python",
   "name": "python3"
  },
  "language_info": {
   "codemirror_mode": {
    "name": "ipython",
    "version": 3
   },
   "file_extension": ".py",
   "mimetype": "text/x-python",
   "name": "python",
   "nbconvert_exporter": "python",
   "pygments_lexer": "ipython3",
   "version": "3.8.8"
  }
 },
 "nbformat": 4,
 "nbformat_minor": 4
}
