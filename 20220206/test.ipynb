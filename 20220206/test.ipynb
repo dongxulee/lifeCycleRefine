{
 "cells": [
  {
   "cell_type": "code",
   "execution_count": 1,
   "id": "c8c38987",
   "metadata": {},
   "outputs": [],
   "source": [
    "import numpy as np "
   ]
  },
  {
   "cell_type": "code",
   "execution_count": 3,
   "id": "cca9aefb",
   "metadata": {},
   "outputs": [],
   "source": [
    "def discretizeNormalDistribution(mu, sigma, size):\n",
    "    values = np.zeros(size)\n",
    "    valuesProbabilities = np.ones(size)*(1/size)\n",
    "    # sample size \n",
    "    N = 100000000\n",
    "    samples = np.random.normal(mu, sigma, N)\n",
    "    # partition probabilities \n",
    "    probsPartitions = np.linspace(0, 1, size+1)\n",
    "    for i in range(len(probsPartitions) - 1):\n",
    "        lowerBound = np.quantile(samples, probsPartitions[i])\n",
    "        upperBound = np.quantile(samples, probsPartitions[i+1])\n",
    "        values[i] = samples[(samples > lowerBound) & (samples < upperBound)].mean()\n",
    "    return values.round(2), valuesProbabilities"
   ]
  },
  {
   "cell_type": "code",
   "execution_count": 4,
   "id": "bc072b9f",
   "metadata": {},
   "outputs": [],
   "source": [
    "mu = 0.10\n",
    "sigma = 0.25\n",
    "size = 5\n",
    "v,vp = discretizeNormalDistribution(mu, sigma, size)"
   ]
  },
  {
   "cell_type": "code",
   "execution_count": 5,
   "id": "b2fb44e6",
   "metadata": {},
   "outputs": [
    {
     "data": {
      "text/plain": [
       "array([-0.25, -0.03,  0.1 ,  0.23,  0.45])"
      ]
     },
     "execution_count": 5,
     "metadata": {},
     "output_type": "execute_result"
    }
   ],
   "source": [
    "v"
   ]
  },
  {
   "cell_type": "code",
   "execution_count": 6,
   "id": "1c03a52b",
   "metadata": {},
   "outputs": [
    {
     "data": {
      "text/plain": [
       "array([0.2, 0.2, 0.2, 0.2, 0.2])"
      ]
     },
     "execution_count": 6,
     "metadata": {},
     "output_type": "execute_result"
    }
   ],
   "source": [
    "vp"
   ]
  },
  {
   "cell_type": "code",
   "execution_count": 20,
   "id": "1ca75792",
   "metadata": {},
   "outputs": [
    {
     "data": {
      "text/plain": [
       "5"
      ]
     },
     "execution_count": 20,
     "metadata": {},
     "output_type": "execute_result"
    }
   ],
   "source": [
    "v.size"
   ]
  },
  {
   "cell_type": "code",
   "execution_count": 66,
   "id": "17819954",
   "metadata": {},
   "outputs": [
    {
     "data": {
      "text/plain": [
       "array([1, 2, 3])"
      ]
     },
     "execution_count": 66,
     "metadata": {},
     "output_type": "execute_result"
    }
   ],
   "source": [
    "np.array([1,2,3]).T"
   ]
  },
  {
   "cell_type": "code",
   "execution_count": 110,
   "id": "0266f53b",
   "metadata": {},
   "outputs": [],
   "source": [
    "k = np.ones(3)\n",
    "r_k = np.linspace(0.1,0.5,5)\n",
    "b = np.linspace(1,3,3)\n"
   ]
  },
  {
   "cell_type": "code",
   "execution_count": 111,
   "id": "f0b6cb9b",
   "metadata": {},
   "outputs": [
    {
     "data": {
      "text/plain": [
       "array([1., 1., 1.])"
      ]
     },
     "execution_count": 111,
     "metadata": {},
     "output_type": "execute_result"
    }
   ],
   "source": [
    "k"
   ]
  },
  {
   "cell_type": "code",
   "execution_count": 112,
   "id": "7f0eb6db",
   "metadata": {},
   "outputs": [
    {
     "data": {
      "text/plain": [
       "array([0.1, 0.2, 0.3, 0.4, 0.5])"
      ]
     },
     "execution_count": 112,
     "metadata": {},
     "output_type": "execute_result"
    }
   ],
   "source": [
    "r_k"
   ]
  },
  {
   "cell_type": "code",
   "execution_count": 113,
   "id": "c5d089fe",
   "metadata": {},
   "outputs": [
    {
     "data": {
      "text/plain": [
       "array([1., 2., 3.])"
      ]
     },
     "execution_count": 113,
     "metadata": {},
     "output_type": "execute_result"
    }
   ],
   "source": [
    "b"
   ]
  },
  {
   "cell_type": "code",
   "execution_count": 114,
   "id": "0306a33c",
   "metadata": {},
   "outputs": [
    {
     "data": {
      "text/plain": [
       "array([[1.1, 1.2, 1.3, 1.4, 1.5],\n",
       "       [1.1, 1.2, 1.3, 1.4, 1.5],\n",
       "       [1.1, 1.2, 1.3, 1.4, 1.5]])"
      ]
     },
     "execution_count": 114,
     "metadata": {},
     "output_type": "execute_result"
    }
   ],
   "source": [
    "np.outer(k,(1+r_k))"
   ]
  },
  {
   "cell_type": "code",
   "execution_count": 116,
   "id": "f59c9beb",
   "metadata": {},
   "outputs": [
    {
     "data": {
      "text/plain": [
       "array([[2.1, 2.2, 2.3, 2.4, 2.5],\n",
       "       [3.1, 3.2, 3.3, 3.4, 3.5],\n",
       "       [4.1, 4.2, 4.3, 4.4, 4.5]])"
      ]
     },
     "execution_count": 116,
     "metadata": {},
     "output_type": "execute_result"
    }
   ],
   "source": [
    "b.reshape((-1,1)) + np.outer(k,(1+r_k))"
   ]
  },
  {
   "cell_type": "code",
   "execution_count": 115,
   "id": "e07059e2",
   "metadata": {},
   "outputs": [
    {
     "data": {
      "text/plain": [
       "array([2.1, 2.2, 2.3, 2.4, 2.5, 3.1, 3.2, 3.3, 3.4, 3.5, 4.1, 4.2, 4.3,\n",
       "       4.4, 4.5])"
      ]
     },
     "execution_count": 115,
     "metadata": {},
     "output_type": "execute_result"
    }
   ],
   "source": [
    "(b.reshape((-1,1)) + np.outer(k,(1+r_k))).flatten()"
   ]
  },
  {
   "cell_type": "code",
   "execution_count": 117,
   "id": "2f9bd7f0",
   "metadata": {},
   "outputs": [
    {
     "data": {
      "text/plain": [
       "array([[1., 1.],\n",
       "       [2., 2.],\n",
       "       [3., 3.]])"
      ]
     },
     "execution_count": 117,
     "metadata": {},
     "output_type": "execute_result"
    }
   ],
   "source": [
    "np.column_stack((b,b))"
   ]
  },
  {
   "cell_type": "code",
   "execution_count": 118,
   "id": "acd641e6",
   "metadata": {},
   "outputs": [
    {
     "data": {
      "text/plain": [
       "array([1., 1., 1., 2., 2., 2., 3., 3., 3.])"
      ]
     },
     "execution_count": 118,
     "metadata": {},
     "output_type": "execute_result"
    }
   ],
   "source": [
    "b.repeat(3)"
   ]
  },
  {
   "cell_type": "code",
   "execution_count": 120,
   "id": "9082ffa7",
   "metadata": {},
   "outputs": [
    {
     "data": {
      "text/plain": [
       "array([1., 2., 3., 1., 2., 3., 1., 2., 3.])"
      ]
     },
     "execution_count": 120,
     "metadata": {},
     "output_type": "execute_result"
    }
   ],
   "source": [
    "np.tile(b,3)"
   ]
  },
  {
   "cell_type": "code",
   "execution_count": 124,
   "id": "15927eb7",
   "metadata": {},
   "outputs": [
    {
     "data": {
      "text/plain": [
       "array([0.04, 0.06, 0.08, 0.12, 0.12, 0.18, 0.16, 0.24])"
      ]
     },
     "execution_count": 124,
     "metadata": {},
     "output_type": "execute_result"
    }
   ],
   "source": [
    "Pk = np.array([0.1,0.2,0.3,0.4])\n",
    "Ps = np.array([0.4,0.6])\n",
    "\n",
    "np.outer(Pk,Ps).flatten()"
   ]
  },
  {
   "cell_type": "code",
   "execution_count": 3,
   "id": "d580d4ed",
   "metadata": {},
   "outputs": [
    {
     "name": "stderr",
     "output_type": "stream",
     "text": [
      "WARNING:absl:No GPU/TPU found, falling back to CPU. (Set TF_CPP_MIN_LOG_LEVEL=0 and rerun for more info.)\n"
     ]
    },
    {
     "data": {
      "text/plain": [
       "DeviceArray(3, dtype=int32)"
      ]
     },
     "execution_count": 3,
     "metadata": {},
     "output_type": "execute_result"
    }
   ],
   "source": [
    "import jax.numpy as jnp\n",
    "a = jnp.array([1,2,3])\n",
    "\n",
    "a[2]"
   ]
  },
  {
   "cell_type": "code",
   "execution_count": 127,
   "id": "af70c0af",
   "metadata": {},
   "outputs": [
    {
     "data": {
      "text/plain": [
       "DeviceArray([3, 3, 3, 3, 3, 3, 3, 3, 3, 3], dtype=int32)"
      ]
     },
     "execution_count": 127,
     "metadata": {},
     "output_type": "execute_result"
    }
   ],
   "source": [
    "a[2].repeat(10)"
   ]
  },
  {
   "cell_type": "code",
   "execution_count": 11,
   "id": "62d7a591",
   "metadata": {},
   "outputs": [],
   "source": [
    "aa = (a[2] == 3)"
   ]
  },
  {
   "cell_type": "code",
   "execution_count": 12,
   "id": "852134bc",
   "metadata": {},
   "outputs": [
    {
     "data": {
      "text/plain": [
       "DeviceArray(2, dtype=int32, weak_type=True)"
      ]
     },
     "execution_count": 12,
     "metadata": {},
     "output_type": "execute_result"
    }
   ],
   "source": [
    "aa *2"
   ]
  },
  {
   "cell_type": "code",
   "execution_count": 9,
   "id": "7461106e",
   "metadata": {},
   "outputs": [
    {
     "data": {
      "text/plain": [
       "DeviceArray(False, dtype=bool)"
      ]
     },
     "execution_count": 9,
     "metadata": {},
     "output_type": "execute_result"
    }
   ],
   "source": [
    "aa"
   ]
  },
  {
   "cell_type": "code",
   "execution_count": 13,
   "id": "b9555c18",
   "metadata": {},
   "outputs": [],
   "source": [
    "aaa = jnp.ones((2,3))"
   ]
  },
  {
   "cell_type": "code",
   "execution_count": 19,
   "id": "50824aeb",
   "metadata": {},
   "outputs": [],
   "source": [
    "aaa = jnp.array([[1., 2., 3.],\n",
    "             [1., 2., 3.]])"
   ]
  },
  {
   "cell_type": "code",
   "execution_count": 26,
   "id": "ab82e873",
   "metadata": {},
   "outputs": [],
   "source": [
    "empiricalEcon = pd.read_csv('constant/empiricalEcon.csv',delimiter=',')\n",
    "empiricalEcon = empiricalEcon.set_index(\"year\")\n",
    "empiricalEcon = (empiricalEcon/100).values"
   ]
  },
  {
   "cell_type": "code",
   "execution_count": 24,
   "id": "f11ea682",
   "metadata": {},
   "outputs": [],
   "source": [
    "import pandas as pd \n",
    "empiricalEcon = pd.read_csv('constant/empiricalEcon.csv',delimiter=',')\n",
    "empiricalEcon = empiricalEcon.set_index(\"year\")\n",
    "empiricalEcon = (empiricalEcon/100).values\n",
    "empiricalEcon = empiricalEcon[:,[0,2]]"
   ]
  },
  {
   "cell_type": "code",
   "execution_count": 27,
   "id": "9d832be1",
   "metadata": {},
   "outputs": [
    {
     "data": {
      "text/plain": [
       "array([[ 0.0724,  0.014 ,  0.1091],\n",
       "       [ 0.0417,  0.2633,  0.0842],\n",
       "       [ 0.0346,  0.1462,  0.0645],\n",
       "       [ 0.0346,  0.0203,  0.0677],\n",
       "       [ 0.0418,  0.124 ,  0.0765],\n",
       "       [ 0.0367,  0.2725,  0.0853],\n",
       "       [ 0.0189, -0.0656,  0.0789],\n",
       "       [-0.0011,  0.2631,  0.0586],\n",
       "       [ 0.0352,  0.0446,  0.0389],\n",
       "       [ 0.0275,  0.0706,  0.0343],\n",
       "       [ 0.0403, -0.0154,  0.0532],\n",
       "       [ 0.0268,  0.3411,  0.0594],\n",
       "       [ 0.0377,  0.2026,  0.0552],\n",
       "       [ 0.0445,  0.3101,  0.0563],\n",
       "       [ 0.0448,  0.2667,  0.0505],\n",
       "       [ 0.0475,  0.1953,  0.0508],\n",
       "       [ 0.0413, -0.1014,  0.0611],\n",
       "       [ 0.01  , -0.1304,  0.0349],\n",
       "       [ 0.0174, -0.2337,  0.02  ],\n",
       "       [ 0.0286,  0.2638,  0.0124],\n",
       "       [ 0.038 ,  0.0899,  0.0189],\n",
       "       [ 0.0351,  0.03  ,  0.0362],\n",
       "       [ 0.0285,  0.1362,  0.0494],\n",
       "       [ 0.0188,  0.0353,  0.0453],\n",
       "       [-0.0014, -0.3849,  0.0183],\n",
       "       [-0.0254,  0.2345,  0.0047],\n",
       "       [ 0.0256,  0.1278,  0.0032],\n",
       "       [ 0.0155,  0.    ,  0.0018],\n",
       "       [ 0.0225,  0.1341,  0.0017],\n",
       "       [ 0.0184,  0.296 ,  0.0013],\n",
       "       [ 0.0253,  0.1139,  0.0012],\n",
       "       [ 0.0308, -0.0073,  0.0032],\n",
       "       [ 0.0171,  0.0954,  0.0061],\n",
       "       [ 0.0233,  0.1942,  0.012 ],\n",
       "       [ 0.03  , -0.0624,  0.0233],\n",
       "       [ 0.0216,  0.2888,  0.0205]])"
      ]
     },
     "execution_count": 27,
     "metadata": {},
     "output_type": "execute_result"
    }
   ],
   "source": [
    "empiricalEcon"
   ]
  },
  {
   "cell_type": "code",
   "execution_count": 38,
   "id": "6e144546",
   "metadata": {},
   "outputs": [],
   "source": [
    "x = x[0] "
   ]
  },
  {
   "cell_type": "code",
   "execution_count": 39,
   "id": "0adca6e4",
   "metadata": {},
   "outputs": [
    {
     "data": {
      "text/plain": [
       "DeviceArray([39.901608, 25.      ,  3.      ,  1.      ,  1.      ,\n",
       "              1.      ], dtype=float32)"
      ]
     },
     "execution_count": 39,
     "metadata": {},
     "output_type": "execute_result"
    }
   ],
   "source": [
    "x"
   ]
  },
  {
   "cell_type": "code",
   "execution_count": 1,
   "id": "342f3d29",
   "metadata": {},
   "outputs": [
    {
     "ename": "NameError",
     "evalue": "name 'initialStates' is not defined",
     "output_type": "error",
     "traceback": [
      "\u001b[0;31m---------------------------------------------------------------------------\u001b[0m",
      "\u001b[0;31mNameError\u001b[0m                                 Traceback (most recent call last)",
      "\u001b[0;32m<ipython-input-1-aa0b81508c6f>\u001b[0m in \u001b[0;36m<module>\u001b[0;34m\u001b[0m\n\u001b[0;32m----> 1\u001b[0;31m \u001b[0mx\u001b[0m \u001b[0;34m=\u001b[0m \u001b[0minitialStates\u001b[0m\u001b[0;34m[\u001b[0m\u001b[0mkey\u001b[0m\u001b[0;34m.\u001b[0m\u001b[0msum\u001b[0m\u001b[0;34m(\u001b[0m\u001b[0;34m)\u001b[0m\u001b[0;34m%\u001b[0m\u001b[0minitialStates\u001b[0m\u001b[0;34m.\u001b[0m\u001b[0mshape\u001b[0m\u001b[0;34m[\u001b[0m\u001b[0;36m0\u001b[0m\u001b[0;34m]\u001b[0m\u001b[0;34m]\u001b[0m\u001b[0;34m[\u001b[0m\u001b[0;36m1\u001b[0m\u001b[0;34m:\u001b[0m\u001b[0;34m]\u001b[0m\u001b[0;34m\u001b[0m\u001b[0;34m\u001b[0m\u001b[0m\n\u001b[0m\u001b[1;32m      2\u001b[0m \u001b[0mage\u001b[0m \u001b[0;34m=\u001b[0m \u001b[0mint\u001b[0m\u001b[0;34m(\u001b[0m\u001b[0minitialStates\u001b[0m\u001b[0;34m[\u001b[0m\u001b[0mkey\u001b[0m\u001b[0;34m.\u001b[0m\u001b[0msum\u001b[0m\u001b[0;34m(\u001b[0m\u001b[0;34m)\u001b[0m\u001b[0;34m%\u001b[0m\u001b[0minitialStates\u001b[0m\u001b[0;34m.\u001b[0m\u001b[0mshape\u001b[0m\u001b[0;34m[\u001b[0m\u001b[0;36m0\u001b[0m\u001b[0;34m]\u001b[0m\u001b[0;34m]\u001b[0m\u001b[0;34m[\u001b[0m\u001b[0;36m0\u001b[0m\u001b[0;34m]\u001b[0m\u001b[0;34m)\u001b[0m\u001b[0;34m\u001b[0m\u001b[0;34m\u001b[0m\u001b[0m\n\u001b[1;32m      3\u001b[0m \u001b[0mpath\u001b[0m \u001b[0;34m=\u001b[0m \u001b[0;34m[\u001b[0m\u001b[0;34m]\u001b[0m\u001b[0;34m\u001b[0m\u001b[0;34m\u001b[0m\u001b[0m\n\u001b[1;32m      4\u001b[0m \u001b[0mmove\u001b[0m \u001b[0;34m=\u001b[0m \u001b[0;34m[\u001b[0m\u001b[0;34m]\u001b[0m\u001b[0;34m\u001b[0m\u001b[0;34m\u001b[0m\u001b[0m\n\u001b[1;32m      5\u001b[0m \u001b[0;32mfor\u001b[0m \u001b[0mt\u001b[0m \u001b[0;32min\u001b[0m \u001b[0mrange\u001b[0m\u001b[0;34m(\u001b[0m\u001b[0;36m0\u001b[0m\u001b[0;34m,\u001b[0m \u001b[0mperiod\u001b[0m\u001b[0;34m)\u001b[0m\u001b[0;34m:\u001b[0m\u001b[0;34m\u001b[0m\u001b[0;34m\u001b[0m\u001b[0m\n",
      "\u001b[0;31mNameError\u001b[0m: name 'initialStates' is not defined"
     ]
    }
   ],
   "source": [
    "x = initialStates[key.sum()%initialStates.shape[0]][1:]\n",
    "age = int(initialStates[key.sum()%initialStates.shape[0]][0])\n",
    "path = []\n",
    "move = []\n",
    "for t in range(0, period):\n",
    "    key, subkey = random.split(key)\n",
    "    if t+age-20 == T_max-1:\n",
    "        _,a = V_solve(t+age-20,Vgrid[:,:,:,:,:,:,t+age-20],x)\n",
    "    else:\n",
    "        _,a = V_solve(t+age-20,Vgrid[:,:,:,:,:,:,t+age-20 + 1],x)\n",
    "    path.append(x)\n",
    "    move.append(a)                \n",
    "    x = transition_real(t,a,x,subkey) "
   ]
  },
  {
   "cell_type": "code",
   "execution_count": 14,
   "id": "f0418966",
   "metadata": {},
   "outputs": [
    {
     "name": "stderr",
     "output_type": "stream",
     "text": [
      "<ipython-input-14-0542e7c3177a>:89: SettingWithCopyWarning: \n",
      "A value is trying to be set on a copy of a slice from a DataFrame.\n",
      "Try using .loc[row_indexer,col_indexer] = value instead\n",
      "\n",
      "See the caveats in the documentation: https://pandas.pydata.org/pandas-docs/stable/user_guide/indexing.html#returning-a-view-versus-a-copy\n",
      "  df[\"ab\"] = 25\n",
      "<ipython-input-14-0542e7c3177a>:90: SettingWithCopyWarning: \n",
      "A value is trying to be set on a copy of a slice from a DataFrame.\n",
      "Try using .loc[row_indexer,col_indexer] = value instead\n",
      "\n",
      "See the caveats in the documentation: https://pandas.pydata.org/pandas-docs/stable/user_guide/indexing.html#returning-a-view-versus-a-copy\n",
      "  df[\"wealth\"] = df[\"liquidWealth\"] + df[\"investmentAmount\"]\n",
      "<ipython-input-14-0542e7c3177a>:92: SettingWithCopyWarning: \n",
      "A value is trying to be set on a copy of a slice from a DataFrame.\n",
      "Try using .loc[row_indexer,col_indexer] = value instead\n",
      "\n",
      "See the caveats in the documentation: https://pandas.pydata.org/pandas-docs/stable/user_guide/indexing.html#returning-a-view-versus-a-copy\n",
      "  df[\"employmentStatus\"] = df[\"employmentStatus\"].map(codes)\n",
      "<ipython-input-14-0542e7c3177a>:94: SettingWithCopyWarning: \n",
      "A value is trying to be set on a copy of a slice from a DataFrame.\n",
      "Try using .loc[row_indexer,col_indexer] = value instead\n",
      "\n",
      "See the caveats in the documentation: https://pandas.pydata.org/pandas-docs/stable/user_guide/indexing.html#returning-a-view-versus-a-copy\n",
      "  df[\"ownership\"] = df[\"ownership\"].map(codes)\n",
      "<ipython-input-14-0542e7c3177a>:96: SettingWithCopyWarning: \n",
      "A value is trying to be set on a copy of a slice from a DataFrame.\n",
      "Try using .loc[row_indexer,col_indexer] = value instead\n",
      "\n",
      "See the caveats in the documentation: https://pandas.pydata.org/pandas-docs/stable/user_guide/indexing.html#returning-a-view-versus-a-copy\n",
      "  initialStates[\"year\"] = imaginedEconState[0]\n"
     ]
    }
   ],
   "source": [
    "import numpy as np \n",
    "import pandas as pd \n",
    "import jax.numpy as jnp\n",
    "# time line, starts at 20 ends at 80\n",
    "T_min = 0\n",
    "T_max = 60\n",
    "T_R = 45\n",
    "# relative importance of housing consumption and non-durable consumption \n",
    "alpha = 0.6\n",
    "# parameter used to calculate the housing consumption \n",
    "kappa = 0.3\n",
    "# uB associated parameter\n",
    "B = 2.0\n",
    "# social welfare after the unemployment\n",
    "welfare = 20\n",
    "# tax rate before and after retirement\n",
    "tau_L = 0.2\n",
    "tau_R = 0.1\n",
    "# number of states S\n",
    "nS = 4\n",
    "# number of states e\n",
    "nE = 2\n",
    "# housing state\n",
    "nO = 2\n",
    "# experience state \n",
    "nZ = 2\n",
    "# number of stock returns\n",
    "nK = 5 \n",
    "# probability of survival\n",
    "Pa = jnp.array(np.load(\"constant/prob.npy\"))\n",
    "\n",
    "'''\n",
    "    Economic state calibration \n",
    "'''\n",
    "# Define transition matrix of economical states S\n",
    "Ps = jnp.array([[0.666943845910281,       0.323002783576127,       0.006773126343361,       0.003280244170230],\n",
    "                [0.242744495621321,       0.552652993374488,       0.062441903606298,       0.142160607397893],\n",
    "                [0.142160607397893,       0.062441903606298,       0.552652993374488,       0.242744495621321],\n",
    "                [0.003280244170230,       0.006773126343361,       0.323002783576127,       0.666943845910281]])\n",
    "# The possible GDP growth, stock return, bond return\n",
    "gkfe = jnp.array([[1.15092702581186,0.35018029597671,7.45225509799324,1.96256037691487,2.70289403208730,4.08113333370979,6.38900780341802,6.58200153822790,75.7204565759835],\n",
    "                    [4.04067574816344,1.52018766753626,11.0127698466567,5.36898678622499,2.74215830217707,4.84525964423984,5.75640718766578,6.41575253485291,76.0184702813153],\n",
    "                    [1.15092702581186,3.94493112442431,8.01817936174009,1.90525394712031,3.52960682058264,7.20574800383753,6.28203807210335,7.44409304613654,77.1793373563495],\n",
    "                    [4.04067574816344,5.11493849598385,11.5786941104035,5.31168035643043,3.56887109067241,7.96987431436759,5.64943745635110,7.27784404276155,77.4773510616813]])\n",
    "# GDP growth depending on current S state\n",
    "gGDP = gkfe[:,0]/100\n",
    "# risk free interest rate depending on current S state \n",
    "r_b = gkfe[:,1]/100\n",
    "# stock return depending on current S state\n",
    "r_k = jnp.array([-0.09,  0.04,  0.12,  0.2 ,  0.33])\n",
    "pk = jnp.array([0.2, 0.2, 0.2, 0.2, 0.2])\n",
    "# unemployment rate depending on current S state \n",
    "Pe = gkfe[:,7:]/100\n",
    "Pe = Pe[:,::-1]\n",
    "# consumption lower boundary \n",
    "c_bar = jnp.array(np.load(\"constant/c_bar.npy\"))\n",
    "# empirical econ\n",
    "empiricalEcon = pd.read_csv('constant/empiricalEcon.csv',delimiter=',')\n",
    "empiricalEcon = empiricalEcon.set_index(\"year\")\n",
    "empiricalEcon = (empiricalEcon/100)\n",
    "# match the empirical states in memoryState\n",
    "memoryState = np.column_stack((gGDP, r_b))\n",
    "def similarity(actualState, memoryState = memoryState):\n",
    "    '''\n",
    "        state is charactorized as 2 dim vector\n",
    "    '''\n",
    "    diffState = np.sum(np.abs(actualState - memoryState), axis = 1)\n",
    "    distance = np.min(diffState)\n",
    "    state = np.argmin(diffState)\n",
    "    return distance, state\n",
    "_, imaginedEconState = np.vectorize(similarity, signature='(n)->(),()')(empiricalEcon.values[:,[0,2]])\n",
    "# generate economic states of a certain time window\n",
    "def generateEcon(yearBegin, yearCount,imaginedEconState,empiricalEcon):\n",
    "    # single economy generation\n",
    "    years = empiricalEcon.index.values\n",
    "    econ = jnp.array(imaginedEconState[np.where(years == yearBegin)[0][0]:np.where(years == yearBegin)[0][0]+yearCount],dtype = int)\n",
    "    econRate = empiricalEcon[np.where(years == yearBegin)[0][0]:np.where(years == yearBegin)[0][0]+yearCount].values\n",
    "    return econ, econRate\n",
    "#**********************************simulation change*****************************************************#\n",
    "yearBegin = 1999\n",
    "yearCount = 20\n",
    "econ, econRate = generateEcon(yearBegin, yearCount,imaginedEconState,empiricalEcon)\n",
    "\n",
    "Vgrid = np.load(\"richLow_0.1_4.0\" + \".npy\")\n",
    "df_1999 = pd.read_csv(\"df_1999_30to60.csv\")\n",
    "\n",
    "df = df_1999[(df_1999[\"skillLevel\"] == \"High\")&(df_1999[\"financeExperience\"] == \"Yes\")]\n",
    "\n",
    "df[\"ab\"] = 25\n",
    "df[\"wealth\"] = df[\"liquidWealth\"] + df[\"investmentAmount\"]\n",
    "codes = {'employed':1, 'unemployed': 0, \"retired\": 0}\n",
    "df[\"employmentStatus\"] = df[\"employmentStatus\"].map(codes)\n",
    "codes = {'owner':1, 'renter': 0}\n",
    "df[\"ownership\"] = df[\"ownership\"].map(codes)\n",
    "initialStates = df[[\"ageHead\",\"wealth\",\"ab\",\"year\",\"employmentStatus\",\"ownership\",\"participation\"]]\n",
    "initialStates[\"year\"] = imaginedEconState[0]\n",
    "initialStates = jnp.array(initialStates.values)\n",
    "\n",
    "# risk free interest rate depending on current S state \n",
    "bondReturn = jnp.array(econRate[:,2])\n",
    "# stock return depending on current S state\n",
    "stockReturn = jnp.array(econRate[:,1])\n",
    "x = initialStates[0%initialStates.shape[0]][1:]"
   ]
  },
  {
   "cell_type": "code",
   "execution_count": 17,
   "id": "d7638d59",
   "metadata": {},
   "outputs": [
    {
     "data": {
      "text/plain": [
       "DeviceArray([17.03, 25.  ,  3.  ,  1.  ,  1.  ,  1.  ], dtype=float32)"
      ]
     },
     "execution_count": 17,
     "metadata": {},
     "output_type": "execute_result"
    }
   ],
   "source": [
    "x"
   ]
  },
  {
   "cell_type": "code",
   "execution_count": 22,
   "id": "41065db1",
   "metadata": {},
   "outputs": [
    {
     "data": {
      "text/plain": [
       "DeviceArray([[17.03, 25.  ,  3.  ,  1.  ,  1.  ,  1.  ]], dtype=float32)"
      ]
     },
     "execution_count": 22,
     "metadata": {},
     "output_type": "execute_result"
    }
   ],
   "source": [
    "jnp.column_stack([x[0],x[1],x[2],x[3],x[4],x[5]])"
   ]
  },
  {
   "cell_type": "code",
   "execution_count": null,
   "id": "b2858326",
   "metadata": {},
   "outputs": [],
   "source": []
  }
 ],
 "metadata": {
  "kernelspec": {
   "display_name": "Python 3",
   "language": "python",
   "name": "python3"
  },
  "language_info": {
   "codemirror_mode": {
    "name": "ipython",
    "version": 3
   },
   "file_extension": ".py",
   "mimetype": "text/x-python",
   "name": "python",
   "nbconvert_exporter": "python",
   "pygments_lexer": "ipython3",
   "version": "3.8.8"
  }
 },
 "nbformat": 4,
 "nbformat_minor": 5
}
