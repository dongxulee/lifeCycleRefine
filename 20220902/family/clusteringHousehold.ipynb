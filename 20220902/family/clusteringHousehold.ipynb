{
 "cells": [
  {
   "cell_type": "code",
   "execution_count": 6,
   "metadata": {},
   "outputs": [
    {
     "name": "stdout",
     "output_type": "stream",
     "text": [
      "Populating the interactive namespace from numpy and matplotlib\n"
     ]
    }
   ],
   "source": [
    "import pandas as pd \n",
    "import numpy as np\n",
    "%pylab inline "
   ]
  },
  {
   "cell_type": "code",
   "execution_count": 7,
   "metadata": {},
   "outputs": [],
   "source": [
    "# Read in the data \n",
    "df = pd.read_csv(\"familyData.csv\")\n",
    "categoricalFeatures = [\"employmentStatus\", \"ownership\", \"participation\"]\n",
    "\n",
    "numericalFeatures = ['liquidWealth', 'laborIncome', 'costPerPerson', 'totalExpense',\n",
    "                        'investmentAmount', 'annuityIRA', 'wealthWithoutHomeEquity', \n",
    "                        'wealthWithHomeEquity', 'HomeEquity','stockInvestmentRatio']\n",
    "\n",
    "features = categoricalFeatures + numericalFeatures\n",
    "df_features = df[features]\n",
    "# Standardize the data\n",
    "from sklearn.preprocessing import StandardScaler\n",
    "scaler = StandardScaler()\n",
    "df_features[numericalFeatures] = scaler.fit_transform(df_features[numericalFeatures])"
   ]
  },
  {
   "cell_type": "code",
   "execution_count": 10,
   "metadata": {},
   "outputs": [],
   "source": [
    "from sklearn.cluster import KMeans\n",
    "kmeans = KMeans(n_clusters=2, random_state=0).fit(df_features)\n",
    "df['cluster'] = kmeans.labels_"
   ]
  },
  {
   "cell_type": "code",
   "execution_count": 29,
   "metadata": {},
   "outputs": [
    {
     "data": {
      "text/plain": [
       "cluster  education   \n",
       "0        college         0.542893\n",
       "         postGraduate    0.283920\n",
       "         highSchool      0.148735\n",
       "         middleSchool    0.024452\n",
       "1        postGraduate    0.701752\n",
       "         college         0.275705\n",
       "         highSchool      0.021894\n",
       "         middleSchool    0.000649\n",
       "Name: education, dtype: float64"
      ]
     },
     "execution_count": 29,
     "metadata": {},
     "output_type": "execute_result"
    }
   ],
   "source": [
    "df.groupby('cluster').education.value_counts(normalize=True)"
   ]
  },
  {
   "cell_type": "code",
   "execution_count": 30,
   "metadata": {},
   "outputs": [
    {
     "data": {
      "text/plain": [
       "cluster  industry   \n",
       "0        noneFinance    0.972848\n",
       "         finance        0.027152\n",
       "1        noneFinance    0.951022\n",
       "         finance        0.048978\n",
       "Name: industry, dtype: float64"
      ]
     },
     "execution_count": 30,
     "metadata": {},
     "output_type": "execute_result"
    }
   ],
   "source": [
    "df.groupby('cluster').industry.value_counts(normalize=True)"
   ]
  },
  {
   "cell_type": "code",
   "execution_count": 32,
   "metadata": {},
   "outputs": [
    {
     "data": {
      "text/html": [
       "<div>\n",
       "<style scoped>\n",
       "    .dataframe tbody tr th:only-of-type {\n",
       "        vertical-align: middle;\n",
       "    }\n",
       "\n",
       "    .dataframe tbody tr th {\n",
       "        vertical-align: top;\n",
       "    }\n",
       "\n",
       "    .dataframe thead th {\n",
       "        text-align: right;\n",
       "    }\n",
       "</style>\n",
       "<table border=\"1\" class=\"dataframe\">\n",
       "  <thead>\n",
       "    <tr style=\"text-align: right;\">\n",
       "      <th></th>\n",
       "      <th>liquidWealth</th>\n",
       "      <th>laborIncome</th>\n",
       "      <th>costPerPerson</th>\n",
       "      <th>totalExpense</th>\n",
       "      <th>investmentAmount</th>\n",
       "      <th>annuityIRA</th>\n",
       "      <th>wealthWithoutHomeEquity</th>\n",
       "      <th>wealthWithHomeEquity</th>\n",
       "      <th>HomeEquity</th>\n",
       "      <th>stockInvestmentRatio</th>\n",
       "    </tr>\n",
       "    <tr>\n",
       "      <th>cluster</th>\n",
       "      <th></th>\n",
       "      <th></th>\n",
       "      <th></th>\n",
       "      <th></th>\n",
       "      <th></th>\n",
       "      <th></th>\n",
       "      <th></th>\n",
       "      <th></th>\n",
       "      <th></th>\n",
       "      <th></th>\n",
       "    </tr>\n",
       "  </thead>\n",
       "  <tbody>\n",
       "    <tr>\n",
       "      <th>0</th>\n",
       "      <td>7.872066</td>\n",
       "      <td>42.112789</td>\n",
       "      <td>13.909241</td>\n",
       "      <td>31.205714</td>\n",
       "      <td>2.877291</td>\n",
       "      <td>9.764158</td>\n",
       "      <td>39.068785</td>\n",
       "      <td>77.456276</td>\n",
       "      <td>38.387460</td>\n",
       "      <td>0.024998</td>\n",
       "    </tr>\n",
       "    <tr>\n",
       "      <th>1</th>\n",
       "      <td>83.256439</td>\n",
       "      <td>105.512246</td>\n",
       "      <td>25.191750</td>\n",
       "      <td>58.652423</td>\n",
       "      <td>198.646854</td>\n",
       "      <td>200.150851</td>\n",
       "      <td>834.132308</td>\n",
       "      <td>1097.293745</td>\n",
       "      <td>263.161406</td>\n",
       "      <td>0.264649</td>\n",
       "    </tr>\n",
       "  </tbody>\n",
       "</table>\n",
       "</div>"
      ],
      "text/plain": [
       "         liquidWealth  laborIncome  costPerPerson  totalExpense  \\\n",
       "cluster                                                           \n",
       "0            7.872066    42.112789      13.909241     31.205714   \n",
       "1           83.256439   105.512246      25.191750     58.652423   \n",
       "\n",
       "         investmentAmount  annuityIRA  wealthWithoutHomeEquity  \\\n",
       "cluster                                                          \n",
       "0                2.877291    9.764158                39.068785   \n",
       "1              198.646854  200.150851               834.132308   \n",
       "\n",
       "         wealthWithHomeEquity  HomeEquity  stockInvestmentRatio  \n",
       "cluster                                                          \n",
       "0                   77.456276   38.387460              0.024998  \n",
       "1                 1097.293745  263.161406              0.264649  "
      ]
     },
     "execution_count": 32,
     "metadata": {},
     "output_type": "execute_result"
    }
   ],
   "source": [
    "df.groupby('cluster')[numericalFeatures].mean()"
   ]
  }
 ],
 "metadata": {
  "kernelspec": {
   "display_name": "Python 3.9.12 ('base')",
   "language": "python",
   "name": "python3"
  },
  "language_info": {
   "codemirror_mode": {
    "name": "ipython",
    "version": 3
   },
   "file_extension": ".py",
   "mimetype": "text/x-python",
   "name": "python",
   "nbconvert_exporter": "python",
   "pygments_lexer": "ipython3",
   "version": "3.8.8"
  },
  "orig_nbformat": 4,
  "vscode": {
   "interpreter": {
    "hash": "032c7fdc51ab15a7798451a31a40447e5e1daf5e19bcdc3321b815dde5b34a39"
   }
  }
 },
 "nbformat": 4,
 "nbformat_minor": 2
}
